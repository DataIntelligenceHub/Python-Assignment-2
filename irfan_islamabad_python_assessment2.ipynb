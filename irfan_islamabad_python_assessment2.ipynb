{
 "cells": [
  {
   "cell_type": "code",
   "execution_count": 3,
   "metadata": {
    "collapsed": false
   },
   "outputs": [],
   "source": [
    "import pandas as pd\n",
    "import numpy as np\n",
    "df = pd.read_csv(\"hospitaldata.csv\", sep=\",\", na_values=\"-\")\n",
    "# print \"file has been added\"\n"
   ]
  },
  {
   "cell_type": "markdown",
   "metadata": {},
   "source": [
    "# Question 1."
   ]
  },
  {
   "cell_type": "code",
   "execution_count": 4,
   "metadata": {
    "collapsed": false
   },
   "outputs": [
    {
     "name": "stdout",
     "output_type": "stream",
     "text": [
      "Index([u'Date', u'id', u'Time', u'Age', u'Sex', u'Consulting_Doctor',\n",
      "       u'Specialty', u'Procedure', u'Total_Charges', u'Amount_Received_',\n",
      "       u'Amount_Balance', u'Amount_Received_By', u'Amount_in_Hospital',\n",
      "       u'Receptionist_Name', u'Next_Apt'],\n",
      "      dtype='object')\n",
      "*************************************\n",
      "*************************************\n"
     ]
    }
   ],
   "source": [
    "# Q1.  remove the dots in the names\n",
    "df = df.rename(columns=lambda x: x.replace('.', ' '))\n",
    "df = df.rename(columns=lambda x: x.replace('  ', '_'))\n",
    "df = df.rename(columns=lambda x: x.replace(' ', '_'))\n",
    "print df.columns\n",
    "print \"*************************************\"\n",
    "print \"*************************************\""
   ]
  },
  {
   "cell_type": "markdown",
   "metadata": {},
   "source": [
    "# Question 2."
   ]
  },
  {
   "cell_type": "code",
   "execution_count": 5,
   "metadata": {
    "collapsed": false
   },
   "outputs": [
    {
     "name": "stdout",
     "output_type": "stream",
     "text": [
      "51\n",
      "Monday\n",
      "*************************************\n",
      "*************************************\n"
     ]
    }
   ],
   "source": [
    "# Q2. Which day of the week is expected to have most visits? \n",
    "\n",
    "new_df = pd.DataFrame(df.Date.str.split(',',1).tolist(), columns = ['Day','Date'])\n",
    "print new_df['Day'].value_counts().max()\n",
    "print new_df['Day'].value_counts().idxmax()\n",
    "print \"*************************************\"\n",
    "print \"*************************************\""
   ]
  }
 ],
 "metadata": {
  "kernelspec": {
   "display_name": "Python 2",
   "language": "python",
   "name": "python2"
  },
  "language_info": {
   "codemirror_mode": {
    "name": "ipython",
    "version": 2
   },
   "file_extension": ".py",
   "mimetype": "text/x-python",
   "name": "python",
   "nbconvert_exporter": "python",
   "pygments_lexer": "ipython2",
   "version": "2.7.13"
  }
 },
 "nbformat": 4,
 "nbformat_minor": 2
}
