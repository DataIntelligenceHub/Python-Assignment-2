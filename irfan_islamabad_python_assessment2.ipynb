{
 "cells": [
  {
   "cell_type": "code",
   "execution_count": 474,
   "metadata": {
    "collapsed": false
   },
   "outputs": [],
   "source": [
    "import pandas as pd\n",
    "import numpy as np\n",
    "df = pd.read_csv(\"hospitaldata.csv\", sep=\",\", na_values=\"-\")\n",
    "# print \"file has been added\"\n"
   ]
  },
  {
   "cell_type": "markdown",
   "metadata": {},
   "source": [
    "# Question 1."
   ]
  },
  {
   "cell_type": "code",
   "execution_count": 475,
   "metadata": {
    "collapsed": false
   },
   "outputs": [
    {
     "name": "stdout",
     "output_type": "stream",
     "text": [
      "Index([u'Date', u'id', u'Time', u'Age', u'Sex', u'Consulting_Doctor',\n",
      "       u'Specialty', u'Procedure', u'Total_Charges', u'Amount_Received_',\n",
      "       u'Amount_Balance', u'Amount_Received_By', u'Amount_in_Hospital',\n",
      "       u'Receptionist_Name', u'Next_Apt'],\n",
      "      dtype='object')\n",
      "*************************************\n",
      "*************************************\n"
     ]
    }
   ],
   "source": [
    "# Q1.  remove the dots in the names\n",
    "df = df.rename(columns=lambda x: x.replace('.', ' '))\n",
    "df = df.rename(columns=lambda x: x.replace('  ', '_'))\n",
    "df = df.rename(columns=lambda x: x.replace(' ', '_'))\n",
    "print df.columns\n",
    "print \"*************************************\"\n",
    "print \"*************************************\""
   ]
  }
 ],
 "metadata": {
  "kernelspec": {
   "display_name": "Python 2",
   "language": "python",
   "name": "python2"
  },
  "language_info": {
   "codemirror_mode": {
    "name": "ipython",
    "version": 2
   },
   "file_extension": ".py",
   "mimetype": "text/x-python",
   "name": "python",
   "nbconvert_exporter": "python",
   "pygments_lexer": "ipython2",
   "version": "2.7.13"
  }
 },
 "nbformat": 4,
 "nbformat_minor": 2
}
