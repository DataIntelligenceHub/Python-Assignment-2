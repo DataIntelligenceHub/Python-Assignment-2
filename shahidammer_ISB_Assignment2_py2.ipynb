{
 "cells": [
  {
   "cell_type": "markdown",
   "metadata": {},
   "source": [
    "# Importing Modules\n"
   ]
  },
  {
   "cell_type": "code",
   "execution_count": 4,
   "metadata": {
    "collapsed": true
   },
   "outputs": [],
   "source": [
    "import pandas as pd\n",
    "import numpy as np\n",
    "import matplotlib.pyplot as plt\n",
    "import re\n",
    "import datetime as dt\n",
    "from collections import Counter\n"
   ]
  },
  {
   "cell_type": "markdown",
   "metadata": {
    "collapsed": true
   },
   "source": [
    "# Load data and clean"
   ]
  },
  {
   "cell_type": "code",
   "execution_count": 8,
   "metadata": {
    "collapsed": false,
    "scrolled": false
   },
   "outputs": [
    {
     "name": "stdout",
     "output_type": "stream",
     "text": [
      "                            Date   id     Time  Age  Sex Consulting..Doctor  \\\n",
      "0       Sunday, January 01, 2017  101    11:00   40    F      Dr Kinza Alam   \n",
      "1       Monday, January 02, 2017  150  10:45AM   26    M      Nursing Staff   \n",
      "2       Monday, January 02, 2017   58  12:38PM   30    F   Dr Riffat Naheed   \n",
      "3       Monday, January 02, 2017   75   1:00PM   40    M   Dr Riffat Naheed   \n",
      "4       Monday, January 02, 2017   97   2:45PM   27    M   Dr Riffat Naheed   \n",
      "5       Monday, January 02, 2017  101   3:00PM   40    F      Dr Kinza Alam   \n",
      "6       Monday, January 02, 2017   26   3:28PM   43    M          Dr Saniya   \n",
      "7       Monday, January 02, 2017  149   3:45PM   28    F          Dr Fakiha   \n",
      "8       Monday, January 02, 2017   20   3:45PM    2    F          Dr Fakiha   \n",
      "9       Monday, January 02, 2017   72   5:00PM   40    M          Dr Fakiha   \n",
      "10      Monday, January 02, 2017   54   5:00PM   32    F          Dr Saniya   \n",
      "11      Monday, January 02, 2017  149   5:30PM   28    F          Dr Fakiha   \n",
      "12     Tuesday, January 03, 2017  120   1:00PM   76    F          Dr Saniya   \n",
      "13     Tuesday, January 03, 2017  120   3:25PM   75    F          Dr Saniya   \n",
      "14     Tuesday, January 03, 2017   20   6:10PM   36    F      Dr Kinza Alam   \n",
      "15   Wednesday, January 04, 2017   40  11:45PM   42    F       Dr Alaf Khan   \n",
      "16   Wednesday, January 04, 2017  134  12:40PM   23    F       Dr Alaf Khan   \n",
      "17   Wednesday, January 04, 2017   86   8:10PM   48    F      Dr Kinza Alam   \n",
      "18   Wednesday, January 04, 2017  114   8:30PM   25    F      Dr Kinza Alam   \n",
      "19    Thursday, January 05, 2017  155  12:40PM   50    F       Dr Alaf Khan   \n",
      "20    Thursday, January 05, 2017   45   2:00PM   60    F       Dr Alaf Khan   \n",
      "21    Thursday, January 05, 2017    4   2:00PM  NaN    M           Dr Irfan   \n",
      "22      Friday, January 06, 2017   38  12:30PM  NaN    M   Dr Riffat Naheed   \n",
      "23      Friday, January 06, 2017  130   1:00PM   26    M   Dr Riffat Naheed   \n",
      "24      Friday, January 06, 2017   97   1:30PM   27    M   Dr Riffat Naheed   \n",
      "25      Friday, January 06, 2017   50      NaN  NaN    M       Dr Alaf Khan   \n",
      "26      Friday, January 06, 2017   78   8:15PM   57    F             Dr Ali   \n",
      "27    Saturday, January 07, 2017    1      NaN  NaN  NaN      Nursing Staff   \n",
      "28      Monday, January 09, 2017   48  12:36PM   39    F       Dr Alaf Khan   \n",
      "29      Monday, January 09, 2017   79   1:30PM    6    F       Dr Alaf Khan   \n",
      "..                           ...  ...      ...  ...  ...                ...   \n",
      "192       Friday, March 03, 2017  138  11:20AM   45    F       Dr Alaf Khan   \n",
      "193       Friday, March 03, 2017  107  12:30PM   17    F       Dr Alaf Khan   \n",
      "194       Friday, March 03, 2017   34   1:30PM   22    M       Dr Alaf Khan   \n",
      "195       Friday, March 03, 2017  133   4:10PM   30    F             Dr Ali   \n",
      "196       Friday, March 03, 2017   46   5:45PM   17    M      Nursing Staff   \n",
      "197       Friday, March 03, 2017   74   2:40PM   38    M     Dr Waqar Azeem   \n",
      "198       Sunday, March 05, 2017   46      NaN   17    M      Nursing Staff   \n",
      "199       Monday, March 06, 2017   83   1:20PM   34    M       Dr Alaf Khan   \n",
      "200       Monday, March 06, 2017   61   5:30PM   28    F    Dr Qurat ul Ain   \n",
      "201       Monday, March 06, 2017  122   7:00PM   78    M      Nursing Staff   \n",
      "202      Tuesday, March 07, 2017   95      NaN   56    M       Dr Alaf Khan   \n",
      "203      Tuesday, March 07, 2017   69   3:00PM   53    M       Dr Alaf Khan   \n",
      "204      Tuesday, March 07, 2017  146      NaN   21    M           Dr Ammad   \n",
      "205      Tuesday, March 07, 2017   46   7:40PM   17    M      Nursing Staff   \n",
      "206      Tuesday, March 07, 2017   32   2:00PM  NaN    F      Nursing Staff   \n",
      "207      Tuesday, March 07, 2017  122   9:35PM   78    M      Nursing Staff   \n",
      "208    Wednesday, March 08, 2017  148   8:30PM    3    F      Nursing Staff   \n",
      "209    Wednesday, March 08, 2017  122  10:00PM   76    M      Nursing Staff   \n",
      "210    Wednesday, March 08, 2017   10   4:45PM    9    F    Dr Qurat ul Ain   \n",
      "211    Wednesday, March 08, 2017   76   6:55PM   32    M            Dr Paul   \n",
      "212    Wednesday, March 08, 2017    1  12:00PM  NaN    F      Nursing Staff   \n",
      "213    Wednesday, March 08, 2017   25   7:30PM  NaN    F      Dr Kinza Alam   \n",
      "214     Thursday, March 09, 2017   77  12:00PM   24    M       Dr Alaf Khan   \n",
      "215     Thursday, March 09, 2017  121   9:00AM    3    F      Nursing Staff   \n",
      "216     Thursday, March 09, 2017  122      NaN   76    M      Nursing Staff   \n",
      "217     Thursday, March 09, 2017    1      NaN  NaN  NaN      Nursing Staff   \n",
      "218     Thursday, March 09, 2017   18   3:30PM   39    M       Dr Alaf Khan   \n",
      "219     Thursday, March 09, 2017  110   6:00PM   30    M    Dr Qurat ul Ain   \n",
      "220       Friday, March 10, 2017  122  10:20AM   76    M      Nursing Staff   \n",
      "221       Friday, March 10, 2017  105  11:20PM   45    F         Dr Shireen   \n",
      "\n",
      "            Specialty                Procedure Total..Charges  \\\n",
      "0               Gynae                C Section          30000   \n",
      "1                 NaN                 Dressing           1500   \n",
      "2     Psychotherapist             Consultation           1000   \n",
      "3     Psychotherapist             Consultation           1500   \n",
      "4     Psychotherapist             Consultation           2000   \n",
      "5               Gynae                C Section          35000   \n",
      "6                 M/o             Consultation           2000   \n",
      "7             Dentist             Consultation            500   \n",
      "8             Dentist             Consultation      Cancelled   \n",
      "9             Dentist             Consultation            500   \n",
      "10                M/o             Consultation           2000   \n",
      "11            Dentist                  Filling           2000   \n",
      "12                M/o          Laboratory Test            NaN   \n",
      "13                M/o                      NaN      Cancelled   \n",
      "14              Gynae             Consultation           1500   \n",
      "15            Dentist     Consultation+Denture           1500   \n",
      "16            Dentist             Consultation            500   \n",
      "17              Gynae             Consultation           1500   \n",
      "18              Gynae             Consultation           1000   \n",
      "19            Dentist               Extraction           2000   \n",
      "20            Dentist            R.P.D + Crown           4000   \n",
      "21    General Surgeon  Consultation + Dressing           5000   \n",
      "22    Psychotherapist             Consultation           1000   \n",
      "23    Psychotherapist             Consultation           1000   \n",
      "24    Psychotherapist             Consultation           1000   \n",
      "25            Dentist             Consultation            500   \n",
      "26         Orthopedic             Consultation           6000   \n",
      "27                NaN                 Pharmacy            NaN   \n",
      "28            Dentist             Consultation            500   \n",
      "29            Dentist             Consultation            500   \n",
      "..                ...                      ...            ...   \n",
      "192           Dentist             Consultation            500   \n",
      "193           Dentist              R.C.T+Crown           8000   \n",
      "194           Dentist                    Crown           2000   \n",
      "195  Child Specialist             Consultation           1000   \n",
      "196               NaN                 Dressing            300   \n",
      "197       Radiologist                  USG KUB           1000   \n",
      "198               NaN                 Dressing            300   \n",
      "199           Dentist             Consultation            500   \n",
      "200           Dentist       Consultation+X Ray            950   \n",
      "201               NaN                Injection            100   \n",
      "202           Dentist                    X Ray            300   \n",
      "203           Dentist                      NaN          15000   \n",
      "204               M/o             Consultation            500   \n",
      "205               NaN                 Dressing            200   \n",
      "206               NaN                  Coupety            300   \n",
      "207               NaN                Injection            100   \n",
      "208               NaN                Injection            100   \n",
      "209               NaN                Injection            100   \n",
      "210           Dentist       Consultation+x Ray            650   \n",
      "211     Dermatologist             Consultation           1500   \n",
      "212               NaN                Injection            150   \n",
      "213             Gynae             Consultation           1500   \n",
      "214           Dentist                    R.C.T           5000   \n",
      "215               NaN                Injection            100   \n",
      "216               NaN                Injection            100   \n",
      "217               NaN                Cancelled            NaN   \n",
      "218           Dentist       Scalling+Polishing           4000   \n",
      "219           Dentist             Consultation            200   \n",
      "220               NaN                Injection            100   \n",
      "221               M/o             Consultation            800   \n",
      "\n",
      "     Amount..Received. Amount..Balance Amount.Received.By  Amount.in.Hospital  \\\n",
      "0              30000.0            -           Mrs Shamsa                  NaN   \n",
      "1               1500.0            -            Dr Saniya                  NaN   \n",
      "2               1000.0            -           Mrs Shamsa                300.0   \n",
      "3               1500.0            -           Mrs Shamsa                450.0   \n",
      "4               2000.0            -           Mrs Shamsa                600.0   \n",
      "5              35000.0            -            Dr Saniya                  NaN   \n",
      "6               2000.0            -            Dr Saniya                  NaN   \n",
      "7                500.0            -           Mrs Shamsa                500.0   \n",
      "8                  NaN             NaN                NaN                 NaN   \n",
      "9                500.0            -           Mrs Shamsa                500.0   \n",
      "10              2000.0            -            Dr Saniya                  NaN   \n",
      "11              2000.0            -           Mrs Shamsa               2000.0   \n",
      "12                 NaN            -                   NaN                 NaN   \n",
      "13                 NaN             NaN                NaN                 NaN   \n",
      "14              1500.0            -           Mrs Shamsa                450.0   \n",
      "15              1500.0            -         Brig Farrukh                  NaN   \n",
      "16               500.0            -         Brig Farrukh                500.0   \n",
      "17              1500.0            -         Brig Farrukh                450.0   \n",
      "18              1000.0            -         Brig Farrukh                300.0   \n",
      "19              2000.0            -         Brig Farrukh               2000.0   \n",
      "20              4000.0             NaN      Brig Farrukh               4000.0   \n",
      "21              5000.0            -         Brig Farrukh               4000.0   \n",
      "22              1000.0            -           Mrs Shamsa                300.0   \n",
      "23              1000.0            -           Mrs Shamsa                300.0   \n",
      "24              1000.0            -           Mrs Shamsa                300.0   \n",
      "25               500.0            -           Mrs Shamsa                500.0   \n",
      "26              6000.0            -           Mrs Shamsa               3000.0   \n",
      "27                 NaN            -                   NaN                 NaN   \n",
      "28               500.0            -           Mrs Shamsa                500.0   \n",
      "29               500.0            -           Mrs Shamsa                500.0   \n",
      "..                 ...             ...                ...                 ...   \n",
      "192              500.0            -             Dr Ammad                500.0   \n",
      "193             8000.0            -             Dr Ammad               8000.0   \n",
      "194             2000.0            -             Dr Ammad               2000.0   \n",
      "195             1000.0            -             Dr Ammad                300.0   \n",
      "196              300.0            -             Dr Ammad                300.0   \n",
      "197             1000.0            -             Dr Ammad                300.0   \n",
      "198              300.0            -             Dr Ammad                200.0   \n",
      "199              500.0            -             Dr Ammad                500.0   \n",
      "200              950.0            -             Dr Ammad                950.0   \n",
      "201              100.0            -             Dr Ammad                100.0   \n",
      "202              300.0            -             Dr Ammad                300.0   \n",
      "203            15000.0            -             Dr Ammad              15000.0   \n",
      "204              500.0            -             Dr Ammad                500.0   \n",
      "205              200.0            -             Dr Ammad                200.0   \n",
      "206              300.0            -             Dr Ammad                300.0   \n",
      "207              100.0            -             Dr Ammad                100.0   \n",
      "208              100.0            -             Dr Ammad                100.0   \n",
      "209              100.0            -             Dr Ammad                100.0   \n",
      "210              650.0            -             Dr Ammad                650.0   \n",
      "211             1000.0             500          Dr Ammad                300.0   \n",
      "212              150.0            -             Dr Ammad                150.0   \n",
      "213             1500.0            -             Dr Ammad                500.0   \n",
      "214             2000.0        3,000.00          Dr Ammad               2000.0   \n",
      "215              100.0            -             Dr Ammad                100.0   \n",
      "216              100.0            -             Dr Ammad                100.0   \n",
      "217                NaN            -             Dr Ammad                  NaN   \n",
      "218             4000.0            -             Dr Ammad               4000.0   \n",
      "219              200.0            -             Dr Ammad                200.0   \n",
      "220              100.0            -             Dr Ammad                100.0   \n",
      "221              800.0            -             Dr Ammad                800.0   \n",
      "\n",
      "    Receptionist..Name         Next.Apt  \n",
      "0                Hamza              NaN  \n",
      "1                Haris              NaN  \n",
      "2                 Fiza              NaN  \n",
      "3               Zaheer              NaN  \n",
      "4                Haris              NaN  \n",
      "5                Haris              NaN  \n",
      "6                 Fiza              NaN  \n",
      "7                Haris              NaN  \n",
      "8                  NaN              NaN  \n",
      "9                 Fiza              NaN  \n",
      "10                Fiza              NaN  \n",
      "11                Fiza  In case of pain  \n",
      "12               Haris              NaN  \n",
      "13                 NaN              NaN  \n",
      "14               Haris              NaN  \n",
      "15                Fiza              NaN  \n",
      "16                Fiza              NaN  \n",
      "17               Haris              NaN  \n",
      "18               Haris              NaN  \n",
      "19                Fiza              NaN  \n",
      "20               Haris              NaN  \n",
      "21               Haris              NaN  \n",
      "22               Haris              NaN  \n",
      "23               Haris              NaN  \n",
      "24               Haris              NaN  \n",
      "25               Haris              NaN  \n",
      "26               Haris              NaN  \n",
      "27                 NaN              NaN  \n",
      "28                Fiza              NaN  \n",
      "29                Fiza              NaN  \n",
      "..                 ...              ...  \n",
      "192              Saima              NaN  \n",
      "193              Saima         3/9/2017  \n",
      "194              Saima         3/8/2017  \n",
      "195              Saima              NaN  \n",
      "196              Saima              NaN  \n",
      "197             Sub KB              NaN  \n",
      "198              Saima              NaN  \n",
      "199              Saima              NaN  \n",
      "200              Haris              NaN  \n",
      "201              Saima              NaN  \n",
      "202              Saima              NaN  \n",
      "203               Mona              NaN  \n",
      "204              Saima              NaN  \n",
      "205              Saima              NaN  \n",
      "206              Saima              NaN  \n",
      "207             Sub KB              NaN  \n",
      "208             Ashfaq              NaN  \n",
      "209             Ashfaq              NaN  \n",
      "210              Saima              NaN  \n",
      "211               Mona              NaN  \n",
      "212               Mona              NaN  \n",
      "213               Mona              NaN  \n",
      "214              Haris        3/16/2017  \n",
      "215               Mona              NaN  \n",
      "216               Mona              NaN  \n",
      "217              Saima              NaN  \n",
      "218              Saima              NaN  \n",
      "219              Saima              NaN  \n",
      "220             Zaheer              NaN  \n",
      "221               Mona              NaN  \n",
      "\n",
      "[222 rows x 15 columns]\n"
     ]
    }
   ],
   "source": [
    "\n",
    "# Read the data from file \n",
    "df = pd.read_csv('hospitaldata.csv', sep=',', na_values=['-'])\n",
    "print df"
   ]
  },
  {
   "cell_type": "markdown",
   "metadata": {},
   "source": [
    "# 1. Please remove the dots in the names, so it may become easier for you to work through it."
   ]
  },
  {
   "cell_type": "code",
   "execution_count": 9,
   "metadata": {
    "collapsed": false
   },
   "outputs": [
    {
     "data": {
      "text/plain": [
       "Index([u'Date', u'id', u'Time', u'Age', u'Sex', u'ConsultingDoctor',\n",
       "       u'Specialty', u'Procedure', u'TotalCharges', u'AmountReceived',\n",
       "       u'AmountBalance', u'AmountReceivedBy', u'AmountinHospital',\n",
       "       u'ReceptionistName', u'NextApt'],\n",
       "      dtype='object')"
      ]
     },
     "execution_count": 9,
     "metadata": {},
     "output_type": "execute_result"
    }
   ],
   "source": [
    "def replace_dots(col):\n",
    "    return re.sub('\\.?\\.', '', col)\n",
    "\n",
    "df.columns = list(map(replace_dots, df.columns))\n",
    "df.columns"
   ]
  },
  {
   "cell_type": "markdown",
   "metadata": {},
   "source": [
    "# 2. Which day of the week is expected to have most visits?\n"
   ]
  },
  {
   "cell_type": "code",
   "execution_count": 10,
   "metadata": {
    "collapsed": false
   },
   "outputs": [
    {
     "name": "stdout",
     "output_type": "stream",
     "text": [
      "Most Frequent day is Monday with 51 visits\n"
     ]
    }
   ],
   "source": [
    "subdf = pd.DataFrame(df.Date.str.split(',',1).tolist(),columns = ['Day', 'Date'])\n",
    "most_freq_visit = max(subdf.Day.value_counts().iteritems(), key=lambda x: x[1])\n",
    "print 'Most Frequent day is %s with %s visits' %  (most_freq_visit[0], most_freq_visit[1])"
   ]
  },
  {
   "cell_type": "markdown",
   "metadata": {},
   "source": [
    "# 3. What is the average age of patients?\n"
   ]
  },
  {
   "cell_type": "code",
   "execution_count": 11,
   "metadata": {
    "collapsed": false
   },
   "outputs": [
    {
     "name": "stdout",
     "output_type": "stream",
     "text": [
      "Average age of patients is: 30.0\n"
     ]
    }
   ],
   "source": [
    "df['Age'] = pd.to_numeric(df['Age'], errors='coerce')\n",
    "print 'Average age of patients is:', df['Age'].median()"
   ]
  },
  {
   "cell_type": "markdown",
   "metadata": {},
   "source": [
    "# 4. How many children were entertained? (Make a Bracket of Age from 1-12)\n"
   ]
  },
  {
   "cell_type": "code",
   "execution_count": 12,
   "metadata": {
    "collapsed": false
   },
   "outputs": [
    {
     "name": "stdout",
     "output_type": "stream",
     "text": [
      "23 Childrens were entertained.\n"
     ]
    }
   ],
   "source": [
    "print \"%s Childrens were entertained.\" %(len(filter(lambda x: x < 12, df['Age'])))\n"
   ]
  },
  {
   "cell_type": "markdown",
   "metadata": {},
   "source": [
    "# 5. Which gender type had what kind of procedure in abundance? i.e. Female visit mostly because of Gynae Problem"
   ]
  },
  {
   "cell_type": "code",
   "execution_count": 13,
   "metadata": {
    "collapsed": false
   },
   "outputs": [
    {
     "name": "stdout",
     "output_type": "stream",
     "text": [
      "Sex\n",
      "F               Dentist\n",
      "M               Dentist\n",
      "NAN    Child Specialist\n",
      "Name: Specialty, dtype: object\n"
     ]
    }
   ],
   "source": [
    "df['Sex'] = map(lambda x: str(x).upper(), df['Sex'])\n",
    "print df.groupby(['Sex']).Specialty.agg(lambda x:x.value_counts().index[0])"
   ]
  },
  {
   "cell_type": "markdown",
   "metadata": {},
   "source": [
    "# 6. Which Doctor is earning highest?"
   ]
  },
  {
   "cell_type": "code",
   "execution_count": 14,
   "metadata": {
    "collapsed": false
   },
   "outputs": [
    {
     "name": "stdout",
     "output_type": "stream",
     "text": [
      "Dr Alaf Khan  earns  513050.0\n"
     ]
    }
   ],
   "source": [
    "df['TotalCharges'] = pd.to_numeric(df['TotalCharges'], errors='coerce')\n",
    "print df.groupby(['ConsultingDoctor']).TotalCharges.aggregate(np.sum).idxmax(), \" earns \", df.groupby(['ConsultingDoctor']).TotalCharges.aggregate(np.sum).max() \n"
   ]
  },
  {
   "cell_type": "markdown",
   "metadata": {},
   "source": [
    "# 7. Which procedure type earns more money?"
   ]
  },
  {
   "cell_type": "code",
   "execution_count": 15,
   "metadata": {
    "collapsed": false
   },
   "outputs": [
    {
     "name": "stdout",
     "output_type": "stream",
     "text": [
      "Orthodontics  earns  240000.0\n"
     ]
    }
   ],
   "source": [
    "print df.groupby(['Procedure']).TotalCharges.aggregate(np.sum).idxmax(), \" earns \", df.groupby(['Procedure']).TotalCharges.aggregate(np.sum).max() \n"
   ]
  },
  {
   "cell_type": "markdown",
   "metadata": {},
   "source": [
    "# 8. Which time of the day has highest frequency of visits by hour?"
   ]
  },
  {
   "cell_type": "code",
   "execution_count": 16,
   "metadata": {
    "collapsed": false
   },
   "outputs": [
    {
     "name": "stdout",
     "output_type": "stream",
     "text": [
      "Most Frequent Hour in an day:  (13, 29)\n"
     ]
    }
   ],
   "source": [
    "def returnHour(tmx):\n",
    "    if pd.isnull(tmx):\n",
    "        return tmx\n",
    "    \n",
    "    if tmx[len(tmx) -2] == 'P':\n",
    "        return pd.to_numeric(tmx.split(\":\")[0]) + 12\n",
    "    return pd.to_numeric(tmx.split(\":\")[0])\n",
    "myList = list(map(returnHour, df['Time'] ))\n",
    " \n",
    "print 'Most Frequent Hour in an day: ', Counter(myList).most_common()[0]\n"
   ]
  },
  {
   "cell_type": "markdown",
   "metadata": {},
   "source": [
    "# 9. Create a bracket of time by Morning, Afternoon, Evening, Night (6am – 12pm – Morning, 12 pm- 4 pm, Afternoon, 4 pm- 7pm, Evening, 7pm – 6 am, Night)."
   ]
  },
  {
   "cell_type": "code",
   "execution_count": null,
   "metadata": {
    "collapsed": true
   },
   "outputs": [],
   "source": []
  }
 ],
 "metadata": {
  "kernelspec": {
   "display_name": "Python 2",
   "language": "python",
   "name": "python2"
  },
  "language_info": {
   "codemirror_mode": {
    "name": "ipython",
    "version": 2
   },
   "file_extension": ".py",
   "mimetype": "text/x-python",
   "name": "python",
   "nbconvert_exporter": "python",
   "pygments_lexer": "ipython2",
   "version": "2.7.13"
  }
 },
 "nbformat": 4,
 "nbformat_minor": 2
}
