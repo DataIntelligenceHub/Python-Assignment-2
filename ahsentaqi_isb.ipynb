{
 "cells": [
  {
   "cell_type": "code",
   "execution_count": 196,
   "metadata": {
    "collapsed": true
   },
   "outputs": [],
   "source": [
    "%matplotlib inline\n",
    "import pandas as pd\n",
    "import numpy as np\n",
    "import matplotlib as mp\n",
    "import csv"
   ]
  },
  {
   "cell_type": "code",
   "execution_count": 62,
   "metadata": {
    "collapsed": false
   },
   "outputs": [],
   "source": [
    "hsptldf = pd.read_csv('hospitaldata.csv', sep=',', na_values='-')"
   ]
  },
  {
   "cell_type": "markdown",
   "metadata": {},
   "source": [
    "# Question # 1\n",
    "\n"
   ]
  },
  {
   "cell_type": "markdown",
   "metadata": {},
   "source": [
    "\n"
   ]
  },
  {
   "cell_type": "code",
   "execution_count": 63,
   "metadata": {
    "collapsed": true
   },
   "outputs": [],
   "source": [
    "hsptldf.columns = hsptldf.columns.str.replace('.',\"\")"
   ]
  },
  {
   "cell_type": "markdown",
   "metadata": {},
   "source": [
    "# # Question # 2"
   ]
  },
  {
   "cell_type": "code",
   "execution_count": 94,
   "metadata": {
    "collapsed": false
   },
   "outputs": [
    {
     "data": {
      "text/plain": [
       "day      Monday\n",
       "count        51\n",
       "Name: 1, dtype: object"
      ]
     },
     "execution_count": 94,
     "metadata": {},
     "output_type": "execute_result"
    }
   ],
   "source": [
    "\n",
    "#separating days from Date and creating a new column\n",
    "hsptldf['day'] = hsptldf['Date'].str.extract('([A-Z]\\w{0,})', expand=True)\n",
    "#applying groupby function and getting the count of each group in 'count' column\n",
    "grpd =hsptldf.groupby([\"day\"]).size().reset_index(name='count')\n",
    "#printing the day with most visit and its count\n",
    "grpd.ix[grpd['count'].idxmax()]\n",
    "\n"
   ]
  },
  {
   "cell_type": "markdown",
   "metadata": {},
   "source": [
    "# # Question 3"
   ]
  },
  {
   "cell_type": "code",
   "execution_count": 105,
   "metadata": {
    "collapsed": false
   },
   "outputs": [
    {
     "data": {
      "text/plain": [
       "32.734375"
      ]
     },
     "execution_count": 105,
     "metadata": {},
     "output_type": "execute_result"
    }
   ],
   "source": [
    "\n",
    "hsptldf.Age.dtype\n",
    "#converting the type of Age to nymeric \n",
    "hsptldf.Age = pd.to_numeric(hsptldf.Age, errors = \"coerce\")\n",
    "hsptldf.Age.dtype\n",
    "# calculating mean and it it the average age of visiting patient\n",
    "np.mean(hsptldf.Age)"
   ]
  },
  {
   "cell_type": "markdown",
   "metadata": {},
   "source": [
    "##  Question 4"
   ]
  },
  {
   "cell_type": "code",
   "execution_count": 140,
   "metadata": {
    "collapsed": false
   },
   "outputs": [
    {
     "data": {
      "text/plain": [
       "23"
      ]
     },
     "execution_count": 140,
     "metadata": {},
     "output_type": "execute_result"
    }
   ],
   "source": [
    "# getting the total child patient within the age bracket and then finding total num of child patients\n",
    "child_patient =len( filter(lambda x: (x >= 1) and (x <= 12 ), hsptldf.Age ))\n",
    "child_patient"
   ]
  },
  {
   "cell_type": "markdown",
   "metadata": {},
   "source": [
    "# # Question 5"
   ]
  },
  {
   "cell_type": "code",
   "execution_count": 206,
   "metadata": {
    "collapsed": false
   },
   "outputs": [
    {
     "data": {
      "text/plain": [
       "<matplotlib.axes._subplots.AxesSubplot at 0xb2df860>"
      ]
     },
     "execution_count": 206,
     "metadata": {},
     "output_type": "execute_result"
    },
    {
     "data": {
      "image/png": "[encoded data removed]",
      "text/plain": [
       "<matplotlib.figure.Figure at 0xb67eb00>"
      ]
     },
     "metadata": {},
     "output_type": "display_data"
    }
   ],
   "source": [
    "import matplotlib.pyplot as mp\n",
    "\n",
    "#adding count column \n",
    "hsptldf['count'] = 1\n",
    "\n",
    "grp_specialty = hsptldf.groupby(['Sex','Specialty' ])['count'].sum()\n",
    "grp_specialty.plot(kind = 'bar')\n"
   ]
  },
  {
   "cell_type": "markdown",
   "metadata": {},
   "source": [
    "# # Question 6"
   ]
  },
  {
   "cell_type": "code",
   "execution_count": 234,
   "metadata": {
    "collapsed": false
   },
   "outputs": [
    {
     "data": {
      "text/html": [
       "<div>\n",
       "<table border=\"1\" class=\"dataframe\">\n",
       "  <thead>\n",
       "    <tr style=\"text-align: right;\">\n",
       "      <th></th>\n",
       "      <th>TotalCharges</th>\n",
       "    </tr>\n",
       "    <tr>\n",
       "      <th>ConsultingDoctor</th>\n",
       "      <th></th>\n",
       "    </tr>\n",
       "  </thead>\n",
       "  <tbody>\n",
       "    <tr>\n",
       "      <th>Dr Alaf Khan</th>\n",
       "      <td>513050.0</td>\n",
       "    </tr>\n",
       "    <tr>\n",
       "      <th>Dr Kinza Alam</th>\n",
       "      <td>76700.0</td>\n",
       "    </tr>\n",
       "    <tr>\n",
       "      <th>Dr Saad</th>\n",
       "      <td>52000.0</td>\n",
       "    </tr>\n",
       "    <tr>\n",
       "      <th>Dr Ali</th>\n",
       "      <td>26100.0</td>\n",
       "    </tr>\n",
       "    <tr>\n",
       "      <th>Dr Fakiha</th>\n",
       "      <td>22600.0</td>\n",
       "    </tr>\n",
       "  </tbody>\n",
       "</table>\n",
       "</div>"
      ],
      "text/plain": [
       "                  TotalCharges\n",
       "ConsultingDoctor              \n",
       "Dr Alaf Khan          513050.0\n",
       "Dr Kinza Alam          76700.0\n",
       "Dr Saad                52000.0\n",
       "Dr Ali                 26100.0\n",
       "Dr Fakiha              22600.0"
      ]
     },
     "execution_count": 234,
     "metadata": {},
     "output_type": "execute_result"
    }
   ],
   "source": [
    "#cleaning data in total charges and then converting TotalCharges to numeric\n",
    "hsptldf.TotalCharges = hsptldf.TotalCharges.replace(\"Cancelled\", np.nan) \n",
    "hsptldf.TotalCharges = pd.to_numeric(hsptldf.TotalCharges , errors = \"coerce\")\n",
    "hsptldf.TotalCharges.dtype\n",
    "doc_earning = hsptldf[[\"ConsultingDoctor\",\"TotalCharges\"]].copy()\n",
    "#summing the total charges and  sorting in desecnding \n",
    "highest_earning = doc_earning.groupby(['ConsultingDoctor']).sum().sort_values(by= 'TotalCharges', ascending= False)\n",
    "highest_earning.head()\n"
   ]
  },
  {
   "cell_type": "markdown",
   "metadata": {},
   "source": [
    "# # Question 7"
   ]
  },
  {
   "cell_type": "code",
   "execution_count": 237,
   "metadata": {
    "collapsed": false
   },
   "outputs": [
    {
     "data": {
      "text/html": [
       "<div>\n",
       "<table border=\"1\" class=\"dataframe\">\n",
       "  <thead>\n",
       "    <tr style=\"text-align: right;\">\n",
       "      <th></th>\n",
       "      <th>TotalCharges</th>\n",
       "    </tr>\n",
       "    <tr>\n",
       "      <th>Procedure</th>\n",
       "      <th></th>\n",
       "    </tr>\n",
       "  </thead>\n",
       "  <tbody>\n",
       "    <tr>\n",
       "      <th>Orthodontics</th>\n",
       "      <td>240000.0</td>\n",
       "    </tr>\n",
       "    <tr>\n",
       "      <th>Consultation</th>\n",
       "      <td>83950.0</td>\n",
       "    </tr>\n",
       "    <tr>\n",
       "      <th>22 Unit Bridge</th>\n",
       "      <td>69500.0</td>\n",
       "    </tr>\n",
       "    <tr>\n",
       "      <th>C Section</th>\n",
       "      <td>65000.0</td>\n",
       "    </tr>\n",
       "    <tr>\n",
       "      <th>Operation</th>\n",
       "      <td>50000.0</td>\n",
       "    </tr>\n",
       "  </tbody>\n",
       "</table>\n",
       "</div>"
      ],
      "text/plain": [
       "                TotalCharges\n",
       "Procedure                   \n",
       "Orthodontics        240000.0\n",
       "Consultation         83950.0\n",
       "22 Unit Bridge       69500.0\n",
       "C Section            65000.0\n",
       "Operation            50000.0"
      ]
     },
     "execution_count": 237,
     "metadata": {},
     "output_type": "execute_result"
    }
   ],
   "source": [
    "proc_earning = hsptldf[[\"Procedure\",\"TotalCharges\"]].copy()\n",
    "#summing the total charges and  sorting in desecnding \n",
    "max__earning__proc =proc_earning.groupby(['Procedure']).sum().sort_values(by= 'TotalCharges', ascending= False)\n",
    "max__earning__proc.head()"
   ]
  },
  {
   "cell_type": "markdown",
   "metadata": {},
   "source": [
    "# # Question 10"
   ]
  },
  {
   "cell_type": "code",
   "execution_count": 255,
   "metadata": {
    "collapsed": false
   },
   "outputs": [
    {
     "data": {
      "text/plain": [
       "37"
      ]
     },
     "execution_count": 255,
     "metadata": {},
     "output_type": "execute_result"
    }
   ],
   "source": [
    "patient = hsptldf.copy()\n",
    "patient['rep_count'] = 1\n",
    " \n",
    "patient = patient.groupby(['id'])['count'].agg({'rep_count': \"count\"})\n",
    "#getting patients with count greater than 1\n",
    "patient = patient.loc[patient['rep_count'] >1 ]\n",
    "# total num of repeated visitors \n",
    "len(patient.reset_index())"
   ]
  }
 ],
 "metadata": {
  "kernelspec": {
   "display_name": "Python 2",
   "language": "python",
   "name": "python2"
  },
  "language_info": {
   "codemirror_mode": {
    "name": "ipython",
    "version": 2
   },
   "file_extension": ".py",
   "mimetype": "text/x-python",
   "name": "python",
   "nbconvert_exporter": "python",
   "pygments_lexer": "ipython2",
   "version": "2.7.13"
  }
 },
 "nbformat": 4,
 "nbformat_minor": 2
}
