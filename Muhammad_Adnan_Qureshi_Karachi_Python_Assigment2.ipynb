{
 "cells": [
  {
   "cell_type": "markdown",
   "metadata": {},
   "source": [
    "Muhammad_Adnan_Qureshi_Karachi_Python_Assigment2"
   ]
  },
  {
   "cell_type": "code",
   "execution_count": 1,
   "metadata": {
    "collapsed": false
   },
   "outputs": [
    {
     "name": "stdout",
     "output_type": "stream",
     "text": [
      "['Date', 'id', 'Time', 'Age', 'Sex', 'Consulting..Doctor', 'Specialty', 'Procedure', 'Total..Charges', 'Amount..Received.', 'Amount..Balance', 'Amount.Received.By', 'Amount.in.Hospital', 'Receptionist..Name', 'Next.Apt']\n"
     ]
    }
   ],
   "source": [
    "import pandas as pd\n",
    "import numpy as np\n",
    "\n",
    "df= pd.read_csv(\"D://DIH//Assignment//Python//003-22-Mar-2017//Muhammad_Adnan_Qureshi_Karachi_Python_Assigment2//hospitaldata.csv\")\n",
    "\n",
    "print(list(df))"
   ]
  },
  {
   "cell_type": "code",
   "execution_count": 2,
   "metadata": {
    "collapsed": false
   },
   "outputs": [
    {
     "name": "stdout",
     "output_type": "stream",
     "text": [
      "                       Date   id     Time Age Sex  ConsultingDoctor  \\\n",
      "0  Sunday, January 01, 2017  101    11:00  40   F     Dr Kinza Alam   \n",
      "1  Monday, January 02, 2017  150  10:45AM  26   M     Nursing Staff   \n",
      "2  Monday, January 02, 2017   58  12:38PM  30   F  Dr Riffat Naheed   \n",
      "3  Monday, January 02, 2017   75   1:00PM  40   M  Dr Riffat Naheed   \n",
      "4  Monday, January 02, 2017   97   2:45PM  27   M  Dr Riffat Naheed   \n",
      "\n",
      "         Specialty     Procedure TotalCharges  AmountReceived. AmountBalance  \\\n",
      "0            Gynae     C Section        30000          30000.0          -      \n",
      "1              NaN      Dressing         1500           1500.0          -      \n",
      "2  Psychotherapist  Consultation         1000           1000.0          -      \n",
      "3  Psychotherapist  Consultation         1500           1500.0          -      \n",
      "4  Psychotherapist  Consultation         2000           2000.0          -      \n",
      "\n",
      "  Amount.Received.By  Amount.in.Hospital ReceptionistName Next.Apt  \n",
      "0        Mrs Shamsa                  NaN            Hamza      NaN  \n",
      "1         Dr Saniya                  NaN            Haris      NaN  \n",
      "2        Mrs Shamsa                300.0             Fiza      NaN  \n",
      "3        Mrs Shamsa                450.0           Zaheer      NaN  \n",
      "4        Mrs Shamsa                600.0            Haris      NaN  \n"
     ]
    }
   ],
   "source": [
    "# Qs : 1\n",
    "for a in df.columns :\n",
    "    if \"..\" in a:\n",
    "        df.rename(columns={a: a.replace('..','')}, inplace=True)\n",
    "\n",
    "print(df.head())  "
   ]
  },
  {
   "cell_type": "code",
   "execution_count": 3,
   "metadata": {
    "collapsed": false
   },
   "outputs": [
    {
     "name": "stdout",
     "output_type": "stream",
     "text": [
      "32.734375\n"
     ]
    }
   ],
   "source": [
    "# Qs : 3\n",
    "x =pd.to_numeric(df['Age'],errors='coerce' )\n",
    "x.mean()\n",
    "print(x.mean())"
   ]
  },
  {
   "cell_type": "code",
   "execution_count": 4,
   "metadata": {
    "collapsed": false
   },
   "outputs": [
    {
     "name": "stdout",
     "output_type": "stream",
     "text": [
      "                             Date   id     Time Age Sex ConsultingDoctor  \\\n",
      "8        Monday, January 02, 2017   20   3:45PM   2   F        Dr Fakiha   \n",
      "29       Monday, January 09, 2017   79   1:30PM   6   F     Dr Alaf Khan   \n",
      "33       Monday, January 09, 2017   36   5:30PM   5   F     Dr Alaf Khan   \n",
      "35      Tuesday, January 10, 2017   84   6:00PM   9   F         Dr Irfan   \n",
      "74       Monday, January 23, 2017   59   4:50PM  10   M           Dr Ali   \n",
      "79    Wednesday, January 25, 2017   59      NaN  10   M    Nursing Staff   \n",
      "89     Saturday, January 28, 2017  147   9:45PM   9   M    Nursing Staff   \n",
      "96      Tuesday, January 31, 2017  152   5:30PM   7   F        Dr Fakiha   \n",
      "98      Tuesday, January 31, 2017  115   6:50PM   8   F  Dr Qurat ul Ain   \n",
      "108     Friday, February 03, 2017   44   8:00PM   6   M           Dr Ali   \n",
      "109   Saturday, February 04, 2017   35   4:00PM   2   F  Dr Qurat ul Ain   \n",
      "130     Friday, February 10, 2017   14   6:30PM   6   M    Nursing Staff   \n",
      "137     Sunday, February 12, 2017   81  12:00PM   6   F     Dr Alaf Khan   \n",
      "146  Wednesday, February 15, 2017   94   4:45PM   3   M           Dr Ali   \n",
      "153   Saturday, February 18, 2017   94  11:30AM   3   M    Nursing Staff   \n",
      "156     Monday, February 20, 2017   68   1:25PM  10   M       Dr Shireen   \n",
      "159     Monday, February 20, 2017   94  10:15PM   3   M    Nursing Staff   \n",
      "162    Tuesday, February 21, 2017   11   7:11PM   2   F           Dr Ali   \n",
      "163    Tuesday, February 21, 2017   94  10:10PM   3   M    Nursing Staff   \n",
      "184     Wednesday, March 01, 2017   28   6:00PM   3   F  Dr Qurat ul Ain   \n",
      "208     Wednesday, March 08, 2017  148   8:30PM   3   F    Nursing Staff   \n",
      "210     Wednesday, March 08, 2017   10   4:45PM   9   F  Dr Qurat ul Ain   \n",
      "215      Thursday, March 09, 2017  121   9:00AM   3   F    Nursing Staff   \n",
      "\n",
      "            Specialty                Procedure TotalCharges  AmountReceived.  \\\n",
      "8             Dentist             Consultation    Cancelled              NaN   \n",
      "29            Dentist             Consultation          500            500.0   \n",
      "33            Dentist             Consultation          250            250.0   \n",
      "35    General Surgeon   Consultation +   X Ray         3000           3000.0   \n",
      "74   Child Specialist   Consultation+ER Retain         2800           2800.0   \n",
      "79                NaN          Laboratory Test          NaN              NaN   \n",
      "89                NaN             Consultation         1000           1000.0   \n",
      "96            Dentist                  Filling         1000           1000.0   \n",
      "98            Dentist               Extraction         1500           1500.0   \n",
      "108  Child Specialist             Consultation         1000           1000.0   \n",
      "109           Dentist             Consultation          500            500.0   \n",
      "130               NaN                    X Ray          300            300.0   \n",
      "137           Dentist       Consultation+X Ray          700            700.0   \n",
      "146  Child Specialist  Consultation + Nebulize         1150           1150.0   \n",
      "153               NaN                Injection          300            300.0   \n",
      "156               M/o                  Stiches          700            700.0   \n",
      "159               NaN                Injection          300            300.0   \n",
      "162  Child Specialist             Consultation         1000           1000.0   \n",
      "163               NaN                Injection          300            300.0   \n",
      "184           Dentist             Consultation          500            500.0   \n",
      "208               NaN                Injection          100            100.0   \n",
      "210           Dentist       Consultation+x Ray          650            650.0   \n",
      "215               NaN                Injection          100            100.0   \n",
      "\n",
      "    AmountBalance              Amount.Received.By  Amount.in.Hospital  \\\n",
      "8             NaN                             NaN                 NaN   \n",
      "29           -                        Mrs Shamsa                500.0   \n",
      "33           -                        Mrs Shamsa                250.0   \n",
      "35           -                        Mrs Shamsa               3000.0   \n",
      "74           -                        Mrs Shamsa               1600.0   \n",
      "79           -                                NaN                 NaN   \n",
      "89           -                        Mrs Shamsa                  NaN   \n",
      "96           -                        Mrs Shamsa               1000.0   \n",
      "98           -                        Mrs Shamsa               1500.0   \n",
      "108          -                          Dr Ammad                300.0   \n",
      "109          -                          Dr Ammad                500.0   \n",
      "130          -                          Dr Ammad                300.0   \n",
      "137          -                        Mrs Shamsa                700.0   \n",
      "146          -      150 Mrs Shamsa, 300 Dr Ammad                450.0   \n",
      "153          -                          Dr Ammad                300.0   \n",
      "156          -                          Dr Ammad                700.0   \n",
      "159          -                          Dr Ammad                300.0   \n",
      "162          -                          Dr Ammad                300.0   \n",
      "163          -                          Dr Ammad                300.0   \n",
      "184          -                          Dr Ammad                500.0   \n",
      "208          -                          Dr Ammad                100.0   \n",
      "210          -                          Dr Ammad                650.0   \n",
      "215          -                          Dr Ammad                100.0   \n",
      "\n",
      "    ReceptionistName Next.Apt  \n",
      "8                NaN      NaN  \n",
      "29              Fiza      NaN  \n",
      "33              Fiza      NaN  \n",
      "35              Mona      NaN  \n",
      "74             Haris      NaN  \n",
      "79               NaN      NaN  \n",
      "89            Sub KB      NaN  \n",
      "96             Haris      NaN  \n",
      "98             Haris      NaN  \n",
      "108            Haris      NaN  \n",
      "109            Haris      NaN  \n",
      "130            Haris      NaN  \n",
      "137             Mona      NaN  \n",
      "146            Haris      NaN  \n",
      "153            Saima      NaN  \n",
      "156            Saima      NaN  \n",
      "159           Ashfaq      NaN  \n",
      "162            Saima      NaN  \n",
      "163           Sub KB      NaN  \n",
      "184            Saima      NaN  \n",
      "208           Ashfaq      NaN  \n",
      "210            Saima      NaN  \n",
      "215             Mona      NaN  \n"
     ]
    },
    {
     "data": {
      "text/plain": [
       "23"
      ]
     },
     "execution_count": 4,
     "metadata": {},
     "output_type": "execute_result"
    }
   ],
   "source": [
    "# Qs : 4\n",
    "x=df[pd.to_numeric(df['Age'],errors='coerce' )<=12]\n",
    "print(x)\n",
    "len(x.index)"
   ]
  },
  {
   "cell_type": "code",
   "execution_count": 5,
   "metadata": {
    "collapsed": false
   },
   "outputs": [
    {
     "name": "stdout",
     "output_type": "stream",
     "text": [
      "Consultation\n"
     ]
    }
   ],
   "source": [
    "# Qs : 5\n",
    "M_var=df[df.Sex=='M']\n",
    "M_var = M_var['Procedure'].value_counts().index.tolist()[0]\n",
    "print(M_var)"
   ]
  },
  {
   "cell_type": "code",
   "execution_count": 6,
   "metadata": {
    "collapsed": false
   },
   "outputs": [
    {
     "name": "stdout",
     "output_type": "stream",
     "text": [
      "Consultation\n"
     ]
    }
   ],
   "source": [
    "F_var=df[(df.Sex=='F')| (df.Sex=='f')]\n",
    "F_var = F_var['Procedure'].value_counts().index.tolist()[0]\n",
    "print(F_var)"
   ]
  },
  {
   "cell_type": "code",
   "execution_count": 9,
   "metadata": {
    "collapsed": false
   },
   "outputs": [
    {
     "name": "stdout",
     "output_type": "stream",
     "text": [
      "TotalCharges    513050.0\n",
      "dtype: float64\n"
     ]
    }
   ],
   "source": [
    "# Qs : 6\n",
    "df['TotalCharges'] = pd.to_numeric(df['TotalCharges'],errors='coerce')\n",
    "con_dr_amt = df[['ConsultingDoctor', 'TotalCharges']].groupby(['ConsultingDoctor']).sum()\n",
    "print(con_dr_amt.max())"
   ]
  },
  {
   "cell_type": "code",
   "execution_count": 8,
   "metadata": {
    "collapsed": false
   },
   "outputs": [
    {
     "name": "stdout",
     "output_type": "stream",
     "text": [
      "TotalCharges    240000.0\n",
      "dtype: float64\n"
     ]
    }
   ],
   "source": [
    "# Qs : 7\n",
    "proc_wise_amt = df[['Procedure', 'TotalCharges']].groupby(['Procedure']).sum()\n",
    "print(proc_wise_amt.max())"
   ]
  },
  {
   "cell_type": "code",
   "execution_count": 10,
   "metadata": {
    "collapsed": false
   },
   "outputs": [
    {
     "name": "stdout",
     "output_type": "stream",
     "text": [
      "id    9\n",
      "dtype: int64\n"
     ]
    }
   ],
   "source": [
    "# Qs : 8\n",
    "time_wise_vis = df[['Time','id']].groupby(['Time']).count()\n",
    "print(time_wise_vis.max())\n"
   ]
  },
  {
   "cell_type": "code",
   "execution_count": 11,
   "metadata": {
    "collapsed": false
   },
   "outputs": [
    {
     "name": "stdout",
     "output_type": "stream",
     "text": [
      "37\n"
     ]
    }
   ],
   "source": [
    "# Qs : 10\n",
    "pat_wise_cnt = df['id'].value_counts()\n",
    "print(len(pat_wise_cnt[pat_wise_cnt>1].index))"
   ]
  },
  {
   "cell_type": "code",
   "execution_count": 12,
   "metadata": {
    "collapsed": false
   },
   "outputs": [
    {
     "name": "stdout",
     "output_type": "stream",
     "text": [
      "1      12\n",
      "46      5\n",
      "122     5\n",
      "140     4\n",
      "94      4\n",
      "17      4\n",
      "45      3\n",
      "101     3\n",
      "63      3\n",
      "132     3\n",
      "114     3\n",
      "109     3\n",
      "107     3\n",
      "145     3\n",
      "20      2\n",
      "97      2\n",
      "59      2\n",
      "88      2\n",
      "96      2\n",
      "112     2\n",
      "116     2\n",
      "118     2\n",
      "25      2\n",
      "80      2\n",
      "120     2\n",
      "40      2\n",
      "100     2\n",
      "64      2\n",
      "4       2\n",
      "133     2\n",
      "12      2\n",
      "13      2\n",
      "150     2\n",
      "149     2\n",
      "151     2\n",
      "130     2\n",
      "153     2\n",
      "Name: id, dtype: int64\n"
     ]
    }
   ],
   "source": [
    "# Qs : 11\n",
    "pat_wise_cnt = df['id'].value_counts()\n",
    "print(pat_wise_cnt[pat_wise_cnt>1])"
   ]
  },
  {
   "cell_type": "code",
   "execution_count": 13,
   "metadata": {
    "collapsed": false
   },
   "outputs": [
    {
     "name": "stdout",
     "output_type": "stream",
     "text": [
      "     Procedure\n",
      "id            \n",
      "1         12.0\n",
      "2          NaN\n",
      "3          NaN\n",
      "4          2.0\n",
      "5          NaN\n",
      "6          NaN\n",
      "7          NaN\n",
      "8          NaN\n",
      "9          NaN\n",
      "10         NaN\n",
      "11         NaN\n",
      "12         2.0\n",
      "13         2.0\n",
      "14         NaN\n",
      "15         NaN\n",
      "16         NaN\n",
      "17         4.0\n",
      "18         NaN\n",
      "19         NaN\n",
      "20         2.0\n",
      "21         NaN\n",
      "22         NaN\n",
      "23         NaN\n",
      "24         NaN\n",
      "25         2.0\n",
      "26         NaN\n",
      "27         NaN\n",
      "28         NaN\n",
      "29         NaN\n",
      "30         NaN\n",
      "..         ...\n",
      "126        NaN\n",
      "127        NaN\n",
      "128        NaN\n",
      "129        NaN\n",
      "130        2.0\n",
      "131        NaN\n",
      "132        3.0\n",
      "133        2.0\n",
      "134        NaN\n",
      "135        NaN\n",
      "136        NaN\n",
      "137        NaN\n",
      "138        NaN\n",
      "139        NaN\n",
      "140        4.0\n",
      "141        NaN\n",
      "142        NaN\n",
      "143        NaN\n",
      "144        NaN\n",
      "145        3.0\n",
      "146        NaN\n",
      "147        NaN\n",
      "148        NaN\n",
      "149        2.0\n",
      "150        2.0\n",
      "151        2.0\n",
      "152        NaN\n",
      "153        2.0\n",
      "154        NaN\n",
      "155        NaN\n",
      "\n",
      "[155 rows x 1 columns]\n"
     ]
    }
   ],
   "source": [
    "# Qs : 12\n",
    "proc_pat_wise_amt = df[['Procedure', 'id']].groupby(['id']).count()\n",
    "print(proc_pat_wise_amt[proc_pat_wise_amt>1])"
   ]
  },
  {
   "cell_type": "code",
   "execution_count": null,
   "metadata": {
    "collapsed": true
   },
   "outputs": [],
   "source": []
  }
 ],
 "metadata": {
  "kernelspec": {
   "display_name": "Python 3",
   "language": "python",
   "name": "python3"
  },
  "language_info": {
   "codemirror_mode": {
    "name": "ipython",
    "version": 3
   },
   "file_extension": ".py",
   "mimetype": "text/x-python",
   "name": "python",
   "nbconvert_exporter": "python",
   "pygments_lexer": "ipython3",
   "version": "3.6.0"
  }
 },
 "nbformat": 4,
 "nbformat_minor": 2
}
