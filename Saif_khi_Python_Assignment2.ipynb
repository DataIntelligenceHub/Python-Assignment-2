{
 "cells": [
  {
   "cell_type": "code",
   "execution_count": 1,
   "metadata": {
    "collapsed": true
   },
   "outputs": [],
   "source": [
    "\n",
    "import pandas as pd\n",
    "import matplotlib.pyplot as plt\n",
    "\n",
    "plt.style.use('ggplot')\n",
    "\n",
    "Hospital_data= pd.read_csv(\"C://Users//muhammad.saif//Documents//hospitaldata.csv\")\n"
   ]
  },
  {
   "cell_type": "code",
   "execution_count": 2,
   "metadata": {
    "collapsed": false
   },
   "outputs": [
    {
     "name": "stdout",
     "output_type": "stream",
     "text": [
      "                       Date   id     Time Age Sex Consulting_Doctor  \\\n",
      "0  Sunday, January 01, 2017  101    11:00  40   F     Dr Kinza Alam   \n",
      "1  Monday, January 02, 2017  150  10:45AM  26   M     Nursing Staff   \n",
      "2  Monday, January 02, 2017   58  12:38PM  30   F  Dr Riffat Naheed   \n",
      "3  Monday, January 02, 2017   75   1:00PM  40   M  Dr Riffat Naheed   \n",
      "4  Monday, January 02, 2017   97   2:45PM  27   M  Dr Riffat Naheed   \n",
      "\n",
      "         Specialty     Procedure Total_Charges  Amount_Received.  \\\n",
      "0            Gynae     C Section         30000           30000.0   \n",
      "1              NaN      Dressing          1500            1500.0   \n",
      "2  Psychotherapist  Consultation          1000            1000.0   \n",
      "3  Psychotherapist  Consultation          1500            1500.0   \n",
      "4  Psychotherapist  Consultation          2000            2000.0   \n",
      "\n",
      "  Amount_Balance Amount.Received.By  Amount.in.Hospital Receptionist_Name  \\\n",
      "0           -           Mrs Shamsa                  NaN             Hamza   \n",
      "1           -            Dr Saniya                  NaN             Haris   \n",
      "2           -           Mrs Shamsa                300.0              Fiza   \n",
      "3           -           Mrs Shamsa                450.0            Zaheer   \n",
      "4           -           Mrs Shamsa                600.0             Haris   \n",
      "\n",
      "  Next.Apt  \n",
      "0      NaN  \n",
      "1      NaN  \n",
      "2      NaN  \n",
      "3      NaN  \n",
      "4      NaN  \n"
     ]
    }
   ],
   "source": [
    "for i in Hospital_data.columns:\n",
    "    if \"..\" in i:\n",
    "        Hospital_data.rename(columns={i: i.replace('..','_')}, inplace=True)\n",
    "        \n",
    "print(Hospital_data.head())\n"
   ]
  },
  {
   "cell_type": "code",
   "execution_count": 3,
   "metadata": {
    "collapsed": false
   },
   "outputs": [
    {
     "name": "stdout",
     "output_type": "stream",
     "text": [
      "Monday       51\n",
      "Wednesday    43\n",
      "Tuesday      42\n",
      "Thursday     33\n",
      "Friday       26\n",
      "Saturday     20\n",
      "Sunday        7\n",
      "Name: Date, dtype: int64\n"
     ]
    }
   ],
   "source": [
    "hospitaldate=Hospital_data['Date']\n",
    "days=hospitaldate.map(lambda x: str(x).split(',')[0])\n",
    "counts=days.value_counts()\n",
    "print(counts)\n"
   ]
  },
  {
   "cell_type": "code",
   "execution_count": 4,
   "metadata": {
    "collapsed": false
   },
   "outputs": [
    {
     "data": {
      "text/plain": [
       "32.734375"
      ]
     },
     "execution_count": 4,
     "metadata": {},
     "output_type": "execute_result"
    }
   ],
   "source": [
    "Hospital_data['Age']=pd.to_numeric(Hospital_data['Age'],errors='coerce' )\n",
    "Hospital_data['Age'].mean()\n"
   ]
  },
  {
   "cell_type": "code",
   "execution_count": 5,
   "metadata": {
    "collapsed": false
   },
   "outputs": [
    {
     "data": {
      "text/plain": [
       "23"
      ]
     },
     "execution_count": 5,
     "metadata": {},
     "output_type": "execute_result"
    }
   ],
   "source": [
    "no_of_children=Hospital_data[Hospital_data.Age<=12]\n",
    "len(no_of_children.index)\n"
   ]
  },
  {
   "cell_type": "code",
   "execution_count": 6,
   "metadata": {
    "collapsed": false
   },
   "outputs": [
    {
     "name": "stdout",
     "output_type": "stream",
     "text": [
      "Male: Consultation\n",
      "Female: Consultation\n"
     ]
    }
   ],
   "source": [
    "str=Hospital_data.Sex\n",
    "str.replace(\"f\", \"F\")\n",
    "Male=Hospital_data[Hospital_data.Sex=='M']\n",
    "Female=Hospital_data[Hospital_data.Sex=='F']\n",
    "print(\"Male:\" ,Male['Procedure'].value_counts().index.tolist()[0])\n",
    "print(\"Female:\" ,Female['Procedure'].value_counts().index.tolist()[0])\n"
   ]
  },
  {
   "cell_type": "code",
   "execution_count": 7,
   "metadata": {
    "collapsed": false
   },
   "outputs": [
    {
     "name": "stdout",
     "output_type": "stream",
     "text": [
      "                   Total_Charges\n",
      "Consulting_Doctor               \n",
      "Brig Asif                 2800.0\n",
      "Brig Farrukh              3750.0\n",
      "Col Ulfat Ellahi          1000.0\n",
      "Dr Alaf Khan            513050.0\n",
      "Dr Ali                   26100.0\n",
      "Dr Ammad                  1400.0\n",
      "Dr Ammara                 1500.0\n",
      "Dr Fakiha                22600.0\n",
      "Dr Irfan                 11000.0\n",
      "Dr Kinza Alam            76700.0\n",
      "Dr Mehwish                1000.0\n",
      "Dr Mumtaz                 1000.0\n",
      "Dr Paul                   1500.0\n",
      "Dr Qurat ul Ain          20900.0\n",
      "Dr Riffat Naheed         18800.0\n",
      "Dr Saad                  52000.0\n",
      "Dr Saad Riaz              5700.0\n",
      "Dr Saima Shams            1500.0\n",
      "Dr Saniya                 4000.0\n",
      "Dr Shireen                3200.0\n",
      "Dr Waqar Azeem            6000.0\n",
      "Dr Zubair                 1700.0\n",
      "Nursing Staff             9150.0\n"
     ]
    }
   ],
   "source": [
    "Hospital_data['Total_Charges']=pd.to_numeric(Hospital_data['Total_Charges'],errors='coerce')\n",
    "highest_earner = Hospital_data[['Consulting_Doctor', 'Total_Charges']].groupby(['Consulting_Doctor']).sum()\n",
    "print(highest_earner)\n"
   ]
  },
  {
   "cell_type": "code",
   "execution_count": 8,
   "metadata": {
    "collapsed": false
   },
   "outputs": [
    {
     "name": "stdout",
     "output_type": "stream",
     "text": [
      "                                Total_Charges\n",
      "Procedure                                    \n",
      "22 Unit Bridge                        69500.0\n",
      "4 Unit Bridge                         11000.0\n",
      "8 Unit Bridge+2 R.C.T                 30000.0\n",
      "BSR                                      50.0\n",
      "C Section                             65000.0\n",
      "Cancelled                                 NaN\n",
      "Consultation                          83950.0\n",
      "Consultation +   X Ray                 3000.0\n",
      "Consultation + Dressing                5000.0\n",
      "Consultation + Nebulize                1150.0\n",
      "Consultation + USG                     1500.0\n",
      "Consultation+Denture                   1500.0\n",
      "Consultation+ECG                       1300.0\n",
      "Consultation+ER Retain                 2800.0\n",
      "Consultation+Retain                    3500.0\n",
      "Consultation+USG                       1500.0\n",
      "Consultation+X Ray                     4750.0\n",
      "Consultation+x Ray                      650.0\n",
      "Coupety                                 300.0\n",
      "Crown                                 20000.0\n",
      "Denture+Scalling+Filling               5500.0\n",
      "Dressing                               2900.0\n",
      "Er Retain                               300.0\n",
      "Extraction                            14600.0\n",
      "Filling                                6500.0\n",
      "Filling + X Rays                       2600.0\n",
      "Injection                              1800.0\n",
      "Laboratory Test                           NaN\n",
      "Medicine                                100.0\n",
      "Operation                             50000.0\n",
      "Orthodontics                         240000.0\n",
      "Pharmacy                                900.0\n",
      "Polishing                               500.0\n",
      "Pop                                    3700.0\n",
      "R.C.T                                 15500.0\n",
      "R.C.T+Crown                            8000.0\n",
      "R.C.T+Scalling+Crown                   9500.0\n",
      "R.P.D + Crown                         11000.0\n",
      "RCT                                    3000.0\n",
      "RCT (4 teeth) Bridge (9 teeth)        48000.0\n",
      "Scalling                              16500.0\n",
      "Scalling+Polishing                     4000.0\n",
      "Stiches                                 700.0\n",
      "USG                                    5500.0\n",
      "USG Abdomen                            1000.0\n",
      "USG KUB                                1000.0\n",
      "X Ray                                  5800.0\n"
     ]
    }
   ],
   "source": [
    "proc_type=Hospital_data[['Procedure', 'Total_Charges']].groupby(['Procedure']).sum()\n",
    "print(proc_type)\n"
   ]
  },
  {
   "cell_type": "code",
   "execution_count": 9,
   "metadata": {
    "collapsed": false
   },
   "outputs": [
    {
     "data": {
      "text/plain": [
       "13.0    29\n",
       "18.0    23\n",
       "15.0    20\n",
       "14.0    20\n",
       "12.0    20\n",
       "17.0    16\n",
       "16.0    15\n",
       "19.0    14\n",
       "11.0    10\n",
       "20.0     8\n",
       "10.0     6\n",
       "21.0     5\n",
       "22.0     4\n",
       "9.0      2\n",
       "23.0     2\n",
       "Name: Time, dtype: int64"
      ]
     },
     "execution_count": 9,
     "metadata": {},
     "output_type": "execute_result"
    }
   ],
   "source": [
    "Hospital_data.Time=pd.to_datetime(Hospital_data.Time, errors='coerce')\n",
    "Hospital_data.Time.dt.hour.value_counts()\n"
   ]
  },
  {
   "cell_type": "code",
   "execution_count": 10,
   "metadata": {
    "collapsed": true
   },
   "outputs": [],
   "source": [
    "def bracket_time(hour):\n",
    "    if  hour>= 6.0 and hour<12.0:\n",
    "        return \"Morning\"\n",
    "    elif hour>= 12 and hour<14:\n",
    "        return \"Afternoon\"\n",
    "    elif  hour>=14 and hour<19 :\n",
    "        return \"Evening\"\n",
    "    elif  hour>=19 and hour<=23 or hour >= 0 and hour < 6 :\n",
    "        return \"Night\"\n",
    "    \n",
    "Hospital_data['bracket_time']=Hospital_data.Time.dt.hour.apply(bracket_time)\n"
   ]
  },
  {
   "cell_type": "code",
   "execution_count": 11,
   "metadata": {
    "collapsed": false
   },
   "outputs": [
    {
     "name": "stdout",
     "output_type": "stream",
     "text": [
      "37\n"
     ]
    }
   ],
   "source": [
    "patients_repeated=Hospital_data['id'].value_counts()\n",
    "print(len(patients_repeated[patients_repeated>1].index))\n",
    "\n"
   ]
  },
  {
   "cell_type": "code",
   "execution_count": 12,
   "metadata": {
    "collapsed": false
   },
   "outputs": [
    {
     "name": "stdout",
     "output_type": "stream",
     "text": [
      "Id \t Visits\n",
      " 1      12\n",
      "46      5\n",
      "122     5\n",
      "140     4\n",
      "94      4\n",
      "17      4\n",
      "45      3\n",
      "101     3\n",
      "63      3\n",
      "132     3\n",
      "114     3\n",
      "109     3\n",
      "107     3\n",
      "145     3\n",
      "20      2\n",
      "97      2\n",
      "59      2\n",
      "88      2\n",
      "96      2\n",
      "112     2\n",
      "116     2\n",
      "118     2\n",
      "25      2\n",
      "80      2\n",
      "120     2\n",
      "40      2\n",
      "100     2\n",
      "64      2\n",
      "4       2\n",
      "133     2\n",
      "       ..\n",
      "68      1\n",
      "69      1\n",
      "70      1\n",
      "71      1\n",
      "72      1\n",
      "73      1\n",
      "74      1\n",
      "75      1\n",
      "76      1\n",
      "77      1\n",
      "154     1\n",
      "79      1\n",
      "81      1\n",
      "82      1\n",
      "83      1\n",
      "84      1\n",
      "85      1\n",
      "86      1\n",
      "87      1\n",
      "89      1\n",
      "90      1\n",
      "91      1\n",
      "92      1\n",
      "93      1\n",
      "95      1\n",
      "98      1\n",
      "99      1\n",
      "102     1\n",
      "103     1\n",
      "78      1\n",
      "Name: id, dtype: int64\n"
     ]
    }
   ],
   "source": [
    "print(\"Id \\t Visits\\n\",patients_repeated)\n"
   ]
  },
  {
   "cell_type": "code",
   "execution_count": 13,
   "metadata": {
    "collapsed": false
   },
   "outputs": [
    {
     "name": "stdout",
     "output_type": "stream",
     "text": [
      "id   Procedure                     \n",
      "1    Pharmacy                          10\n",
      "12   22 Unit Bridge                     2\n",
      "13   Consultation                       2\n",
      "17   Consultation                       2\n",
      "     RCT (4 teeth) Bridge (9 teeth)     2\n",
      "20   Consultation                       2\n",
      "25   Consultation                       2\n",
      "45   R.P.D + Crown                      2\n",
      "46   Dressing                           4\n",
      "63   Consultation                       2\n",
      "80   Consultation                       2\n",
      "94   Injection                          3\n",
      "97   Consultation                       2\n",
      "101  C Section                          2\n",
      "109  R.C.T                              2\n",
      "112  Operation                          2\n",
      "114  Consultation                       3\n",
      "116  X Ray                              2\n",
      "122  Injection                          5\n",
      "130  Consultation                       2\n",
      "140  4 Unit Bridge                      2\n",
      "145  Crown                              3\n",
      "151  R.C.T+Scalling+Crown               2\n",
      "153  Orthodontics                       2\n",
      "dtype: int64\n"
     ]
    }
   ],
   "source": [
    "x=Hospital_data[['id','Procedure']]\n",
    "patient_visiting_again=x.groupby(['id','Procedure']).size()\n",
    "print(patient_visiting_again[patient_visiting_again>1])\n"
   ]
  },
  {
   "cell_type": "code",
   "execution_count": 14,
   "metadata": {
    "collapsed": false
   },
   "outputs": [
    {
     "name": "stdout",
     "output_type": "stream",
     "text": [
      "Female Age Median:  30.0\n",
      "Male Age Median:  29.0\n"
     ]
    }
   ],
   "source": [
    "female_median=Female.Age.median()\n",
    "male_median=Male.Age.median()\n",
    "print(\"Female Age Median: \", female_median)\n",
    "print(\"Male Age Median: \", male_median)\n"
   ]
  },
  {
   "cell_type": "code",
   "execution_count": 15,
   "metadata": {
    "collapsed": false
   },
   "outputs": [
    {
     "data": {
      "text/plain": [
       "83950.0"
      ]
     },
     "execution_count": 15,
     "metadata": {},
     "output_type": "execute_result"
    }
   ],
   "source": [
    "consulting_charges=Hospital_data[Hospital_data.Procedure=='Consultation']\n",
    "consulting_charges['Total_Charges'].sum()\n",
    "\n"
   ]
  },
  {
   "cell_type": "code",
   "execution_count": 16,
   "metadata": {
    "collapsed": false
   },
   "outputs": [
    {
     "data": {
      "text/html": [
       "<div>\n",
       "<table border=\"1\" class=\"dataframe\">\n",
       "  <thead>\n",
       "    <tr style=\"text-align: right;\">\n",
       "      <th></th>\n",
       "      <th>Total_Charges</th>\n",
       "    </tr>\n",
       "  </thead>\n",
       "  <tbody>\n",
       "    <tr>\n",
       "      <th>Age</th>\n",
       "      <td>0.02809</td>\n",
       "    </tr>\n",
       "  </tbody>\n",
       "</table>\n",
       "</div>"
      ],
      "text/plain": [
       "     Total_Charges\n",
       "Age        0.02809"
      ]
     },
     "execution_count": 16,
     "metadata": {},
     "output_type": "execute_result"
    }
   ],
   "source": [
    "Cor=Hospital_data.corr()\n",
    "Cor.loc[['Age'],['Total_Charges']]\n"
   ]
  },
  {
   "cell_type": "code",
   "execution_count": 17,
   "metadata": {
    "collapsed": false
   },
   "outputs": [
    {
     "data": {
      "image/png": "[encoded data removed]",
      "text/plain": [
       "<matplotlib.figure.Figure at 0x664b048>"
      ]
     },
     "metadata": {},
     "output_type": "display_data"
    }
   ],
   "source": [
    "Hospital_data['Age'].plot.hist()\n",
    "plt.show()\n"
   ]
  },
  {
   "cell_type": "code",
   "execution_count": 18,
   "metadata": {
    "collapsed": false
   },
   "outputs": [
    {
     "data": {
      "text/plain": [
       "16500.0"
      ]
     },
     "execution_count": 18,
     "metadata": {},
     "output_type": "execute_result"
    }
   ],
   "source": [
    "Hospital_data[(Hospital_data.Procedure== 'X Rays') | (Hospital_data.Procedure == 'Scalling')]['Total_Charges'].sum()\n",
    "\n"
   ]
  },
  {
   "cell_type": "code",
   "execution_count": null,
   "metadata": {
    "collapsed": true
   },
   "outputs": [],
   "source": []
  }
 ],
 "metadata": {
  "kernelspec": {
   "display_name": "Python 3",
   "language": "python",
   "name": "python3"
  },
  "language_info": {
   "codemirror_mode": {
    "name": "ipython",
    "version": 3
   },
   "file_extension": ".py",
   "mimetype": "text/x-python",
   "name": "python",
   "nbconvert_exporter": "python",
   "pygments_lexer": "ipython3",
   "version": "3.6.0"
  }
 },
 "nbformat": 4,
 "nbformat_minor": 2
}
