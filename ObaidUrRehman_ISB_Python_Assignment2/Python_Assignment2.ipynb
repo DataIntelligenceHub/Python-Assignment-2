{
 "cells": [
  {
   "cell_type": "code",
   "execution_count": 130,
   "metadata": {
    "collapsed": true
   },
   "outputs": [],
   "source": [
    "# ObaidUrRehman"
   ]
  },
  {
   "cell_type": "code",
   "execution_count": 131,
   "metadata": {
    "collapsed": true
   },
   "outputs": [],
   "source": [
    "%matplotlib inline\n",
    "import pandas as pd\n",
    "import numpy as np\n",
    "from matplotlib.pyplot import pie, axis, show"
   ]
  },
  {
   "cell_type": "code",
   "execution_count": 132,
   "metadata": {
    "collapsed": false
   },
   "outputs": [
    {
     "data": {
      "text/html": [
       "<div>\n",
       "<table border=\"1\" class=\"dataframe\">\n",
       "  <thead>\n",
       "    <tr style=\"text-align: right;\">\n",
       "      <th></th>\n",
       "      <th>Date</th>\n",
       "      <th>id</th>\n",
       "      <th>Time</th>\n",
       "      <th>Age</th>\n",
       "      <th>Sex</th>\n",
       "      <th>Consulting..Doctor</th>\n",
       "      <th>Specialty</th>\n",
       "      <th>Procedure</th>\n",
       "      <th>Total..Charges</th>\n",
       "      <th>Amount..Received.</th>\n",
       "      <th>Amount..Balance</th>\n",
       "      <th>Amount.Received.By</th>\n",
       "      <th>Amount.in.Hospital</th>\n",
       "      <th>Receptionist..Name</th>\n",
       "      <th>Next.Apt</th>\n",
       "    </tr>\n",
       "  </thead>\n",
       "  <tbody>\n",
       "    <tr>\n",
       "      <th>0</th>\n",
       "      <td>Sunday, January 01, 2017</td>\n",
       "      <td>101</td>\n",
       "      <td>11:00AM</td>\n",
       "      <td>40</td>\n",
       "      <td>F</td>\n",
       "      <td>Dr Kinza Alam</td>\n",
       "      <td>Gynae</td>\n",
       "      <td>C Section</td>\n",
       "      <td>30000</td>\n",
       "      <td>30000.0</td>\n",
       "      <td>-</td>\n",
       "      <td>Mrs Shamsa</td>\n",
       "      <td>NaN</td>\n",
       "      <td>Hamza</td>\n",
       "      <td>NaN</td>\n",
       "    </tr>\n",
       "    <tr>\n",
       "      <th>1</th>\n",
       "      <td>Monday, January 02, 2017</td>\n",
       "      <td>150</td>\n",
       "      <td>10:45AM</td>\n",
       "      <td>26</td>\n",
       "      <td>M</td>\n",
       "      <td>Nursing Staff</td>\n",
       "      <td>NaN</td>\n",
       "      <td>Dressing</td>\n",
       "      <td>1500</td>\n",
       "      <td>1500.0</td>\n",
       "      <td>-</td>\n",
       "      <td>Dr Saniya</td>\n",
       "      <td>NaN</td>\n",
       "      <td>Haris</td>\n",
       "      <td>NaN</td>\n",
       "    </tr>\n",
       "    <tr>\n",
       "      <th>2</th>\n",
       "      <td>Monday, January 02, 2017</td>\n",
       "      <td>58</td>\n",
       "      <td>12:38PM</td>\n",
       "      <td>30</td>\n",
       "      <td>F</td>\n",
       "      <td>Dr Riffat Naheed</td>\n",
       "      <td>Psychotherapist</td>\n",
       "      <td>Consultation</td>\n",
       "      <td>1000</td>\n",
       "      <td>1000.0</td>\n",
       "      <td>-</td>\n",
       "      <td>Mrs Shamsa</td>\n",
       "      <td>300.0</td>\n",
       "      <td>Fiza</td>\n",
       "      <td>NaN</td>\n",
       "    </tr>\n",
       "    <tr>\n",
       "      <th>3</th>\n",
       "      <td>Monday, January 02, 2017</td>\n",
       "      <td>75</td>\n",
       "      <td>1:00PM</td>\n",
       "      <td>40</td>\n",
       "      <td>M</td>\n",
       "      <td>Dr Riffat Naheed</td>\n",
       "      <td>Psychotherapist</td>\n",
       "      <td>Consultation</td>\n",
       "      <td>1500</td>\n",
       "      <td>1500.0</td>\n",
       "      <td>-</td>\n",
       "      <td>Mrs Shamsa</td>\n",
       "      <td>450.0</td>\n",
       "      <td>Zaheer</td>\n",
       "      <td>NaN</td>\n",
       "    </tr>\n",
       "    <tr>\n",
       "      <th>4</th>\n",
       "      <td>Monday, January 02, 2017</td>\n",
       "      <td>97</td>\n",
       "      <td>2:45PM</td>\n",
       "      <td>27</td>\n",
       "      <td>M</td>\n",
       "      <td>Dr Riffat Naheed</td>\n",
       "      <td>Psychotherapist</td>\n",
       "      <td>Consultation</td>\n",
       "      <td>2000</td>\n",
       "      <td>2000.0</td>\n",
       "      <td>-</td>\n",
       "      <td>Mrs Shamsa</td>\n",
       "      <td>600.0</td>\n",
       "      <td>Haris</td>\n",
       "      <td>NaN</td>\n",
       "    </tr>\n",
       "  </tbody>\n",
       "</table>\n",
       "</div>"
      ],
      "text/plain": [
       "                       Date   id     Time Age Sex Consulting..Doctor  \\\n",
       "0  Sunday, January 01, 2017  101  11:00AM  40   F      Dr Kinza Alam   \n",
       "1  Monday, January 02, 2017  150  10:45AM  26   M      Nursing Staff   \n",
       "2  Monday, January 02, 2017   58  12:38PM  30   F   Dr Riffat Naheed   \n",
       "3  Monday, January 02, 2017   75   1:00PM  40   M   Dr Riffat Naheed   \n",
       "4  Monday, January 02, 2017   97   2:45PM  27   M   Dr Riffat Naheed   \n",
       "\n",
       "         Specialty     Procedure Total..Charges  Amount..Received.  \\\n",
       "0            Gynae     C Section          30000            30000.0   \n",
       "1              NaN      Dressing           1500             1500.0   \n",
       "2  Psychotherapist  Consultation           1000             1000.0   \n",
       "3  Psychotherapist  Consultation           1500             1500.0   \n",
       "4  Psychotherapist  Consultation           2000             2000.0   \n",
       "\n",
       "  Amount..Balance Amount.Received.By  Amount.in.Hospital Receptionist..Name  \\\n",
       "0            -           Mrs Shamsa                  NaN              Hamza   \n",
       "1            -            Dr Saniya                  NaN              Haris   \n",
       "2            -           Mrs Shamsa                300.0               Fiza   \n",
       "3            -           Mrs Shamsa                450.0             Zaheer   \n",
       "4            -           Mrs Shamsa                600.0              Haris   \n",
       "\n",
       "  Next.Apt  \n",
       "0      NaN  \n",
       "1      NaN  \n",
       "2      NaN  \n",
       "3      NaN  \n",
       "4      NaN  "
      ]
     },
     "execution_count": 132,
     "metadata": {},
     "output_type": "execute_result"
    }
   ],
   "source": [
    "hfd = pd.read_csv('hospitaldata.csv',thousands=',')\n",
    "hfd.head()"
   ]
  },
  {
   "cell_type": "markdown",
   "metadata": {},
   "source": [
    "# Q1. Remove the dots in the names."
   ]
  },
  {
   "cell_type": "code",
   "execution_count": 133,
   "metadata": {
    "collapsed": false
   },
   "outputs": [
    {
     "data": {
      "text/html": [
       "<div>\n",
       "<table border=\"1\" class=\"dataframe\">\n",
       "  <thead>\n",
       "    <tr style=\"text-align: right;\">\n",
       "      <th></th>\n",
       "      <th>Date</th>\n",
       "      <th>id</th>\n",
       "      <th>Time</th>\n",
       "      <th>Age</th>\n",
       "      <th>Sex</th>\n",
       "      <th>ConsultingDoctor</th>\n",
       "      <th>Specialty</th>\n",
       "      <th>Procedure</th>\n",
       "      <th>TotalCharges</th>\n",
       "      <th>AmountReceived</th>\n",
       "      <th>AmountBalance</th>\n",
       "      <th>AmountReceivedBy</th>\n",
       "      <th>AmountinHospital</th>\n",
       "      <th>ReceptionistName</th>\n",
       "      <th>NextApt</th>\n",
       "    </tr>\n",
       "  </thead>\n",
       "  <tbody>\n",
       "    <tr>\n",
       "      <th>0</th>\n",
       "      <td>Sunday, January 01, 2017</td>\n",
       "      <td>101</td>\n",
       "      <td>11:00AM</td>\n",
       "      <td>40</td>\n",
       "      <td>F</td>\n",
       "      <td>Dr Kinza Alam</td>\n",
       "      <td>Gynae</td>\n",
       "      <td>C Section</td>\n",
       "      <td>30000</td>\n",
       "      <td>30000.0</td>\n",
       "      <td>-</td>\n",
       "      <td>Mrs Shamsa</td>\n",
       "      <td>NaN</td>\n",
       "      <td>Hamza</td>\n",
       "      <td>NaN</td>\n",
       "    </tr>\n",
       "    <tr>\n",
       "      <th>1</th>\n",
       "      <td>Monday, January 02, 2017</td>\n",
       "      <td>150</td>\n",
       "      <td>10:45AM</td>\n",
       "      <td>26</td>\n",
       "      <td>M</td>\n",
       "      <td>Nursing Staff</td>\n",
       "      <td>NaN</td>\n",
       "      <td>Dressing</td>\n",
       "      <td>1500</td>\n",
       "      <td>1500.0</td>\n",
       "      <td>-</td>\n",
       "      <td>Dr Saniya</td>\n",
       "      <td>NaN</td>\n",
       "      <td>Haris</td>\n",
       "      <td>NaN</td>\n",
       "    </tr>\n",
       "    <tr>\n",
       "      <th>2</th>\n",
       "      <td>Monday, January 02, 2017</td>\n",
       "      <td>58</td>\n",
       "      <td>12:38PM</td>\n",
       "      <td>30</td>\n",
       "      <td>F</td>\n",
       "      <td>Dr Riffat Naheed</td>\n",
       "      <td>Psychotherapist</td>\n",
       "      <td>Consultation</td>\n",
       "      <td>1000</td>\n",
       "      <td>1000.0</td>\n",
       "      <td>-</td>\n",
       "      <td>Mrs Shamsa</td>\n",
       "      <td>300.0</td>\n",
       "      <td>Fiza</td>\n",
       "      <td>NaN</td>\n",
       "    </tr>\n",
       "    <tr>\n",
       "      <th>3</th>\n",
       "      <td>Monday, January 02, 2017</td>\n",
       "      <td>75</td>\n",
       "      <td>1:00PM</td>\n",
       "      <td>40</td>\n",
       "      <td>M</td>\n",
       "      <td>Dr Riffat Naheed</td>\n",
       "      <td>Psychotherapist</td>\n",
       "      <td>Consultation</td>\n",
       "      <td>1500</td>\n",
       "      <td>1500.0</td>\n",
       "      <td>-</td>\n",
       "      <td>Mrs Shamsa</td>\n",
       "      <td>450.0</td>\n",
       "      <td>Zaheer</td>\n",
       "      <td>NaN</td>\n",
       "    </tr>\n",
       "    <tr>\n",
       "      <th>4</th>\n",
       "      <td>Monday, January 02, 2017</td>\n",
       "      <td>97</td>\n",
       "      <td>2:45PM</td>\n",
       "      <td>27</td>\n",
       "      <td>M</td>\n",
       "      <td>Dr Riffat Naheed</td>\n",
       "      <td>Psychotherapist</td>\n",
       "      <td>Consultation</td>\n",
       "      <td>2000</td>\n",
       "      <td>2000.0</td>\n",
       "      <td>-</td>\n",
       "      <td>Mrs Shamsa</td>\n",
       "      <td>600.0</td>\n",
       "      <td>Haris</td>\n",
       "      <td>NaN</td>\n",
       "    </tr>\n",
       "  </tbody>\n",
       "</table>\n",
       "</div>"
      ],
      "text/plain": [
       "                       Date   id     Time Age Sex  ConsultingDoctor  \\\n",
       "0  Sunday, January 01, 2017  101  11:00AM  40   F     Dr Kinza Alam   \n",
       "1  Monday, January 02, 2017  150  10:45AM  26   M     Nursing Staff   \n",
       "2  Monday, January 02, 2017   58  12:38PM  30   F  Dr Riffat Naheed   \n",
       "3  Monday, January 02, 2017   75   1:00PM  40   M  Dr Riffat Naheed   \n",
       "4  Monday, January 02, 2017   97   2:45PM  27   M  Dr Riffat Naheed   \n",
       "\n",
       "         Specialty     Procedure TotalCharges  AmountReceived AmountBalance  \\\n",
       "0            Gynae     C Section        30000         30000.0          -      \n",
       "1              NaN      Dressing         1500          1500.0          -      \n",
       "2  Psychotherapist  Consultation         1000          1000.0          -      \n",
       "3  Psychotherapist  Consultation         1500          1500.0          -      \n",
       "4  Psychotherapist  Consultation         2000          2000.0          -      \n",
       "\n",
       "  AmountReceivedBy  AmountinHospital ReceptionistName NextApt  \n",
       "0      Mrs Shamsa                NaN            Hamza     NaN  \n",
       "1       Dr Saniya                NaN            Haris     NaN  \n",
       "2      Mrs Shamsa              300.0             Fiza     NaN  \n",
       "3      Mrs Shamsa              450.0           Zaheer     NaN  \n",
       "4      Mrs Shamsa              600.0            Haris     NaN  "
      ]
     },
     "execution_count": 133,
     "metadata": {},
     "output_type": "execute_result"
    }
   ],
   "source": [
    "hfd.columns = [col.replace('.','') for col in hfd.columns]\n",
    "hfd.head()"
   ]
  },
  {
   "cell_type": "markdown",
   "metadata": {},
   "source": [
    "# Q2. Which day of the week is expected to have most visits?"
   ]
  },
  {
   "cell_type": "code",
   "execution_count": 134,
   "metadata": {
    "collapsed": false
   },
   "outputs": [
    {
     "data": {
      "text/plain": [
       "<matplotlib.text.Text at 0x13f6c048>"
      ]
     },
     "execution_count": 134,
     "metadata": {},
     "output_type": "execute_result"
    },
    {
     "data": {
      "image/png": "[encoded data removed]",
      "text/plain": [
       "<matplotlib.figure.Figure at 0x16255390>"
      ]
     },
     "metadata": {},
     "output_type": "display_data"
    }
   ],
   "source": [
    "# So there are 0 Null values in Date column\n",
    "\n",
    "weekday = pd.to_datetime(hfd['Date'])\n",
    "hfd['WeekDay'] = weekday.dt.weekday_name  #Monday=0, Sunday=6\n",
    "# grouping by weekday\n",
    "DayData = hfd.groupby('WeekDay').WeekDay.count()\n",
    "g1 = DayData.plot(kind='bar',figsize=(10, 5),color = '#8E44AD',title=\"Weekdays Visits\") \n",
    "g1.set_xlabel('Week Days')\n",
    "g1.set_ylabel('Visits')\n",
    "\n",
    "#As we can see from plot, Monday has the most visits"
   ]
  },
  {
   "cell_type": "markdown",
   "metadata": {},
   "source": [
    "# Q3. What is the average age of patients?"
   ]
  },
  {
   "cell_type": "code",
   "execution_count": 135,
   "metadata": {
    "collapsed": false
   },
   "outputs": [
    {
     "name": "stdout",
     "output_type": "stream",
     "text": [
      "Mean Age is: 32.734375\n"
     ]
    }
   ],
   "source": [
    "# There are grabage values e.g. \"-\", \"6M\". So we need to clean this column\n",
    "\n",
    "# We can use mean(Age) to fill the garbage values, but because our dataset is too small, ill just replace them with nan\n",
    "\n",
    "hfd['Age'] =pd.to_numeric(hfd.Age,errors='coerce')\n",
    "mean = np.mean(hfd.Age) #Average age is 32.7\n",
    "print \"Mean Age is: \"+str(mean)"
   ]
  },
  {
   "cell_type": "markdown",
   "metadata": {},
   "source": [
    "# Q4. How many children were entertained?"
   ]
  },
  {
   "cell_type": "code",
   "execution_count": 136,
   "metadata": {
    "collapsed": false
   },
   "outputs": [
    {
     "name": "stdout",
     "output_type": "stream",
     "text": [
      "Number of childrens entertained:23\n"
     ]
    },
    {
     "data": {
      "text/plain": [
       "<matplotlib.text.Text at 0x16faf208>"
      ]
     },
     "execution_count": 136,
     "metadata": {},
     "output_type": "execute_result"
    },
    {
     "data": {
      "image/png": "[encoded data removed]",
      "text/plain": [
       "<matplotlib.figure.Figure at 0x1741bd68>"
      ]
     },
     "metadata": {},
     "output_type": "display_data"
    }
   ],
   "source": [
    "child = hfd[['Age']].copy()\n",
    "child =child.loc[child['Age']<=12]\n",
    "child = child.groupby('Age').Age.count()\n",
    "print \"Number of childrens entertained:\"+str(sum(child))  #23 child were entertained\n",
    "g1 = child.plot(kind='bar',figsize=(10, 5),color = '#8E44AD',title=\"Children Visits by Age\") \n",
    "g1.set_xlabel('Age')\n",
    "g1.set_ylabel('Visits')"
   ]
  },
  {
   "cell_type": "markdown",
   "metadata": {},
   "source": [
    "# Q5. Which gender type had what kind of procedure in abundance?"
   ]
  },
  {
   "cell_type": "code",
   "execution_count": 137,
   "metadata": {
    "collapsed": false
   },
   "outputs": [
    {
     "name": "stdout",
     "output_type": "stream",
     "text": [
      "Below are the results: \n",
      "Sex  Specialty         \n",
      "F    Child Specialist       3\n",
      "     Dental                 1\n",
      "     Dentist               57\n",
      "     ENT                    1\n",
      "     General Surgeon        2\n",
      "     Gynae                 13\n",
      "     M/o                    7\n",
      "     Medical Specialist     1\n",
      "     Orthopedic             5\n",
      "     Psychotherapist        4\n",
      "     Radiologist            3\n",
      "M    Anaesthetist           1\n",
      "     Child Specialist       7\n",
      "     Dentist               46\n",
      "     Dermatologist          1\n",
      "     General Surgeon        2\n",
      "     M/o                    8\n",
      "     Medical Specialist     2\n",
      "     Orthopedic             3\n",
      "     Psychotherapist       10\n",
      "     Radiologist            3\n",
      "NAN  Child Specialist       1\n",
      "Name: Counts, dtype: int64\n"
     ]
    }
   ],
   "source": [
    "#cleaning Sex column\n",
    "hfd.Sex = hfd.Sex.replace('-',np.nan) #removing '-' from Sex column\n",
    "hfd.Sex= map(lambda x: str(x).upper(),hfd.Sex) #conveting 'f' and 'm' to upper case\n",
    "# Now we calculate procedure of each Sex\n",
    "gend = hfd[['Sex','Specialty']].copy()\n",
    "gend['Counts'] =1       #initially, set that counter to 1.\n",
    "group_data = gend.groupby(['Sex','Specialty'])['Counts'].sum() #sum function\n",
    "print \"Below are the results: \"\n",
    "print group_data"
   ]
  },
  {
   "cell_type": "code",
   "execution_count": 138,
   "metadata": {
    "collapsed": false
   },
   "outputs": [
    {
     "data": {
      "text/plain": [
       "<matplotlib.text.Text at 0x17428fd0>"
      ]
     },
     "execution_count": 138,
     "metadata": {},
     "output_type": "execute_result"
    },
    {
     "data": {
      "image/png": "[encoded data removed]",
      "text/plain": [
       "<matplotlib.figure.Figure at 0x16dc7b70>"
      ]
     },
     "metadata": {},
     "output_type": "display_data"
    }
   ],
   "source": [
    "# We can see from above results that Dentist is abundance in both Female and Male\n",
    "\n",
    "#Lets plot a graph \n",
    "g1 = group_data.plot(kind='bar',figsize=(20, 10),color = '#8E44AD',title=\"Specialty Abundance in Femal & Male\") \n",
    "g1.set_xlabel('Sex-Specialty')\n",
    "g1.set_ylabel('Counts')"
   ]
  },
  {
   "cell_type": "markdown",
   "metadata": {},
   "source": [
    "# Q6. Which Doctor is earning highest?"
   ]
  },
  {
   "cell_type": "code",
   "execution_count": 139,
   "metadata": {
    "collapsed": false
   },
   "outputs": [
    {
     "data": {
      "text/html": [
       "<div>\n",
       "<table border=\"1\" class=\"dataframe\">\n",
       "  <thead>\n",
       "    <tr style=\"text-align: right;\">\n",
       "      <th></th>\n",
       "      <th>TotalCharges</th>\n",
       "    </tr>\n",
       "    <tr>\n",
       "      <th>ConsultingDoctor</th>\n",
       "      <th></th>\n",
       "    </tr>\n",
       "  </thead>\n",
       "  <tbody>\n",
       "    <tr>\n",
       "      <th>Dr Alaf Khan</th>\n",
       "      <td>513050.0</td>\n",
       "    </tr>\n",
       "    <tr>\n",
       "      <th>Dr Kinza Alam</th>\n",
       "      <td>76700.0</td>\n",
       "    </tr>\n",
       "    <tr>\n",
       "      <th>Dr Saad</th>\n",
       "      <td>52000.0</td>\n",
       "    </tr>\n",
       "    <tr>\n",
       "      <th>Dr Ali</th>\n",
       "      <td>26100.0</td>\n",
       "    </tr>\n",
       "    <tr>\n",
       "      <th>Dr Fakiha</th>\n",
       "      <td>22600.0</td>\n",
       "    </tr>\n",
       "  </tbody>\n",
       "</table>\n",
       "</div>"
      ],
      "text/plain": [
       "                  TotalCharges\n",
       "ConsultingDoctor              \n",
       "Dr Alaf Khan          513050.0\n",
       "Dr Kinza Alam          76700.0\n",
       "Dr Saad                52000.0\n",
       "Dr Ali                 26100.0\n",
       "Dr Fakiha              22600.0"
      ]
     },
     "execution_count": 139,
     "metadata": {},
     "output_type": "execute_result"
    }
   ],
   "source": [
    "#So we will replace garbage with NaN\n",
    "\n",
    "hfd.TotalCharges = hfd.TotalCharges.replace('Cancelled',np.nan)\n",
    "\n",
    "#We convert TotalCharges column to numeric\n",
    "hfd['TotalCharges'] =pd.to_numeric(hfd.TotalCharges,errors='coerce')\n",
    "#Now we are good to go\n",
    "\n",
    "docEarn = hfd[['ConsultingDoctor','TotalCharges']].copy()\n",
    "docEarn = docEarn.groupby('ConsultingDoctor').sum().sort_values(by='TotalCharges',ascending=False)\n",
    "\n",
    "docEarn.head()"
   ]
  },
  {
   "cell_type": "code",
   "execution_count": 140,
   "metadata": {
    "collapsed": false
   },
   "outputs": [
    {
     "data": {
      "text/plain": [
       "<matplotlib.text.Text at 0x188c6d30>"
      ]
     },
     "execution_count": 140,
     "metadata": {},
     "output_type": "execute_result"
    },
    {
     "data": {
      "image/png": "[encoded data removed]",
      "text/plain": [
       "<matplotlib.figure.Figure at 0x9cc3da0>"
      ]
     },
     "metadata": {},
     "output_type": "display_data"
    }
   ],
   "source": [
    "#As we can see, Dr Alaf Khan is on top of the lists in earning\n",
    "#Now, lets plot that\n",
    "g1 = docEarn.plot(kind='bar',figsize=(20,10),color='#8E44AD',title=\"Doctor Earnings\")\n",
    "g1.set_xlabel('Consulting Doctors')\n",
    "g1.set_ylabel('Total Earnings')"
   ]
  },
  {
   "cell_type": "markdown",
   "metadata": {},
   "source": [
    "# Q7. Which procedure type earns more money?"
   ]
  },
  {
   "cell_type": "code",
   "execution_count": 141,
   "metadata": {
    "collapsed": false
   },
   "outputs": [
    {
     "data": {
      "text/html": [
       "<div>\n",
       "<table border=\"1\" class=\"dataframe\">\n",
       "  <thead>\n",
       "    <tr style=\"text-align: right;\">\n",
       "      <th></th>\n",
       "      <th>TotalCharges</th>\n",
       "    </tr>\n",
       "    <tr>\n",
       "      <th>Procedure</th>\n",
       "      <th></th>\n",
       "    </tr>\n",
       "  </thead>\n",
       "  <tbody>\n",
       "    <tr>\n",
       "      <th>Orthodontics</th>\n",
       "      <td>240000.0</td>\n",
       "    </tr>\n",
       "  </tbody>\n",
       "</table>\n",
       "</div>"
      ],
      "text/plain": [
       "              TotalCharges\n",
       "Procedure                 \n",
       "Orthodontics      240000.0"
      ]
     },
     "execution_count": 141,
     "metadata": {},
     "output_type": "execute_result"
    }
   ],
   "source": [
    "procEarn = hfd[['Procedure','TotalCharges']].copy()\n",
    "procEarn = procEarn.groupby('Procedure').sum().sort_values(by='TotalCharges',ascending=False)\n",
    "# procEarn = procEarn.reset_index()\n",
    "procEarn.head(n=1)"
   ]
  },
  {
   "cell_type": "code",
   "execution_count": 142,
   "metadata": {
    "collapsed": false
   },
   "outputs": [
    {
     "data": {
      "text/plain": [
       "<matplotlib.text.Text at 0x18b22d30>"
      ]
     },
     "execution_count": 142,
     "metadata": {},
     "output_type": "execute_result"
    },
    {
     "data": {
      "image/png": "[encoded data removed]",
      "text/plain": [
       "<matplotlib.figure.Figure at 0x16ddbd30>"
      ]
     },
     "metadata": {},
     "output_type": "display_data"
    }
   ],
   "source": [
    "#We see orthodontics has the highest earnings\n",
    "#lets plot these results\n",
    "g = procEarn.plot(kind='bar',figsize=(20,10),color='#8E44AD',title='Procedure Earnings')\n",
    "g.set_xlabel('Procedures')\n",
    "g.set_ylabel('Procedure Earnings')"
   ]
  },
  {
   "cell_type": "markdown",
   "metadata": {},
   "source": [
    "# Q8. Which time of the day has highest frequency of visits by hour?"
   ]
  },
  {
   "cell_type": "code",
   "execution_count": 143,
   "metadata": {
    "collapsed": true
   },
   "outputs": [],
   "source": [
    "# Replaacing '-' with NaN\n",
    "hfd.Time = hfd.Time.replace('-',np.nan)\n",
    "# Now we convert Time to standard time\n",
    "hfd.Time = pd.to_datetime(hfd.Time,format = '%I:%M%p')\n",
    "hfd['Hour'] =hfd.Time.dt.hour"
   ]
  },
  {
   "cell_type": "code",
   "execution_count": 144,
   "metadata": {
    "collapsed": false
   },
   "outputs": [
    {
     "name": "stdout",
     "output_type": "stream",
     "text": [
      "The time with highets frequency: \n"
     ]
    },
    {
     "data": {
      "text/html": [
       "<div>\n",
       "<table border=\"1\" class=\"dataframe\">\n",
       "  <thead>\n",
       "    <tr style=\"text-align: right;\">\n",
       "      <th></th>\n",
       "      <th>Visits</th>\n",
       "    </tr>\n",
       "    <tr>\n",
       "      <th>Hour</th>\n",
       "      <th></th>\n",
       "    </tr>\n",
       "  </thead>\n",
       "  <tbody>\n",
       "    <tr>\n",
       "      <th>13.0</th>\n",
       "      <td>29</td>\n",
       "    </tr>\n",
       "  </tbody>\n",
       "</table>\n",
       "</div>"
      ],
      "text/plain": [
       "      Visits\n",
       "Hour        \n",
       "13.0      29"
      ]
     },
     "execution_count": 144,
     "metadata": {},
     "output_type": "execute_result"
    }
   ],
   "source": [
    "#Now we groupby Hour\n",
    "vh = hfd[['Hour']].copy()\n",
    "vh['Visits']=0\n",
    "vh = vh.groupby(['Hour']).agg({'Visits':\"count\"})\n",
    "vh = vh.sort_values(by=['Visits'],ascending=False)\n",
    "print \"The time with highets frequency: \";\n",
    "vh.head(n=1)"
   ]
  },
  {
   "cell_type": "code",
   "execution_count": 145,
   "metadata": {
    "collapsed": false
   },
   "outputs": [
    {
     "data": {
      "text/plain": [
       "<matplotlib.text.Text at 0x19129358>"
      ]
     },
     "execution_count": 145,
     "metadata": {},
     "output_type": "execute_result"
    },
    {
     "data": {
      "image/png": "[encoded data removed]",
      "text/plain": [
       "<matplotlib.figure.Figure at 0x15b7dda0>"
      ]
     },
     "metadata": {},
     "output_type": "display_data"
    }
   ],
   "source": [
    "#So we can see, 1:00pm (13:00 Standard Time) \n",
    "#lets plot this\n",
    "\n",
    "g = vh.plot(kind='bar',figsize=(20,10),color='#8E44AD',title='Visits By Hours')\n",
    "g.set_xlabel('Hours in standad time')\n",
    "g.set_ylabel('Visits')"
   ]
  },
  {
   "cell_type": "markdown",
   "metadata": {},
   "source": [
    "# Q9. Create a bracket of time?"
   ]
  },
  {
   "cell_type": "code",
   "execution_count": 174,
   "metadata": {
    "collapsed": false
   },
   "outputs": [
    {
     "data": {
      "text/html": [
       "<div>\n",
       "<table border=\"1\" class=\"dataframe\">\n",
       "  <thead>\n",
       "    <tr style=\"text-align: right;\">\n",
       "      <th></th>\n",
       "      <th>Time</th>\n",
       "      <th>Hour</th>\n",
       "      <th>Bracket</th>\n",
       "    </tr>\n",
       "  </thead>\n",
       "  <tbody>\n",
       "    <tr>\n",
       "      <th>0</th>\n",
       "      <td>1900-01-01 11:00:00</td>\n",
       "      <td>11.0</td>\n",
       "      <td>Morning</td>\n",
       "    </tr>\n",
       "    <tr>\n",
       "      <th>1</th>\n",
       "      <td>1900-01-01 10:45:00</td>\n",
       "      <td>10.0</td>\n",
       "      <td>Morning</td>\n",
       "    </tr>\n",
       "    <tr>\n",
       "      <th>2</th>\n",
       "      <td>1900-01-01 12:38:00</td>\n",
       "      <td>12.0</td>\n",
       "      <td>Afternoon</td>\n",
       "    </tr>\n",
       "    <tr>\n",
       "      <th>3</th>\n",
       "      <td>1900-01-01 13:00:00</td>\n",
       "      <td>13.0</td>\n",
       "      <td>Afternoon</td>\n",
       "    </tr>\n",
       "    <tr>\n",
       "      <th>4</th>\n",
       "      <td>1900-01-01 14:45:00</td>\n",
       "      <td>14.0</td>\n",
       "      <td>Afternoon</td>\n",
       "    </tr>\n",
       "  </tbody>\n",
       "</table>\n",
       "</div>"
      ],
      "text/plain": [
       "                 Time  Hour    Bracket\n",
       "0 1900-01-01 11:00:00  11.0    Morning\n",
       "1 1900-01-01 10:45:00  10.0    Morning\n",
       "2 1900-01-01 12:38:00  12.0  Afternoon\n",
       "3 1900-01-01 13:00:00  13.0  Afternoon\n",
       "4 1900-01-01 14:45:00  14.0  Afternoon"
      ]
     },
     "execution_count": 174,
     "metadata": {},
     "output_type": "execute_result"
    }
   ],
   "source": [
    "#First converting the Hour column to numeric type\n",
    "hfd['Hour'] = pd.to_numeric(hfd.Hour,errors='coerce')\n",
    "\n",
    "def getBracket(time):\n",
    "    d = pd.to_datetime(time)\n",
    "    if time >=pd.to_datetime('1900-01-01 06:00:00') and time <=pd.to_datetime('1900-01-01 12:00:00'):\n",
    "        return 'Morning'\n",
    "    elif time >=pd.to_datetime('1900-01-01 12:00:00') and time <=pd.to_datetime('1900-01-01 16:00:00'):\n",
    "        return 'Afternoon'\n",
    "    elif time >=pd.to_datetime('1900-01-01 16:00:00') and time <=pd.to_datetime('1900-01-01 19:00:00'):\n",
    "        return 'Evening'\n",
    "    elif (time >=pd.to_datetime('1900-01-01 19:00:00') and time <=pd.to_datetime('1900-01-01 23:00:00'))or(time >=pd.to_datetime('1900-01-01 00:00:00') and time <=pd.to_datetime('1900-01-01 06:00:00')):\n",
    "        return 'Evening'\n",
    "\n",
    "    \n",
    "#Now creating another column\n",
    "mask = (hfd.Hour.notnull())\n",
    "\n",
    "hfd['Bracket'] = hfd[mask].apply(lambda x: getBracket(x['Time']),axis=1)\n",
    "\n",
    "hfd[['Time','Hour','Bracket']].head()"
   ]
  },
  {
   "cell_type": "markdown",
   "metadata": {},
   "source": [
    "# Q10. How many patients are repeated visitors?"
   ]
  },
  {
   "cell_type": "code",
   "execution_count": 147,
   "metadata": {
    "collapsed": false
   },
   "outputs": [
    {
     "name": "stdout",
     "output_type": "stream",
     "text": [
      "No of patients with repeatedd visits: 37\n"
     ]
    }
   ],
   "source": [
    "reppat = hfd[['id']].copy()\n",
    "reppat['Visits']=0\n",
    "reppat = reppat.groupby(['id']).agg({'Visits':\"count\"})\n",
    "reppat = reppat.loc[reppat['Visits']>1]\n",
    "reppat = reppat.reset_index()\n",
    "\n",
    "print \"No of patients with repeatedd visits: \"+str(reppat.id.count())"
   ]
  },
  {
   "cell_type": "markdown",
   "metadata": {},
   "source": [
    "# Q11. Give us the id of repeated visitors?"
   ]
  },
  {
   "cell_type": "code",
   "execution_count": 148,
   "metadata": {
    "collapsed": false
   },
   "outputs": [
    {
     "name": "stdout",
     "output_type": "stream",
     "text": [
      "[1L, 4L, 12L, 13L, 17L, 20L, 25L, 40L, 45L, 46L, 59L, 63L, 64L, 80L, 88L, 94L, 96L, 97L, 100L, 101L, 107L, 109L, 112L, 114L, 116L, 118L, 120L, 122L, 130L, 132L, 133L, 140L, 145L, 149L, 150L, 151L, 153L]\n"
     ]
    }
   ],
   "source": [
    "print reppat['id'].tolist()"
   ]
  },
  {
   "cell_type": "markdown",
   "metadata": {},
   "source": [
    "# Q12. Which patients visited again for the same problem?"
   ]
  },
  {
   "cell_type": "code",
   "execution_count": 149,
   "metadata": {
    "collapsed": false
   },
   "outputs": [
    {
     "name": "stdout",
     "output_type": "stream",
     "text": [
      "                     Visits\n",
      "id  Specialty              \n",
      "12  Dentist               2\n",
      "13  Orthopedic            2\n",
      "17  Dentist               2\n",
      "25  Gynae                 2\n",
      "40  Dentist               2\n",
      "45  Dentist               3\n",
      "63  Dentist               2\n",
      "88  Dentist               2\n",
      "96  Dentist               2\n",
      "97  Psychotherapist       2\n",
      "100 Dentist               2\n",
      "101 Gynae                 3\n",
      "107 Dentist               2\n",
      "109 Dentist               3\n",
      "112 Orthopedic            2\n",
      "114 Gynae                 3\n",
      "116 Dentist               2\n",
      "120 M/o                   2\n",
      "130 Psychotherapist       2\n",
      "132 Dentist               3\n",
      "140 Dentist               4\n",
      "145 Dentist               3\n",
      "149 Dentist               2\n",
      "151 Dentist               2\n",
      "153 Dentist               2\n"
     ]
    }
   ],
   "source": [
    "reppat = hfd[['id','Specialty']].copy()\n",
    "reppat['Visits']=1\n",
    "reppat =  reppat.groupby(['id','Specialty']).agg({'Visits':\"count\"})\n",
    "reppat = reppat.loc[reppat['Visits']>1]\n",
    "print (reppat)"
   ]
  },
  {
   "cell_type": "code",
   "execution_count": 150,
   "metadata": {
    "collapsed": false
   },
   "outputs": [
    {
     "data": {
      "text/plain": [
       "<matplotlib.text.Text at 0x199cf438>"
      ]
     },
     "execution_count": 150,
     "metadata": {},
     "output_type": "execute_result"
    },
    {
     "data": {
      "image/png": "[encoded data removed]",
      "text/plain": [
       "<matplotlib.figure.Figure at 0x18c93d68>"
      ]
     },
     "metadata": {},
     "output_type": "display_data"
    }
   ],
   "source": [
    "#Lets plot it\n",
    "g = reppat.plot(kind='bar',figsize=(20,10),color='#8E44AD',title='Patients and their visits for same Specialty')\n",
    "g.set_xlabel('ID-Specialty')\n",
    "g.set_ylabel('Visits')"
   ]
  },
  {
   "cell_type": "markdown",
   "metadata": {},
   "source": [
    "# Q13. What is the median age for Females and Males?"
   ]
  },
  {
   "cell_type": "code",
   "execution_count": 151,
   "metadata": {
    "collapsed": false
   },
   "outputs": [
    {
     "name": "stdout",
     "output_type": "stream",
     "text": [
      "Median ages are: \n"
     ]
    },
    {
     "data": {
      "text/plain": [
       "Sex\n",
       "F      30.0\n",
       "M      29.0\n",
       "NAN     NaN\n",
       "Name: Age, dtype: float64"
      ]
     },
     "execution_count": 151,
     "metadata": {},
     "output_type": "execute_result"
    }
   ],
   "source": [
    "medAge = hfd[['Sex','Age']].copy()\n",
    "medAge = medAge.groupby(['Sex'])['Age'].apply(np.nanmedian)  #Group sex, and apply median on age\n",
    "print \"Median ages are: \"\n",
    "medAge"
   ]
  },
  {
   "cell_type": "markdown",
   "metadata": {},
   "source": [
    "# Q14. What is the total amount in balance?"
   ]
  },
  {
   "cell_type": "code",
   "execution_count": 152,
   "metadata": {
    "collapsed": false
   },
   "outputs": [
    {
     "name": "stdout",
     "output_type": "stream",
     "text": [
      "Amount in balance is:222500.0\n"
     ]
    }
   ],
   "source": [
    "hfd.AmountBalance = hfd.AmountBalance.replace(',','',regex=True)\n",
    "hfd.AmountBalance = pd.to_numeric(hfd.AmountBalance,errors='coerce')\n",
    "\n",
    "amountBalance = hfd.AmountBalance.sum()\n",
    "print \"Amount in balance is:\"+str(amountBalance) #222500"
   ]
  },
  {
   "cell_type": "markdown",
   "metadata": {},
   "source": [
    "# Q15. How much money was made by Procedure Type “Consultation”?"
   ]
  },
  {
   "cell_type": "code",
   "execution_count": 153,
   "metadata": {
    "collapsed": false
   },
   "outputs": [
    {
     "name": "stdout",
     "output_type": "stream",
     "text": [
      "Consultation made :\n"
     ]
    },
    {
     "data": {
      "text/html": [
       "<div>\n",
       "<table border=\"1\" class=\"dataframe\">\n",
       "  <thead>\n",
       "    <tr style=\"text-align: right;\">\n",
       "      <th></th>\n",
       "      <th>Procedure</th>\n",
       "      <th>TotalCharges</th>\n",
       "    </tr>\n",
       "  </thead>\n",
       "  <tbody>\n",
       "    <tr>\n",
       "      <th>0</th>\n",
       "      <td>Consultation</td>\n",
       "      <td>83950.0</td>\n",
       "    </tr>\n",
       "  </tbody>\n",
       "</table>\n",
       "</div>"
      ],
      "text/plain": [
       "      Procedure  TotalCharges\n",
       "0  Consultation       83950.0"
      ]
     },
     "execution_count": 153,
     "metadata": {},
     "output_type": "execute_result"
    }
   ],
   "source": [
    "hfd.TotalCharges = pd.to_numeric(hfd.TotalCharges,errors='coerce')\n",
    "consEarn = hfd[['Procedure','TotalCharges']].copy()\n",
    "consEarn = consEarn.loc[consEarn['Procedure']=='Consultation']\n",
    "consEarn = consEarn.groupby('Procedure').sum()\n",
    "consEarn = consEarn.reset_index()\n",
    "print \"Consultation made :\"\n",
    "consEarn"
   ]
  },
  {
   "cell_type": "markdown",
   "metadata": {},
   "source": [
    "# Q16. Is there a relation between Age and Total Charges paid?"
   ]
  },
  {
   "cell_type": "code",
   "execution_count": 154,
   "metadata": {
    "collapsed": false
   },
   "outputs": [
    {
     "name": "stdout",
     "output_type": "stream",
     "text": [
      "Age and TotalCharges have correlation value of: 0.028090455626\n"
     ]
    }
   ],
   "source": [
    "hfd.Age = pd.to_numeric(hfd.Age,errors='coerce')\n",
    "hfd.TotalCharges = pd.to_numeric(hfd.TotalCharges,errors='coerce')\n",
    "cor = hfd.Age.corr(hfd.TotalCharges)\n",
    "print \"Age and TotalCharges have correlation value of: \"+str(cor)\n",
    "# corr value = 0.02, Which is a weak positive relation. "
   ]
  },
  {
   "cell_type": "code",
   "execution_count": 155,
   "metadata": {
    "collapsed": false
   },
   "outputs": [
    {
     "data": {
      "text/plain": [
       "<matplotlib.text.Text at 0x199b9f98>"
      ]
     },
     "execution_count": 155,
     "metadata": {},
     "output_type": "execute_result"
    },
    {
     "data": {
      "image/png": "[encoded data removed]",
      "text/plain": [
       "<matplotlib.figure.Figure at 0x1991b198>"
      ]
     },
     "metadata": {},
     "output_type": "display_data"
    }
   ],
   "source": [
    "#Plotting correlation\n",
    "cor = hfd[['Age','TotalCharges']].copy()\n",
    "g = cor.plot(kind='line',fig=(20,10),title='Corelation Between Age & Total Charges')\n",
    "g.set_xlabel('Age')\n",
    "g.set_ylabel('Total Charges')"
   ]
  },
  {
   "cell_type": "markdown",
   "metadata": {},
   "source": [
    "# Q17. Which Age group had highest number of visits?"
   ]
  },
  {
   "cell_type": "code",
   "execution_count": 156,
   "metadata": {
    "collapsed": false
   },
   "outputs": [
    {
     "name": "stdout",
     "output_type": "stream",
     "text": [
      "Age:30.0 has max visits of :20\n"
     ]
    }
   ],
   "source": [
    "ageVisits = hfd[['Age']].copy()\n",
    "ageVisits = ageVisits.groupby(['Age']).Age.count()\n",
    "AgeList = ageVisits.index.tolist()\n",
    "VisitList = ageVisits.tolist()\n",
    "indexmaxVisits = np.argmax(VisitList)\n",
    "print \"Age:\"+str(AgeList[indexmaxVisits])+\" has max visits of :\"+str(VisitList[indexmaxVisits])"
   ]
  },
  {
   "cell_type": "code",
   "execution_count": 157,
   "metadata": {
    "collapsed": false
   },
   "outputs": [
    {
     "data": {
      "text/plain": [
       "<matplotlib.axes._subplots.AxesSubplot at 0x19df3e48>"
      ]
     },
     "execution_count": 157,
     "metadata": {},
     "output_type": "execute_result"
    },
    {
     "data": {
      "image/png": "[encoded data removed]",
      "text/plain": [
       "<matplotlib.figure.Figure at 0x19ec23c8>"
      ]
     },
     "metadata": {},
     "output_type": "display_data"
    }
   ],
   "source": [
    "# To visualize in Groups\n",
    "ageVisits = hfd[['Age']].copy()\n",
    "ageVisits.plot.hist(alpha=0.5,figsize=(20,10))"
   ]
  },
  {
   "cell_type": "markdown",
   "metadata": {},
   "source": [
    "# Q18. What is the total cost earned by Procedure Type X Ray and Scalling together?"
   ]
  },
  {
   "cell_type": "code",
   "execution_count": 158,
   "metadata": {
    "collapsed": false
   },
   "outputs": [
    {
     "data": {
      "text/html": [
       "<div>\n",
       "<table border=\"1\" class=\"dataframe\">\n",
       "  <thead>\n",
       "    <tr style=\"text-align: right;\">\n",
       "      <th></th>\n",
       "      <th>TotalCharges</th>\n",
       "    </tr>\n",
       "    <tr>\n",
       "      <th>Procedure</th>\n",
       "      <th></th>\n",
       "    </tr>\n",
       "  </thead>\n",
       "  <tbody>\n",
       "    <tr>\n",
       "      <th>X Ray</th>\n",
       "      <td>5800.0</td>\n",
       "    </tr>\n",
       "    <tr>\n",
       "      <th>Scalling</th>\n",
       "      <td>16500.0</td>\n",
       "    </tr>\n",
       "  </tbody>\n",
       "</table>\n",
       "</div>"
      ],
      "text/plain": [
       "           TotalCharges\n",
       "Procedure              \n",
       "X Ray            5800.0\n",
       "Scalling        16500.0"
      ]
     },
     "execution_count": 158,
     "metadata": {},
     "output_type": "execute_result"
    }
   ],
   "source": [
    "xsEarn = hfd[['Procedure','TotalCharges']].copy()\n",
    "xsEarn = xsEarn.loc[(xsEarn['Procedure']=='X Ray') | (xsEarn['Procedure']=='Scalling')]\n",
    "xsEarn = xsEarn.groupby('Procedure').sum().sort_values(by='TotalCharges')\n",
    "# xsEarn = xsEarn.reset_index()\n",
    "xsEarn"
   ]
  },
  {
   "cell_type": "code",
   "execution_count": 159,
   "metadata": {
    "collapsed": false
   },
   "outputs": [
    {
     "data": {
      "text/plain": [
       "<matplotlib.axes._subplots.AxesSubplot at 0x1a126f60>"
      ]
     },
     "execution_count": 159,
     "metadata": {},
     "output_type": "execute_result"
    },
    {
     "data": {
      "image/png": "[encoded data removed]",
      "text/plain": [
       "<matplotlib.figure.Figure at 0x16dd13c8>"
      ]
     },
     "metadata": {},
     "output_type": "display_data"
    }
   ],
   "source": [
    "#Scalling = 16500, X Ray=5800\n",
    "\n",
    "#Lets try to understand something, lets count the no of procedure for scalling and xray\n",
    "xs = hfd[['Procedure']].copy()\n",
    "xs = xs.loc[(xs['Procedure']=='X Ray') | (xs['Procedure']=='Scalling')]\n",
    "xs = xs.groupby('Procedure').Procedure.count()\n",
    "xs.plot(kind='bar',color='#8E44AD')"
   ]
  },
  {
   "cell_type": "code",
   "execution_count": 160,
   "metadata": {
    "collapsed": true
   },
   "outputs": [],
   "source": [
    "#Lets us now extract the  earnin of ach procedure from procedure with multiple values like scalling+rct etc"
   ]
  },
  {
   "cell_type": "code",
   "execution_count": 161,
   "metadata": {
    "collapsed": true
   },
   "outputs": [],
   "source": [
    "def getValue(x):\n",
    "    if 'X Ray' in x:\n",
    "        return 'X Ray'\n",
    "    elif 'Scalling' in x:\n",
    "        return 'Scalling'\n",
    "    \n",
    "def getCharges(x):\n",
    "    if x=='X Ray':\n",
    "        return 300\n",
    "    elif x=='Scalling':\n",
    "        return 3000\n"
   ]
  },
  {
   "cell_type": "code",
   "execution_count": 162,
   "metadata": {
    "collapsed": false
   },
   "outputs": [
    {
     "name": "stdout",
     "output_type": "stream",
     "text": [
      "           TotalCharges\n",
      "Procedure              \n",
      "X Ray            8200.0\n",
      "Scalling        28500.0\n"
     ]
    },
    {
     "data": {
      "image/png": "[encoded data removed]",
      "text/plain": [
       "<matplotlib.figure.Figure at 0x19af4cc0>"
      ]
     },
     "metadata": {},
     "output_type": "display_data"
    }
   ],
   "source": [
    "xsEarn2 = hfd[['Procedure','TotalCharges']].copy()\n",
    "\n",
    "xsEarn2 = xsEarn2[((xsEarn2['Procedure'].str.contains(\"X Ray\")==True)|(xsEarn2['Procedure'].str.contains(\"Scalling\")==True))&(xsEarn2['Procedure'].str.len()>10)]\n",
    "xsEarn2['Procedure'] = xsEarn2['Procedure'].apply(lambda x: getValue(x))\n",
    "xsEarn2['TotalCharges'] = xsEarn2['Procedure'].apply(lambda x: getCharges(x))\n",
    "xsEarn2 = xsEarn2.groupby('Procedure').sum().sort_values(by='TotalCharges')\n",
    "# xsEarn2 = xsEarn2.reset_index()\n",
    "tEarn = [xsEarn, xsEarn2]\n",
    "tEarn = pd.concat(tEarn)\n",
    "\n",
    "tEarn= tEarn.reset_index()\n",
    "tEarn = tEarn.groupby('Procedure').sum().sort_values(by='TotalCharges')\n",
    "# tEarn = tEarn.reset_index()\n",
    "print tEarn\n",
    "\n",
    "#Lets make it more visible\n",
    "axis('equal');\n",
    "explode = (0.1, 0)\n",
    "pie(tEarn, explode=explode, labels=tEarn.index,autopct='%1.1f%%',shadow=True, startangle=90);\n",
    "show()"
   ]
  },
  {
   "cell_type": "code",
   "execution_count": 48,
   "metadata": {
    "collapsed": true
   },
   "outputs": [],
   "source": [
    "hfd.to_csv('Cleaned-HospData.csv', sep=',')"
   ]
  }
 ],
 "metadata": {
  "kernelspec": {
   "display_name": "Python 2",
   "language": "python",
   "name": "python2"
  },
  "language_info": {
   "codemirror_mode": {
    "name": "ipython",
    "version": 2
   },
   "file_extension": ".py",
   "mimetype": "text/x-python",
   "name": "python",
   "nbconvert_exporter": "python",
   "pygments_lexer": "ipython2",
   "version": "2.7.13"
  }
 },
 "nbformat": 4,
 "nbformat_minor": 2
}
