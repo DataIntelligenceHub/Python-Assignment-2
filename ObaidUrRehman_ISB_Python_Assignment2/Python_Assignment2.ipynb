{
 "cells": [
  {
   "cell_type": "code",
   "execution_count": 1,
   "metadata": {
    "collapsed": true
   },
   "outputs": [],
   "source": [
    "# ObaidUrRehman"
   ]
  },
  {
   "cell_type": "code",
   "execution_count": 2,
   "metadata": {
    "collapsed": true
   },
   "outputs": [],
   "source": [
    "%matplotlib inline\n",
    "import pandas as pd\n",
    "import numpy as np\n",
    "from matplotlib.pyplot import pie, axis, show"
   ]
  },
  {
   "cell_type": "code",
   "execution_count": 4,
   "metadata": {
    "collapsed": false
   },
   "outputs": [
    {
     "data": {
      "text/html": [
       "<div>\n",
       "<table border=\"1\" class=\"dataframe\">\n",
       "  <thead>\n",
       "    <tr style=\"text-align: right;\">\n",
       "      <th></th>\n",
       "      <th>Date</th>\n",
       "      <th>id</th>\n",
       "      <th>Time</th>\n",
       "      <th>Age</th>\n",
       "      <th>Sex</th>\n",
       "      <th>Consulting..Doctor</th>\n",
       "      <th>Specialty</th>\n",
       "      <th>Procedure</th>\n",
       "      <th>Total..Charges</th>\n",
       "      <th>Amount..Received.</th>\n",
       "      <th>Amount..Balance</th>\n",
       "      <th>Amount.Received.By</th>\n",
       "      <th>Amount.in.Hospital</th>\n",
       "      <th>Receptionist..Name</th>\n",
       "      <th>Next.Apt</th>\n",
       "    </tr>\n",
       "  </thead>\n",
       "  <tbody>\n",
       "    <tr>\n",
       "      <th>0</th>\n",
       "      <td>Sunday, January 01, 2017</td>\n",
       "      <td>101</td>\n",
       "      <td>11:00AM</td>\n",
       "      <td>40</td>\n",
       "      <td>F</td>\n",
       "      <td>Dr Kinza Alam</td>\n",
       "      <td>Gynae</td>\n",
       "      <td>C Section</td>\n",
       "      <td>30000</td>\n",
       "      <td>30000.0</td>\n",
       "      <td>-</td>\n",
       "      <td>Mrs Shamsa</td>\n",
       "      <td>NaN</td>\n",
       "      <td>Hamza</td>\n",
       "      <td>NaN</td>\n",
       "    </tr>\n",
       "    <tr>\n",
       "      <th>1</th>\n",
       "      <td>Monday, January 02, 2017</td>\n",
       "      <td>150</td>\n",
       "      <td>10:45AM</td>\n",
       "      <td>26</td>\n",
       "      <td>M</td>\n",
       "      <td>Nursing Staff</td>\n",
       "      <td>NaN</td>\n",
       "      <td>Dressing</td>\n",
       "      <td>1500</td>\n",
       "      <td>1500.0</td>\n",
       "      <td>-</td>\n",
       "      <td>Dr Saniya</td>\n",
       "      <td>NaN</td>\n",
       "      <td>Haris</td>\n",
       "      <td>NaN</td>\n",
       "    </tr>\n",
       "    <tr>\n",
       "      <th>2</th>\n",
       "      <td>Monday, January 02, 2017</td>\n",
       "      <td>58</td>\n",
       "      <td>12:38PM</td>\n",
       "      <td>30</td>\n",
       "      <td>F</td>\n",
       "      <td>Dr Riffat Naheed</td>\n",
       "      <td>Psychotherapist</td>\n",
       "      <td>Consultation</td>\n",
       "      <td>1000</td>\n",
       "      <td>1000.0</td>\n",
       "      <td>-</td>\n",
       "      <td>Mrs Shamsa</td>\n",
       "      <td>300.0</td>\n",
       "      <td>Fiza</td>\n",
       "      <td>NaN</td>\n",
       "    </tr>\n",
       "    <tr>\n",
       "      <th>3</th>\n",
       "      <td>Monday, January 02, 2017</td>\n",
       "      <td>75</td>\n",
       "      <td>1:00PM</td>\n",
       "      <td>40</td>\n",
       "      <td>M</td>\n",
       "      <td>Dr Riffat Naheed</td>\n",
       "      <td>Psychotherapist</td>\n",
       "      <td>Consultation</td>\n",
       "      <td>1500</td>\n",
       "      <td>1500.0</td>\n",
       "      <td>-</td>\n",
       "      <td>Mrs Shamsa</td>\n",
       "      <td>450.0</td>\n",
       "      <td>Zaheer</td>\n",
       "      <td>NaN</td>\n",
       "    </tr>\n",
       "    <tr>\n",
       "      <th>4</th>\n",
       "      <td>Monday, January 02, 2017</td>\n",
       "      <td>97</td>\n",
       "      <td>2:45PM</td>\n",
       "      <td>27</td>\n",
       "      <td>M</td>\n",
       "      <td>Dr Riffat Naheed</td>\n",
       "      <td>Psychotherapist</td>\n",
       "      <td>Consultation</td>\n",
       "      <td>2000</td>\n",
       "      <td>2000.0</td>\n",
       "      <td>-</td>\n",
       "      <td>Mrs Shamsa</td>\n",
       "      <td>600.0</td>\n",
       "      <td>Haris</td>\n",
       "      <td>NaN</td>\n",
       "    </tr>\n",
       "  </tbody>\n",
       "</table>\n",
       "</div>"
      ],
      "text/plain": [
       "                       Date   id     Time Age Sex Consulting..Doctor  \\\n",
       "0  Sunday, January 01, 2017  101  11:00AM  40   F      Dr Kinza Alam   \n",
       "1  Monday, January 02, 2017  150  10:45AM  26   M      Nursing Staff   \n",
       "2  Monday, January 02, 2017   58  12:38PM  30   F   Dr Riffat Naheed   \n",
       "3  Monday, January 02, 2017   75   1:00PM  40   M   Dr Riffat Naheed   \n",
       "4  Monday, January 02, 2017   97   2:45PM  27   M   Dr Riffat Naheed   \n",
       "\n",
       "         Specialty     Procedure Total..Charges  Amount..Received.  \\\n",
       "0            Gynae     C Section          30000            30000.0   \n",
       "1              NaN      Dressing           1500             1500.0   \n",
       "2  Psychotherapist  Consultation           1000             1000.0   \n",
       "3  Psychotherapist  Consultation           1500             1500.0   \n",
       "4  Psychotherapist  Consultation           2000             2000.0   \n",
       "\n",
       "  Amount..Balance Amount.Received.By  Amount.in.Hospital Receptionist..Name  \\\n",
       "0            -           Mrs Shamsa                  NaN              Hamza   \n",
       "1            -            Dr Saniya                  NaN              Haris   \n",
       "2            -           Mrs Shamsa                300.0               Fiza   \n",
       "3            -           Mrs Shamsa                450.0             Zaheer   \n",
       "4            -           Mrs Shamsa                600.0              Haris   \n",
       "\n",
       "  Next.Apt  \n",
       "0      NaN  \n",
       "1      NaN  \n",
       "2      NaN  \n",
       "3      NaN  \n",
       "4      NaN  "
      ]
     },
     "execution_count": 4,
     "metadata": {},
     "output_type": "execute_result"
    }
   ],
   "source": [
    "hfd = pd.read_csv('hospitaldata.csv',thousands=',')\n",
    "hfd.head()"
   ]
  },
  {
   "cell_type": "code",
   "execution_count": null,
   "metadata": {
    "collapsed": true
   },
   "outputs": [],
   "source": []
  },
  {
   "cell_type": "markdown",
   "metadata": {},
   "source": [
    "# Q1. Remove the dots in the names."
   ]
  },
  {
   "cell_type": "code",
   "execution_count": 6,
   "metadata": {
    "collapsed": false
   },
   "outputs": [
    {
     "data": {
      "text/html": [
       "<div>\n",
       "<table border=\"1\" class=\"dataframe\">\n",
       "  <thead>\n",
       "    <tr style=\"text-align: right;\">\n",
       "      <th></th>\n",
       "      <th>Date</th>\n",
       "      <th>id</th>\n",
       "      <th>Time</th>\n",
       "      <th>Age</th>\n",
       "      <th>Sex</th>\n",
       "      <th>ConsultingDoctor</th>\n",
       "      <th>Specialty</th>\n",
       "      <th>Procedure</th>\n",
       "      <th>TotalCharges</th>\n",
       "      <th>AmountReceived</th>\n",
       "      <th>AmountBalance</th>\n",
       "      <th>AmountReceivedBy</th>\n",
       "      <th>AmountinHospital</th>\n",
       "      <th>ReceptionistName</th>\n",
       "      <th>NextApt</th>\n",
       "    </tr>\n",
       "  </thead>\n",
       "  <tbody>\n",
       "    <tr>\n",
       "      <th>0</th>\n",
       "      <td>Sunday, January 01, 2017</td>\n",
       "      <td>101</td>\n",
       "      <td>11:00AM</td>\n",
       "      <td>40</td>\n",
       "      <td>F</td>\n",
       "      <td>Dr Kinza Alam</td>\n",
       "      <td>Gynae</td>\n",
       "      <td>C Section</td>\n",
       "      <td>30000</td>\n",
       "      <td>30000.0</td>\n",
       "      <td>-</td>\n",
       "      <td>Mrs Shamsa</td>\n",
       "      <td>NaN</td>\n",
       "      <td>Hamza</td>\n",
       "      <td>NaN</td>\n",
       "    </tr>\n",
       "    <tr>\n",
       "      <th>1</th>\n",
       "      <td>Monday, January 02, 2017</td>\n",
       "      <td>150</td>\n",
       "      <td>10:45AM</td>\n",
       "      <td>26</td>\n",
       "      <td>M</td>\n",
       "      <td>Nursing Staff</td>\n",
       "      <td>NaN</td>\n",
       "      <td>Dressing</td>\n",
       "      <td>1500</td>\n",
       "      <td>1500.0</td>\n",
       "      <td>-</td>\n",
       "      <td>Dr Saniya</td>\n",
       "      <td>NaN</td>\n",
       "      <td>Haris</td>\n",
       "      <td>NaN</td>\n",
       "    </tr>\n",
       "    <tr>\n",
       "      <th>2</th>\n",
       "      <td>Monday, January 02, 2017</td>\n",
       "      <td>58</td>\n",
       "      <td>12:38PM</td>\n",
       "      <td>30</td>\n",
       "      <td>F</td>\n",
       "      <td>Dr Riffat Naheed</td>\n",
       "      <td>Psychotherapist</td>\n",
       "      <td>Consultation</td>\n",
       "      <td>1000</td>\n",
       "      <td>1000.0</td>\n",
       "      <td>-</td>\n",
       "      <td>Mrs Shamsa</td>\n",
       "      <td>300.0</td>\n",
       "      <td>Fiza</td>\n",
       "      <td>NaN</td>\n",
       "    </tr>\n",
       "    <tr>\n",
       "      <th>3</th>\n",
       "      <td>Monday, January 02, 2017</td>\n",
       "      <td>75</td>\n",
       "      <td>1:00PM</td>\n",
       "      <td>40</td>\n",
       "      <td>M</td>\n",
       "      <td>Dr Riffat Naheed</td>\n",
       "      <td>Psychotherapist</td>\n",
       "      <td>Consultation</td>\n",
       "      <td>1500</td>\n",
       "      <td>1500.0</td>\n",
       "      <td>-</td>\n",
       "      <td>Mrs Shamsa</td>\n",
       "      <td>450.0</td>\n",
       "      <td>Zaheer</td>\n",
       "      <td>NaN</td>\n",
       "    </tr>\n",
       "    <tr>\n",
       "      <th>4</th>\n",
       "      <td>Monday, January 02, 2017</td>\n",
       "      <td>97</td>\n",
       "      <td>2:45PM</td>\n",
       "      <td>27</td>\n",
       "      <td>M</td>\n",
       "      <td>Dr Riffat Naheed</td>\n",
       "      <td>Psychotherapist</td>\n",
       "      <td>Consultation</td>\n",
       "      <td>2000</td>\n",
       "      <td>2000.0</td>\n",
       "      <td>-</td>\n",
       "      <td>Mrs Shamsa</td>\n",
       "      <td>600.0</td>\n",
       "      <td>Haris</td>\n",
       "      <td>NaN</td>\n",
       "    </tr>\n",
       "  </tbody>\n",
       "</table>\n",
       "</div>"
      ],
      "text/plain": [
       "                       Date   id     Time Age Sex  ConsultingDoctor  \\\n",
       "0  Sunday, January 01, 2017  101  11:00AM  40   F     Dr Kinza Alam   \n",
       "1  Monday, January 02, 2017  150  10:45AM  26   M     Nursing Staff   \n",
       "2  Monday, January 02, 2017   58  12:38PM  30   F  Dr Riffat Naheed   \n",
       "3  Monday, January 02, 2017   75   1:00PM  40   M  Dr Riffat Naheed   \n",
       "4  Monday, January 02, 2017   97   2:45PM  27   M  Dr Riffat Naheed   \n",
       "\n",
       "         Specialty     Procedure TotalCharges  AmountReceived AmountBalance  \\\n",
       "0            Gynae     C Section        30000         30000.0          -      \n",
       "1              NaN      Dressing         1500          1500.0          -      \n",
       "2  Psychotherapist  Consultation         1000          1000.0          -      \n",
       "3  Psychotherapist  Consultation         1500          1500.0          -      \n",
       "4  Psychotherapist  Consultation         2000          2000.0          -      \n",
       "\n",
       "  AmountReceivedBy  AmountinHospital ReceptionistName NextApt  \n",
       "0      Mrs Shamsa                NaN            Hamza     NaN  \n",
       "1       Dr Saniya                NaN            Haris     NaN  \n",
       "2      Mrs Shamsa              300.0             Fiza     NaN  \n",
       "3      Mrs Shamsa              450.0           Zaheer     NaN  \n",
       "4      Mrs Shamsa              600.0            Haris     NaN  "
      ]
     },
     "execution_count": 6,
     "metadata": {},
     "output_type": "execute_result"
    }
   ],
   "source": [
    "hfd.columns = [col.replace('.','') for col in hfd.columns]\n",
    "hfd.head()"
   ]
  },
  {
   "cell_type": "code",
   "execution_count": null,
   "metadata": {
    "collapsed": true
   },
   "outputs": [],
   "source": []
  },
  {
   "cell_type": "markdown",
   "metadata": {},
   "source": [
    "# Q2. Which day of the week is expected to have most visits?"
   ]
  },
  {
   "cell_type": "code",
   "execution_count": 7,
   "metadata": {
    "collapsed": false
   },
   "outputs": [
    {
     "data": {
      "text/plain": [
       "0"
      ]
     },
     "execution_count": 7,
     "metadata": {},
     "output_type": "execute_result"
    }
   ],
   "source": [
    "#Checking nan in dataset\n",
    "\n",
    "sum(hfd['Date'].isnull())\n"
   ]
  },
  {
   "cell_type": "code",
   "execution_count": 8,
   "metadata": {
    "collapsed": false
   },
   "outputs": [
    {
     "data": {
      "text/plain": [
       "<matplotlib.text.Text at 0x9b0fc88>"
      ]
     },
     "execution_count": 8,
     "metadata": {},
     "output_type": "execute_result"
    },
    {
     "data": {
      "image/png": "[encoded data removed]",
      "text/plain": [
       "<matplotlib.figure.Figure at 0x4c419e8>"
      ]
     },
     "metadata": {},
     "output_type": "display_data"
    }
   ],
   "source": [
    "# So there are 0 Null values in Date column\n",
    "\n",
    "weekday = pd.to_datetime(hfd['Date'])\n",
    "hfd['WeekDay'] = weekday.dt.weekday_name  #Monday=0, Sunday=6\n",
    "# grouping by weekday\n",
    "DayData = hfd.groupby('WeekDay').WeekDay.count()\n",
    "g1 = DayData.plot(kind='bar',figsize=(10, 5),color = '#8E44AD',title=\"Weekdays Visits\") \n",
    "g1.set_xlabel('Week Days')\n",
    "g1.set_ylabel('Visits')\n",
    "\n",
    "#As we can see from plot, Monday has the most visits"
   ]
  },
  {
   "cell_type": "code",
   "execution_count": null,
   "metadata": {
    "collapsed": true
   },
   "outputs": [],
   "source": []
  },
  {
   "cell_type": "markdown",
   "metadata": {},
   "source": [
    "# Q3. What is the average age of patients?"
   ]
  },
  {
   "cell_type": "code",
   "execution_count": 9,
   "metadata": {
    "collapsed": false
   },
   "outputs": [
    {
     "data": {
      "text/plain": [
       "19"
      ]
     },
     "execution_count": 9,
     "metadata": {},
     "output_type": "execute_result"
    }
   ],
   "source": [
    "# First checking if there are nan values in age column\n",
    "sum(hfd['Age'].isnull())"
   ]
  },
  {
   "cell_type": "code",
   "execution_count": 10,
   "metadata": {
    "collapsed": false
   },
   "outputs": [
    {
     "data": {
      "text/plain": [
       "array(['40', '26', '30', '27', '43', '28', '2', '32', '76', '75', '36',\n",
       "       '42', '23', '48', '25', '50', '60', '-', '57', nan, '39', '6', '5',\n",
       "       '9', '29', '45', '34', '52', '21', '58', '33', '10', '19', '53',\n",
       "       '55', '28M', '47', '49', '31', '7', '8', '17', '54', '35', '80',\n",
       "       '70', '20', '13', '18', '14', '6M', '24', '3', '38', '22', '65',\n",
       "       '64', '78', '56'], dtype=object)"
      ]
     },
     "execution_count": 10,
     "metadata": {},
     "output_type": "execute_result"
    }
   ],
   "source": [
    "# There are 19 Nan values in Age column\n",
    "\n",
    "#Lets check if there are garbage valus in Age column\n",
    "\n",
    "hfd.Age.unique()"
   ]
  },
  {
   "cell_type": "code",
   "execution_count": 11,
   "metadata": {
    "collapsed": false
   },
   "outputs": [
    {
     "data": {
      "text/plain": [
       "32.734375"
      ]
     },
     "execution_count": 11,
     "metadata": {},
     "output_type": "execute_result"
    }
   ],
   "source": [
    "# There are grabage values e.g. \"-\", \"6M\". So we need to clean this column\n",
    "\n",
    "# We can use mean(Age) to fill the garbage values, but because our dataset is too small, ill just replace them with nan\n",
    "\n",
    "hfd['Age'] =pd.to_numeric(hfd.Age,errors='coerce')\n",
    "np.mean(hfd.Age) #Average age is 32.7"
   ]
  },
  {
   "cell_type": "code",
   "execution_count": null,
   "metadata": {
    "collapsed": true
   },
   "outputs": [],
   "source": []
  },
  {
   "cell_type": "code",
   "execution_count": null,
   "metadata": {
    "collapsed": true
   },
   "outputs": [],
   "source": []
  }
 ],
 "metadata": {
  "kernelspec": {
   "display_name": "Python 2",
   "language": "python",
   "name": "python2"
  },
  "language_info": {
   "codemirror_mode": {
    "name": "ipython",
    "version": 2
   },
   "file_extension": ".py",
   "mimetype": "text/x-python",
   "name": "python",
   "nbconvert_exporter": "python",
   "pygments_lexer": "ipython2",
   "version": "2.7.13"
  }
 },
 "nbformat": 4,
 "nbformat_minor": 2
}
