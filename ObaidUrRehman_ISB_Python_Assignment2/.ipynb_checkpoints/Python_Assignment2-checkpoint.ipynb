{
 "cells": [
  {
   "cell_type": "code",
   "execution_count": 1,
   "metadata": {
    "collapsed": true
   },
   "outputs": [],
   "source": [
    "# ObaidUrRehman"
   ]
  },
  {
   "cell_type": "code",
   "execution_count": 2,
   "metadata": {
    "collapsed": true
   },
   "outputs": [],
   "source": [
    "%matplotlib inline\n",
    "import pandas as pd\n",
    "import numpy as np\n",
    "from matplotlib.pyplot import pie, axis, show"
   ]
  },
  {
   "cell_type": "code",
   "execution_count": 4,
   "metadata": {
    "collapsed": false
   },
   "outputs": [
    {
     "data": {
      "text/html": [
       "<div>\n",
       "<table border=\"1\" class=\"dataframe\">\n",
       "  <thead>\n",
       "    <tr style=\"text-align: right;\">\n",
       "      <th></th>\n",
       "      <th>Date</th>\n",
       "      <th>id</th>\n",
       "      <th>Time</th>\n",
       "      <th>Age</th>\n",
       "      <th>Sex</th>\n",
       "      <th>Consulting..Doctor</th>\n",
       "      <th>Specialty</th>\n",
       "      <th>Procedure</th>\n",
       "      <th>Total..Charges</th>\n",
       "      <th>Amount..Received.</th>\n",
       "      <th>Amount..Balance</th>\n",
       "      <th>Amount.Received.By</th>\n",
       "      <th>Amount.in.Hospital</th>\n",
       "      <th>Receptionist..Name</th>\n",
       "      <th>Next.Apt</th>\n",
       "    </tr>\n",
       "  </thead>\n",
       "  <tbody>\n",
       "    <tr>\n",
       "      <th>0</th>\n",
       "      <td>Sunday, January 01, 2017</td>\n",
       "      <td>101</td>\n",
       "      <td>11:00AM</td>\n",
       "      <td>40</td>\n",
       "      <td>F</td>\n",
       "      <td>Dr Kinza Alam</td>\n",
       "      <td>Gynae</td>\n",
       "      <td>C Section</td>\n",
       "      <td>30000</td>\n",
       "      <td>30000.0</td>\n",
       "      <td>-</td>\n",
       "      <td>Mrs Shamsa</td>\n",
       "      <td>NaN</td>\n",
       "      <td>Hamza</td>\n",
       "      <td>NaN</td>\n",
       "    </tr>\n",
       "    <tr>\n",
       "      <th>1</th>\n",
       "      <td>Monday, January 02, 2017</td>\n",
       "      <td>150</td>\n",
       "      <td>10:45AM</td>\n",
       "      <td>26</td>\n",
       "      <td>M</td>\n",
       "      <td>Nursing Staff</td>\n",
       "      <td>NaN</td>\n",
       "      <td>Dressing</td>\n",
       "      <td>1500</td>\n",
       "      <td>1500.0</td>\n",
       "      <td>-</td>\n",
       "      <td>Dr Saniya</td>\n",
       "      <td>NaN</td>\n",
       "      <td>Haris</td>\n",
       "      <td>NaN</td>\n",
       "    </tr>\n",
       "    <tr>\n",
       "      <th>2</th>\n",
       "      <td>Monday, January 02, 2017</td>\n",
       "      <td>58</td>\n",
       "      <td>12:38PM</td>\n",
       "      <td>30</td>\n",
       "      <td>F</td>\n",
       "      <td>Dr Riffat Naheed</td>\n",
       "      <td>Psychotherapist</td>\n",
       "      <td>Consultation</td>\n",
       "      <td>1000</td>\n",
       "      <td>1000.0</td>\n",
       "      <td>-</td>\n",
       "      <td>Mrs Shamsa</td>\n",
       "      <td>300.0</td>\n",
       "      <td>Fiza</td>\n",
       "      <td>NaN</td>\n",
       "    </tr>\n",
       "    <tr>\n",
       "      <th>3</th>\n",
       "      <td>Monday, January 02, 2017</td>\n",
       "      <td>75</td>\n",
       "      <td>1:00PM</td>\n",
       "      <td>40</td>\n",
       "      <td>M</td>\n",
       "      <td>Dr Riffat Naheed</td>\n",
       "      <td>Psychotherapist</td>\n",
       "      <td>Consultation</td>\n",
       "      <td>1500</td>\n",
       "      <td>1500.0</td>\n",
       "      <td>-</td>\n",
       "      <td>Mrs Shamsa</td>\n",
       "      <td>450.0</td>\n",
       "      <td>Zaheer</td>\n",
       "      <td>NaN</td>\n",
       "    </tr>\n",
       "    <tr>\n",
       "      <th>4</th>\n",
       "      <td>Monday, January 02, 2017</td>\n",
       "      <td>97</td>\n",
       "      <td>2:45PM</td>\n",
       "      <td>27</td>\n",
       "      <td>M</td>\n",
       "      <td>Dr Riffat Naheed</td>\n",
       "      <td>Psychotherapist</td>\n",
       "      <td>Consultation</td>\n",
       "      <td>2000</td>\n",
       "      <td>2000.0</td>\n",
       "      <td>-</td>\n",
       "      <td>Mrs Shamsa</td>\n",
       "      <td>600.0</td>\n",
       "      <td>Haris</td>\n",
       "      <td>NaN</td>\n",
       "    </tr>\n",
       "  </tbody>\n",
       "</table>\n",
       "</div>"
      ],
      "text/plain": [
       "                       Date   id     Time Age Sex Consulting..Doctor  \\\n",
       "0  Sunday, January 01, 2017  101  11:00AM  40   F      Dr Kinza Alam   \n",
       "1  Monday, January 02, 2017  150  10:45AM  26   M      Nursing Staff   \n",
       "2  Monday, January 02, 2017   58  12:38PM  30   F   Dr Riffat Naheed   \n",
       "3  Monday, January 02, 2017   75   1:00PM  40   M   Dr Riffat Naheed   \n",
       "4  Monday, January 02, 2017   97   2:45PM  27   M   Dr Riffat Naheed   \n",
       "\n",
       "         Specialty     Procedure Total..Charges  Amount..Received.  \\\n",
       "0            Gynae     C Section          30000            30000.0   \n",
       "1              NaN      Dressing           1500             1500.0   \n",
       "2  Psychotherapist  Consultation           1000             1000.0   \n",
       "3  Psychotherapist  Consultation           1500             1500.0   \n",
       "4  Psychotherapist  Consultation           2000             2000.0   \n",
       "\n",
       "  Amount..Balance Amount.Received.By  Amount.in.Hospital Receptionist..Name  \\\n",
       "0            -           Mrs Shamsa                  NaN              Hamza   \n",
       "1            -            Dr Saniya                  NaN              Haris   \n",
       "2            -           Mrs Shamsa                300.0               Fiza   \n",
       "3            -           Mrs Shamsa                450.0             Zaheer   \n",
       "4            -           Mrs Shamsa                600.0              Haris   \n",
       "\n",
       "  Next.Apt  \n",
       "0      NaN  \n",
       "1      NaN  \n",
       "2      NaN  \n",
       "3      NaN  \n",
       "4      NaN  "
      ]
     },
     "execution_count": 4,
     "metadata": {},
     "output_type": "execute_result"
    }
   ],
   "source": [
    "hfd = pd.read_csv('hospitaldata.csv',thousands=',')\n",
    "hfd.head()"
   ]
  },
  {
   "cell_type": "code",
   "execution_count": null,
   "metadata": {
    "collapsed": true
   },
   "outputs": [],
   "source": []
  },
  {
   "cell_type": "markdown",
   "metadata": {},
   "source": [
    "# Q1. Remove the dots in the names."
   ]
  },
  {
   "cell_type": "code",
   "execution_count": 6,
   "metadata": {
    "collapsed": false
   },
   "outputs": [
    {
     "data": {
      "text/html": [
       "<div>\n",
       "<table border=\"1\" class=\"dataframe\">\n",
       "  <thead>\n",
       "    <tr style=\"text-align: right;\">\n",
       "      <th></th>\n",
       "      <th>Date</th>\n",
       "      <th>id</th>\n",
       "      <th>Time</th>\n",
       "      <th>Age</th>\n",
       "      <th>Sex</th>\n",
       "      <th>ConsultingDoctor</th>\n",
       "      <th>Specialty</th>\n",
       "      <th>Procedure</th>\n",
       "      <th>TotalCharges</th>\n",
       "      <th>AmountReceived</th>\n",
       "      <th>AmountBalance</th>\n",
       "      <th>AmountReceivedBy</th>\n",
       "      <th>AmountinHospital</th>\n",
       "      <th>ReceptionistName</th>\n",
       "      <th>NextApt</th>\n",
       "    </tr>\n",
       "  </thead>\n",
       "  <tbody>\n",
       "    <tr>\n",
       "      <th>0</th>\n",
       "      <td>Sunday, January 01, 2017</td>\n",
       "      <td>101</td>\n",
       "      <td>11:00AM</td>\n",
       "      <td>40</td>\n",
       "      <td>F</td>\n",
       "      <td>Dr Kinza Alam</td>\n",
       "      <td>Gynae</td>\n",
       "      <td>C Section</td>\n",
       "      <td>30000</td>\n",
       "      <td>30000.0</td>\n",
       "      <td>-</td>\n",
       "      <td>Mrs Shamsa</td>\n",
       "      <td>NaN</td>\n",
       "      <td>Hamza</td>\n",
       "      <td>NaN</td>\n",
       "    </tr>\n",
       "    <tr>\n",
       "      <th>1</th>\n",
       "      <td>Monday, January 02, 2017</td>\n",
       "      <td>150</td>\n",
       "      <td>10:45AM</td>\n",
       "      <td>26</td>\n",
       "      <td>M</td>\n",
       "      <td>Nursing Staff</td>\n",
       "      <td>NaN</td>\n",
       "      <td>Dressing</td>\n",
       "      <td>1500</td>\n",
       "      <td>1500.0</td>\n",
       "      <td>-</td>\n",
       "      <td>Dr Saniya</td>\n",
       "      <td>NaN</td>\n",
       "      <td>Haris</td>\n",
       "      <td>NaN</td>\n",
       "    </tr>\n",
       "    <tr>\n",
       "      <th>2</th>\n",
       "      <td>Monday, January 02, 2017</td>\n",
       "      <td>58</td>\n",
       "      <td>12:38PM</td>\n",
       "      <td>30</td>\n",
       "      <td>F</td>\n",
       "      <td>Dr Riffat Naheed</td>\n",
       "      <td>Psychotherapist</td>\n",
       "      <td>Consultation</td>\n",
       "      <td>1000</td>\n",
       "      <td>1000.0</td>\n",
       "      <td>-</td>\n",
       "      <td>Mrs Shamsa</td>\n",
       "      <td>300.0</td>\n",
       "      <td>Fiza</td>\n",
       "      <td>NaN</td>\n",
       "    </tr>\n",
       "    <tr>\n",
       "      <th>3</th>\n",
       "      <td>Monday, January 02, 2017</td>\n",
       "      <td>75</td>\n",
       "      <td>1:00PM</td>\n",
       "      <td>40</td>\n",
       "      <td>M</td>\n",
       "      <td>Dr Riffat Naheed</td>\n",
       "      <td>Psychotherapist</td>\n",
       "      <td>Consultation</td>\n",
       "      <td>1500</td>\n",
       "      <td>1500.0</td>\n",
       "      <td>-</td>\n",
       "      <td>Mrs Shamsa</td>\n",
       "      <td>450.0</td>\n",
       "      <td>Zaheer</td>\n",
       "      <td>NaN</td>\n",
       "    </tr>\n",
       "    <tr>\n",
       "      <th>4</th>\n",
       "      <td>Monday, January 02, 2017</td>\n",
       "      <td>97</td>\n",
       "      <td>2:45PM</td>\n",
       "      <td>27</td>\n",
       "      <td>M</td>\n",
       "      <td>Dr Riffat Naheed</td>\n",
       "      <td>Psychotherapist</td>\n",
       "      <td>Consultation</td>\n",
       "      <td>2000</td>\n",
       "      <td>2000.0</td>\n",
       "      <td>-</td>\n",
       "      <td>Mrs Shamsa</td>\n",
       "      <td>600.0</td>\n",
       "      <td>Haris</td>\n",
       "      <td>NaN</td>\n",
       "    </tr>\n",
       "  </tbody>\n",
       "</table>\n",
       "</div>"
      ],
      "text/plain": [
       "                       Date   id     Time Age Sex  ConsultingDoctor  \\\n",
       "0  Sunday, January 01, 2017  101  11:00AM  40   F     Dr Kinza Alam   \n",
       "1  Monday, January 02, 2017  150  10:45AM  26   M     Nursing Staff   \n",
       "2  Monday, January 02, 2017   58  12:38PM  30   F  Dr Riffat Naheed   \n",
       "3  Monday, January 02, 2017   75   1:00PM  40   M  Dr Riffat Naheed   \n",
       "4  Monday, January 02, 2017   97   2:45PM  27   M  Dr Riffat Naheed   \n",
       "\n",
       "         Specialty     Procedure TotalCharges  AmountReceived AmountBalance  \\\n",
       "0            Gynae     C Section        30000         30000.0          -      \n",
       "1              NaN      Dressing         1500          1500.0          -      \n",
       "2  Psychotherapist  Consultation         1000          1000.0          -      \n",
       "3  Psychotherapist  Consultation         1500          1500.0          -      \n",
       "4  Psychotherapist  Consultation         2000          2000.0          -      \n",
       "\n",
       "  AmountReceivedBy  AmountinHospital ReceptionistName NextApt  \n",
       "0      Mrs Shamsa                NaN            Hamza     NaN  \n",
       "1       Dr Saniya                NaN            Haris     NaN  \n",
       "2      Mrs Shamsa              300.0             Fiza     NaN  \n",
       "3      Mrs Shamsa              450.0           Zaheer     NaN  \n",
       "4      Mrs Shamsa              600.0            Haris     NaN  "
      ]
     },
     "execution_count": 6,
     "metadata": {},
     "output_type": "execute_result"
    }
   ],
   "source": [
    "hfd.columns = [col.replace('.','') for col in hfd.columns]\n",
    "hfd.head()"
   ]
  },
  {
   "cell_type": "code",
   "execution_count": null,
   "metadata": {
    "collapsed": true
   },
   "outputs": [],
   "source": []
  },
  {
   "cell_type": "markdown",
   "metadata": {},
   "source": [
    "# Q2. Which day of the week is expected to have most visits?"
   ]
  },
  {
   "cell_type": "code",
   "execution_count": 7,
   "metadata": {
    "collapsed": false
   },
   "outputs": [
    {
     "data": {
      "text/plain": [
       "0"
      ]
     },
     "execution_count": 7,
     "metadata": {},
     "output_type": "execute_result"
    }
   ],
   "source": [
    "#Checking nan in dataset\n",
    "\n",
    "sum(hfd['Date'].isnull())\n"
   ]
  },
  {
   "cell_type": "code",
   "execution_count": 8,
   "metadata": {
    "collapsed": false
   },
   "outputs": [
    {
     "data": {
      "text/plain": [
       "<matplotlib.text.Text at 0x9b0fc88>"
      ]
     },
     "execution_count": 8,
     "metadata": {},
     "output_type": "execute_result"
    },
    {
     "data": {
      "image/png": "[encoded data removed]",
      "text/plain": [
       "<matplotlib.figure.Figure at 0x4c419e8>"
      ]
     },
     "metadata": {},
     "output_type": "display_data"
    }
   ],
   "source": [
    "# So there are 0 Null values in Date column\n",
    "\n",
    "weekday = pd.to_datetime(hfd['Date'])\n",
    "hfd['WeekDay'] = weekday.dt.weekday_name  #Monday=0, Sunday=6\n",
    "# grouping by weekday\n",
    "DayData = hfd.groupby('WeekDay').WeekDay.count()\n",
    "g1 = DayData.plot(kind='bar',figsize=(10, 5),color = '#8E44AD',title=\"Weekdays Visits\") \n",
    "g1.set_xlabel('Week Days')\n",
    "g1.set_ylabel('Visits')\n",
    "\n",
    "#As we can see from plot, Monday has the most visits"
   ]
  },
  {
   "cell_type": "code",
   "execution_count": null,
   "metadata": {
    "collapsed": true
   },
   "outputs": [],
   "source": []
  },
  {
   "cell_type": "markdown",
   "metadata": {},
   "source": [
    "# Q3. What is the average age of patients?"
   ]
  },
  {
   "cell_type": "code",
   "execution_count": 9,
   "metadata": {
    "collapsed": false
   },
   "outputs": [
    {
     "data": {
      "text/plain": [
       "19"
      ]
     },
     "execution_count": 9,
     "metadata": {},
     "output_type": "execute_result"
    }
   ],
   "source": [
    "# First checking if there are nan values in age column\n",
    "sum(hfd['Age'].isnull())"
   ]
  },
  {
   "cell_type": "code",
   "execution_count": 10,
   "metadata": {
    "collapsed": false
   },
   "outputs": [
    {
     "data": {
      "text/plain": [
       "array(['40', '26', '30', '27', '43', '28', '2', '32', '76', '75', '36',\n",
       "       '42', '23', '48', '25', '50', '60', '-', '57', nan, '39', '6', '5',\n",
       "       '9', '29', '45', '34', '52', '21', '58', '33', '10', '19', '53',\n",
       "       '55', '28M', '47', '49', '31', '7', '8', '17', '54', '35', '80',\n",
       "       '70', '20', '13', '18', '14', '6M', '24', '3', '38', '22', '65',\n",
       "       '64', '78', '56'], dtype=object)"
      ]
     },
     "execution_count": 10,
     "metadata": {},
     "output_type": "execute_result"
    }
   ],
   "source": [
    "# There are 19 Nan values in Age column\n",
    "\n",
    "#Lets check if there are garbage valus in Age column\n",
    "\n",
    "hfd.Age.unique()"
   ]
  },
  {
   "cell_type": "code",
   "execution_count": 11,
   "metadata": {
    "collapsed": false
   },
   "outputs": [
    {
     "data": {
      "text/plain": [
       "32.734375"
      ]
     },
     "execution_count": 11,
     "metadata": {},
     "output_type": "execute_result"
    }
   ],
   "source": [
    "# There are grabage values e.g. \"-\", \"6M\". So we need to clean this column\n",
    "\n",
    "# We can use mean(Age) to fill the garbage values, but because our dataset is too small, ill just replace them with nan\n",
    "\n",
    "hfd['Age'] =pd.to_numeric(hfd.Age,errors='coerce')\n",
    "np.mean(hfd.Age) #Average age is 32.7"
   ]
  },
  {
   "cell_type": "code",
   "execution_count": null,
   "metadata": {
    "collapsed": true
   },
   "outputs": [],
   "source": []
  },
  {
   "cell_type": "markdown",
   "metadata": {},
   "source": [
    "# Q4. How many children were entertained?"
   ]
  },
  {
   "cell_type": "code",
   "execution_count": 12,
   "metadata": {
    "collapsed": false
   },
   "outputs": [
    {
     "name": "stdout",
     "output_type": "stream",
     "text": [
      "Age\n",
      "2.0     3\n",
      "3.0     7\n",
      "5.0     1\n",
      "6.0     4\n",
      "7.0     1\n",
      "8.0     1\n",
      "9.0     3\n",
      "10.0    3\n",
      "Name: Age, dtype: int64\n",
      "Number of childrens entertained:23\n"
     ]
    },
    {
     "data": {
      "text/plain": [
       "<matplotlib.text.Text at 0xa013ac8>"
      ]
     },
     "execution_count": 12,
     "metadata": {},
     "output_type": "execute_result"
    },
    {
     "data": {
      "image/png": "[encoded data removed]",
      "text/plain": [
       "<matplotlib.figure.Figure at 0x7b73dd8>"
      ]
     },
     "metadata": {},
     "output_type": "display_data"
    }
   ],
   "source": [
    "child = hfd[['Age']].copy()\n",
    "child =child.loc[child['Age']<=12]\n",
    "child = child.groupby('Age').Age.count()\n",
    "print child\n",
    "print \"Number of childrens entertained:\"+str(sum(child))  #23 child were entertained\n",
    "g1 = child.plot(kind='bar',figsize=(10, 5),color = '#8E44AD',title=\"Vists by Age\") \n",
    "g1.set_xlabel('Age')\n",
    "g1.set_ylabel('Visits')"
   ]
  },
  {
   "cell_type": "code",
   "execution_count": null,
   "metadata": {
    "collapsed": true
   },
   "outputs": [],
   "source": []
  },
  {
   "cell_type": "markdown",
   "metadata": {},
   "source": [
    "# Q5. Which gender type had what kind of procedure in abundance?"
   ]
  },
  {
   "cell_type": "code",
   "execution_count": 13,
   "metadata": {
    "collapsed": false
   },
   "outputs": [
    {
     "name": "stdout",
     "output_type": "stream",
     "text": [
      "No of NaN values: 12\n",
      "Values of Sex column  are: ['F' 'M' nan 'f' '-']\n"
     ]
    }
   ],
   "source": [
    "#check if Sex column contains garbage values\n",
    "print\"No of NaN values: \"+str(sum(hfd.Sex.isnull())) #12 nan values\n",
    "\n",
    "print\"Values of Sex column  are: \"+ str(hfd.Sex.unique()) #['F', 'M', nan, 'f', '-'"
   ]
  },
  {
   "cell_type": "code",
   "execution_count": 14,
   "metadata": {
    "collapsed": false
   },
   "outputs": [
    {
     "name": "stdout",
     "output_type": "stream",
     "text": [
      "Values of Sex column are: ['F' 'M' 'NAN']\n"
     ]
    }
   ],
   "source": [
    "#cleaning Sex column\n",
    "hfd.Sex = hfd.Sex.replace('-',np.nan) #removing '-' from Sex column\n",
    "hfd.Sex= map(lambda x: str(x).upper(),hfd.Sex) #conveting 'f' and 'm' to upper case\n",
    "\n",
    "print \"Values of Sex column are: \"+str(hfd.Sex.unique())"
   ]
  },
  {
   "cell_type": "code",
   "execution_count": 15,
   "metadata": {
    "collapsed": false
   },
   "outputs": [
    {
     "name": "stdout",
     "output_type": "stream",
     "text": [
      "Below are the results: \n",
      "Sex  Specialty         \n",
      "F    Child Specialist       3\n",
      "     Dental                 1\n",
      "     Dentist               57\n",
      "     ENT                    1\n",
      "     General Surgeon        2\n",
      "     Gynae                 13\n",
      "     M/o                    7\n",
      "     Medical Specialist     1\n",
      "     Orthopedic             5\n",
      "     Psychotherapist        4\n",
      "     Radiologist            3\n",
      "M    Anaesthetist           1\n",
      "     Child Specialist       7\n",
      "     Dentist               46\n",
      "     Dermatologist          1\n",
      "     General Surgeon        2\n",
      "     M/o                    8\n",
      "     Medical Specialist     2\n",
      "     Orthopedic             3\n",
      "     Psychotherapist       10\n",
      "     Radiologist            3\n",
      "NAN  Child Specialist       1\n",
      "Name: Counts, dtype: int64\n"
     ]
    }
   ],
   "source": [
    "# Now we calculate procedure of each Sex\n",
    "gend = hfd[['Sex','Specialty']].copy()\n",
    "gend['Counts'] =1       #initially, set that counter to 1.\n",
    "group_data = gend.groupby(['Sex','Specialty'])['Counts'].sum() #sum function\n",
    "print \"Below are the results: \"\n",
    "print group_data"
   ]
  },
  {
   "cell_type": "code",
   "execution_count": 16,
   "metadata": {
    "collapsed": false
   },
   "outputs": [
    {
     "data": {
      "text/plain": [
       "<matplotlib.text.Text at 0x9e4de10>"
      ]
     },
     "execution_count": 16,
     "metadata": {},
     "output_type": "execute_result"
    },
    {
     "data": {
      "image/png": "[encoded data removed]",
      "text/plain": [
       "<matplotlib.figure.Figure at 0x9eef978>"
      ]
     },
     "metadata": {},
     "output_type": "display_data"
    }
   ],
   "source": [
    "# We can see from above results that Dentist is abundance in both Female and Male\n",
    "\n",
    "#Lets plot a graph \n",
    "g1 = group_data.plot(kind='bar',figsize=(20, 20),color = '#8E44AD',title=\"Specialty Abundance in Femal & Male\") \n",
    "g1.set_xlabel('Sex-Specialty')\n",
    "g1.set_ylabel('Counts')"
   ]
  },
  {
   "cell_type": "code",
   "execution_count": null,
   "metadata": {
    "collapsed": true
   },
   "outputs": [],
   "source": []
  },
  {
   "cell_type": "markdown",
   "metadata": {},
   "source": [
    "# Q6. Which Doctor is earning highest?"
   ]
  },
  {
   "cell_type": "code",
   "execution_count": 17,
   "metadata": {
    "collapsed": false
   },
   "outputs": [
    {
     "data": {
      "text/plain": [
       "Index([u'Date', u'id', u'Time', u'Age', u'Sex', u'ConsultingDoctor',\n",
       "       u'Specialty', u'Procedure', u'TotalCharges', u'AmountReceived',\n",
       "       u'AmountBalance', u'AmountReceivedBy', u'AmountinHospital',\n",
       "       u'ReceptionistName', u'NextApt', u'WeekDay'],\n",
       "      dtype='object')"
      ]
     },
     "execution_count": 17,
     "metadata": {},
     "output_type": "execute_result"
    }
   ],
   "source": [
    "hfd.columns"
   ]
  },
  {
   "cell_type": "code",
   "execution_count": 18,
   "metadata": {
    "collapsed": false
   },
   "outputs": [
    {
     "name": "stdout",
     "output_type": "stream",
     "text": [
      "Number of NaN values: 16\n"
     ]
    }
   ],
   "source": [
    "#Check how many Nans are in TotalCharges column\n",
    "print \"Number of NaN values: \"+str(sum(hfd.TotalCharges.isnull())) #16 Nan values"
   ]
  },
  {
   "cell_type": "code",
   "execution_count": 19,
   "metadata": {
    "collapsed": false
   },
   "outputs": [
    {
     "name": "stdout",
     "output_type": "stream",
     "text": [
      "Values in TotalCharges Columns: ['30000' '1500' '1000' '2000' '35000' '500' 'Cancelled' nan '4000' '5000'\n",
      " '6000' '300' '7000' '800' '250' '10000' '3000' '3750' '2600' '5500' '900'\n",
      " '2500' '38000' '25500' '1200' '2800' '700' '1150' '1300' '200' '3500'\n",
      " '44000' '110000' '15000' '3700' '400' '100' '120000' '600' '50' '4500'\n",
      " '8000' '950' '650' '150']\n"
     ]
    }
   ],
   "source": [
    "#Check if garbage values in TotalCharges\n",
    "print \"Values in TotalCharges Columns: \"+str(hfd.TotalCharges.unique())\n",
    "\n",
    "#we see only one value is garbage i.e. 'Cancelled'"
   ]
  },
  {
   "cell_type": "code",
   "execution_count": 20,
   "metadata": {
    "collapsed": false
   },
   "outputs": [
    {
     "name": "stdout",
     "output_type": "stream",
     "text": [
      "Values in TotalCharges Columns: ['30000' '1500' '1000' '2000' '35000' '500' nan '4000' '5000' '6000' '300'\n",
      " '7000' '800' '250' '10000' '3000' '3750' '2600' '5500' '900' '2500'\n",
      " '38000' '25500' '1200' '2800' '700' '1150' '1300' '200' '3500' '44000'\n",
      " '110000' '15000' '3700' '400' '100' '120000' '600' '50' '4500' '8000'\n",
      " '950' '650' '150']\n"
     ]
    }
   ],
   "source": [
    "#So we will replace this with NaN\n",
    "\n",
    "hfd.TotalCharges = hfd.TotalCharges.replace('Cancelled',np.nan)\n",
    "\n",
    "print \"Values in TotalCharges Columns: \"+str(hfd.TotalCharges.unique())"
   ]
  },
  {
   "cell_type": "code",
   "execution_count": 21,
   "metadata": {
    "collapsed": false
   },
   "outputs": [
    {
     "name": "stdout",
     "output_type": "stream",
     "text": [
      "                  TotalCharges\n",
      "ConsultingDoctor              \n",
      "Dr Alaf Khan          513050.0\n",
      "Dr Kinza Alam          76700.0\n",
      "Dr Saad                52000.0\n",
      "Dr Ali                 26100.0\n",
      "Dr Fakiha              22600.0\n",
      "Dr Qurat ul Ain        20900.0\n",
      "Dr Riffat Naheed       18800.0\n",
      "Dr Irfan               11000.0\n",
      "Nursing Staff           9150.0\n",
      "Dr Waqar Azeem          6000.0\n",
      "Dr Saad Riaz            5700.0\n",
      "Dr Saniya               4000.0\n",
      "Brig Farrukh            3750.0\n",
      "Dr Shireen              3200.0\n",
      "Brig Asif               2800.0\n",
      "Dr Zubair               1700.0\n",
      "Dr Paul                 1500.0\n",
      "Dr Saima Shams          1500.0\n",
      "Dr Ammara               1500.0\n",
      "Dr Ammad                1400.0\n",
      "Dr Mehwish              1000.0\n",
      "Col Ulfat Ellahi        1000.0\n",
      "Dr Mumtaz               1000.0\n"
     ]
    },
    {
     "name": "stderr",
     "output_type": "stream",
     "text": [
      "C:\\Users\\Obaid\\Anaconda2\\lib\\site-packages\\ipykernel\\__main__.py:6: FutureWarning: sort(columns=....) is deprecated, use sort_values(by=.....)\n"
     ]
    }
   ],
   "source": [
    "#We convert TotalCharges column to numeric\n",
    "hfd['TotalCharges'] =pd.to_numeric(hfd.TotalCharges,errors='coerce')\n",
    "#Now we are good to go\n",
    "\n",
    "docEarn = hfd[['ConsultingDoctor','TotalCharges']].copy()\n",
    "docEarn = docEarn.groupby('ConsultingDoctor').sum().sort('TotalCharges',ascending=False)\n",
    "\n",
    "print docEarn"
   ]
  },
  {
   "cell_type": "code",
   "execution_count": 22,
   "metadata": {
    "collapsed": false
   },
   "outputs": [
    {
     "data": {
      "text/plain": [
       "<matplotlib.text.Text at 0xa4e0ef0>"
      ]
     },
     "execution_count": 22,
     "metadata": {},
     "output_type": "execute_result"
    },
    {
     "data": {
      "image/png": "[encoded data removed]",
      "text/plain": [
       "<matplotlib.figure.Figure at 0x9e68ef0>"
      ]
     },
     "metadata": {},
     "output_type": "display_data"
    }
   ],
   "source": [
    "#As we can see, Dr Alaf Khan is on top of the lists in earning\n",
    "#Now, lets plot that\n",
    "g1 = docEarn.plot(kind='bar',figsize=(20,10),color='#8E44AD',title=\"Doctor Earnings\")\n",
    "g1.set_xlabel('Consulting Doctors')\n",
    "g1.set_ylabel('Total Earnings')"
   ]
  },
  {
   "cell_type": "code",
   "execution_count": null,
   "metadata": {
    "collapsed": true
   },
   "outputs": [],
   "source": []
  },
  {
   "cell_type": "markdown",
   "metadata": {},
   "source": [
    "# Q7. Which procedure type earns more money?"
   ]
  },
  {
   "cell_type": "code",
   "execution_count": 23,
   "metadata": {
    "collapsed": false
   },
   "outputs": [
    {
     "name": "stderr",
     "output_type": "stream",
     "text": [
      "C:\\Users\\Obaid\\Anaconda2\\lib\\site-packages\\ipykernel\\__main__.py:3: FutureWarning: sort(columns=....) is deprecated, use sort_values(by=.....)\n",
      "  app.launch_new_instance()\n"
     ]
    },
    {
     "data": {
      "text/html": [
       "<div>\n",
       "<table border=\"1\" class=\"dataframe\">\n",
       "  <thead>\n",
       "    <tr style=\"text-align: right;\">\n",
       "      <th></th>\n",
       "      <th>TotalCharges</th>\n",
       "    </tr>\n",
       "    <tr>\n",
       "      <th>Procedure</th>\n",
       "      <th></th>\n",
       "    </tr>\n",
       "  </thead>\n",
       "  <tbody>\n",
       "    <tr>\n",
       "      <th>Orthodontics</th>\n",
       "      <td>240000.0</td>\n",
       "    </tr>\n",
       "    <tr>\n",
       "      <th>Consultation</th>\n",
       "      <td>83950.0</td>\n",
       "    </tr>\n",
       "    <tr>\n",
       "      <th>22 Unit Bridge</th>\n",
       "      <td>69500.0</td>\n",
       "    </tr>\n",
       "    <tr>\n",
       "      <th>C Section</th>\n",
       "      <td>65000.0</td>\n",
       "    </tr>\n",
       "    <tr>\n",
       "      <th>Operation</th>\n",
       "      <td>50000.0</td>\n",
       "    </tr>\n",
       "    <tr>\n",
       "      <th>RCT (4 teeth) Bridge (9 teeth)</th>\n",
       "      <td>48000.0</td>\n",
       "    </tr>\n",
       "    <tr>\n",
       "      <th>8 Unit Bridge+2 R.C.T</th>\n",
       "      <td>30000.0</td>\n",
       "    </tr>\n",
       "    <tr>\n",
       "      <th>Crown</th>\n",
       "      <td>20000.0</td>\n",
       "    </tr>\n",
       "    <tr>\n",
       "      <th>Scalling</th>\n",
       "      <td>16500.0</td>\n",
       "    </tr>\n",
       "    <tr>\n",
       "      <th>R.C.T</th>\n",
       "      <td>15500.0</td>\n",
       "    </tr>\n",
       "    <tr>\n",
       "      <th>Extraction</th>\n",
       "      <td>14600.0</td>\n",
       "    </tr>\n",
       "    <tr>\n",
       "      <th>4 Unit Bridge</th>\n",
       "      <td>11000.0</td>\n",
       "    </tr>\n",
       "    <tr>\n",
       "      <th>R.P.D + Crown</th>\n",
       "      <td>11000.0</td>\n",
       "    </tr>\n",
       "    <tr>\n",
       "      <th>R.C.T+Scalling+Crown</th>\n",
       "      <td>9500.0</td>\n",
       "    </tr>\n",
       "    <tr>\n",
       "      <th>R.C.T+Crown</th>\n",
       "      <td>8000.0</td>\n",
       "    </tr>\n",
       "    <tr>\n",
       "      <th>Filling</th>\n",
       "      <td>6500.0</td>\n",
       "    </tr>\n",
       "    <tr>\n",
       "      <th>X Ray</th>\n",
       "      <td>5800.0</td>\n",
       "    </tr>\n",
       "    <tr>\n",
       "      <th>Denture+Scalling+Filling</th>\n",
       "      <td>5500.0</td>\n",
       "    </tr>\n",
       "    <tr>\n",
       "      <th>USG</th>\n",
       "      <td>5500.0</td>\n",
       "    </tr>\n",
       "    <tr>\n",
       "      <th>Consultation + Dressing</th>\n",
       "      <td>5000.0</td>\n",
       "    </tr>\n",
       "    <tr>\n",
       "      <th>Consultation+X Ray</th>\n",
       "      <td>4750.0</td>\n",
       "    </tr>\n",
       "    <tr>\n",
       "      <th>Scalling+Polishing</th>\n",
       "      <td>4000.0</td>\n",
       "    </tr>\n",
       "    <tr>\n",
       "      <th>Pop</th>\n",
       "      <td>3700.0</td>\n",
       "    </tr>\n",
       "    <tr>\n",
       "      <th>Consultation+Retain</th>\n",
       "      <td>3500.0</td>\n",
       "    </tr>\n",
       "    <tr>\n",
       "      <th>Consultation +   X Ray</th>\n",
       "      <td>3000.0</td>\n",
       "    </tr>\n",
       "    <tr>\n",
       "      <th>RCT</th>\n",
       "      <td>3000.0</td>\n",
       "    </tr>\n",
       "    <tr>\n",
       "      <th>Dressing</th>\n",
       "      <td>2900.0</td>\n",
       "    </tr>\n",
       "    <tr>\n",
       "      <th>Consultation+ER Retain</th>\n",
       "      <td>2800.0</td>\n",
       "    </tr>\n",
       "    <tr>\n",
       "      <th>Filling + X Rays</th>\n",
       "      <td>2600.0</td>\n",
       "    </tr>\n",
       "    <tr>\n",
       "      <th>Injection</th>\n",
       "      <td>1800.0</td>\n",
       "    </tr>\n",
       "    <tr>\n",
       "      <th>Consultation+Denture</th>\n",
       "      <td>1500.0</td>\n",
       "    </tr>\n",
       "    <tr>\n",
       "      <th>Consultation + USG</th>\n",
       "      <td>1500.0</td>\n",
       "    </tr>\n",
       "    <tr>\n",
       "      <th>Consultation+USG</th>\n",
       "      <td>1500.0</td>\n",
       "    </tr>\n",
       "    <tr>\n",
       "      <th>Consultation+ECG</th>\n",
       "      <td>1300.0</td>\n",
       "    </tr>\n",
       "    <tr>\n",
       "      <th>Consultation + Nebulize</th>\n",
       "      <td>1150.0</td>\n",
       "    </tr>\n",
       "    <tr>\n",
       "      <th>USG Abdomen</th>\n",
       "      <td>1000.0</td>\n",
       "    </tr>\n",
       "    <tr>\n",
       "      <th>USG KUB</th>\n",
       "      <td>1000.0</td>\n",
       "    </tr>\n",
       "    <tr>\n",
       "      <th>Pharmacy</th>\n",
       "      <td>900.0</td>\n",
       "    </tr>\n",
       "    <tr>\n",
       "      <th>Stiches</th>\n",
       "      <td>700.0</td>\n",
       "    </tr>\n",
       "    <tr>\n",
       "      <th>Consultation+x Ray</th>\n",
       "      <td>650.0</td>\n",
       "    </tr>\n",
       "    <tr>\n",
       "      <th>Polishing</th>\n",
       "      <td>500.0</td>\n",
       "    </tr>\n",
       "    <tr>\n",
       "      <th>Er Retain</th>\n",
       "      <td>300.0</td>\n",
       "    </tr>\n",
       "    <tr>\n",
       "      <th>Coupety</th>\n",
       "      <td>300.0</td>\n",
       "    </tr>\n",
       "    <tr>\n",
       "      <th>Medicine</th>\n",
       "      <td>100.0</td>\n",
       "    </tr>\n",
       "    <tr>\n",
       "      <th>BSR</th>\n",
       "      <td>50.0</td>\n",
       "    </tr>\n",
       "    <tr>\n",
       "      <th>Cancelled</th>\n",
       "      <td>NaN</td>\n",
       "    </tr>\n",
       "    <tr>\n",
       "      <th>Laboratory Test</th>\n",
       "      <td>NaN</td>\n",
       "    </tr>\n",
       "  </tbody>\n",
       "</table>\n",
       "</div>"
      ],
      "text/plain": [
       "                                TotalCharges\n",
       "Procedure                                   \n",
       "Orthodontics                        240000.0\n",
       "Consultation                         83950.0\n",
       "22 Unit Bridge                       69500.0\n",
       "C Section                            65000.0\n",
       "Operation                            50000.0\n",
       "RCT (4 teeth) Bridge (9 teeth)       48000.0\n",
       "8 Unit Bridge+2 R.C.T                30000.0\n",
       "Crown                                20000.0\n",
       "Scalling                             16500.0\n",
       "R.C.T                                15500.0\n",
       "Extraction                           14600.0\n",
       "4 Unit Bridge                        11000.0\n",
       "R.P.D + Crown                        11000.0\n",
       "R.C.T+Scalling+Crown                  9500.0\n",
       "R.C.T+Crown                           8000.0\n",
       "Filling                               6500.0\n",
       "X Ray                                 5800.0\n",
       "Denture+Scalling+Filling              5500.0\n",
       "USG                                   5500.0\n",
       "Consultation + Dressing               5000.0\n",
       "Consultation+X Ray                    4750.0\n",
       "Scalling+Polishing                    4000.0\n",
       "Pop                                   3700.0\n",
       "Consultation+Retain                   3500.0\n",
       "Consultation +   X Ray                3000.0\n",
       "RCT                                   3000.0\n",
       "Dressing                              2900.0\n",
       "Consultation+ER Retain                2800.0\n",
       "Filling + X Rays                      2600.0\n",
       "Injection                             1800.0\n",
       "Consultation+Denture                  1500.0\n",
       "Consultation + USG                    1500.0\n",
       "Consultation+USG                      1500.0\n",
       "Consultation+ECG                      1300.0\n",
       "Consultation + Nebulize               1150.0\n",
       "USG Abdomen                           1000.0\n",
       "USG KUB                               1000.0\n",
       "Pharmacy                               900.0\n",
       "Stiches                                700.0\n",
       "Consultation+x Ray                     650.0\n",
       "Polishing                              500.0\n",
       "Er Retain                              300.0\n",
       "Coupety                                300.0\n",
       "Medicine                               100.0\n",
       "BSR                                     50.0\n",
       "Cancelled                                NaN\n",
       "Laboratory Test                          NaN"
      ]
     },
     "execution_count": 23,
     "metadata": {},
     "output_type": "execute_result"
    }
   ],
   "source": [
    "procEarn = hfd[['Procedure','TotalCharges']].copy()\n",
    "\n",
    "procEarn = procEarn.groupby('Procedure').sum().sort('TotalCharges',ascending=False)\n",
    "procEarn"
   ]
  },
  {
   "cell_type": "code",
   "execution_count": 24,
   "metadata": {
    "collapsed": false
   },
   "outputs": [
    {
     "data": {
      "text/plain": [
       "<matplotlib.text.Text at 0xa4ed470>"
      ]
     },
     "execution_count": 24,
     "metadata": {},
     "output_type": "execute_result"
    },
    {
     "data": {
      "image/png": "[encoded data removed]",
      "text/plain": [
       "<matplotlib.figure.Figure at 0xbd07d30>"
      ]
     },
     "metadata": {},
     "output_type": "display_data"
    }
   ],
   "source": [
    "#We see orthodontics has the highest earnings\n",
    "#lets plot these results\n",
    "g = procEarn.plot(kind='bar',figsize=(20,10),color='#8E44AD',title='Procedure Earnings')\n",
    "g.set_xlabel('Procedures')\n",
    "g.set_ylabel('Procedure Earnings')"
   ]
  },
  {
   "cell_type": "code",
   "execution_count": null,
   "metadata": {
    "collapsed": true
   },
   "outputs": [],
   "source": []
  },
  {
   "cell_type": "markdown",
   "metadata": {},
   "source": [
    "# Q8. Which time of the day has highest frequency of visits by hour?"
   ]
  },
  {
   "cell_type": "code",
   "execution_count": 25,
   "metadata": {
    "collapsed": false
   },
   "outputs": [
    {
     "data": {
      "text/plain": [
       "array(['11:00AM', '10:45AM', '12:38PM', '1:00PM', '2:45PM', '3:00PM',\n",
       "       '3:28PM', '3:45PM', '5:00PM', '5:30PM', '3:25PM', '6:10PM',\n",
       "       '11:45PM', '12:40PM', '8:10PM', '8:30PM', '2:00PM', '12:30PM',\n",
       "       '1:30PM', '-', '8:15PM', nan, '12:36PM', '2:30PM', '3:15PM',\n",
       "       '5:20PM', '3:50PM', '6:00PM', '4:30PM', '02:00PM', '11:20AM',\n",
       "       '8:00PM', '6:30PM', '9:00PM', '6:20PM', '11:25AM', '11:15AM',\n",
       "       '1:10PM', '3:30PM', '6:15PM', '9:40PM', '12:00PM', '10:15AM',\n",
       "       '1:20PM', '12:15PM', '1:15PM', '4:50PM', '2:10PM', '12:50PM',\n",
       "       '5:40PM', '6:45PM', '9:45PM', '5:35PM', '6:50PM', '1:40PM',\n",
       "       '1:25PM', '4:45PM', '4:00PM', '7:30PM', '7:45PM', '2:15PM',\n",
       "       '10:13AM', '2:40PM', '10:00AM', '9:30AM', '7:00PM', '4:20PM',\n",
       "       '5:57PM', '7:15PM', '3:40PM', '7:02PM', '11:40AM', '4:10PM',\n",
       "       '11:30AM', '10:15PM', '7:11PM', '10:10PM', '1:55PM', '1:50PM',\n",
       "       '9:30PM', '12:20PM', '10:30PM', '7:10PM', '12:48PM', '7:05PM',\n",
       "       '5:45PM', '7:40PM', '9:35PM', '10:00PM', '6:55PM', '9:00AM',\n",
       "       '10:20AM', '11:20PM'], dtype=object)"
      ]
     },
     "execution_count": 25,
     "metadata": {},
     "output_type": "execute_result"
    }
   ],
   "source": [
    "#Checking garbage values in Time Column\n",
    "hfd.Time.unique()"
   ]
  },
  {
   "cell_type": "code",
   "execution_count": 26,
   "metadata": {
    "collapsed": false
   },
   "outputs": [
    {
     "data": {
      "text/plain": [
       "array(['11:00AM', '10:45AM', '12:38PM', '1:00PM', '2:45PM', '3:00PM',\n",
       "       '3:28PM', '3:45PM', '5:00PM', '5:30PM', '3:25PM', '6:10PM',\n",
       "       '11:45PM', '12:40PM', '8:10PM', '8:30PM', '2:00PM', '12:30PM',\n",
       "       '1:30PM', nan, '8:15PM', '12:36PM', '2:30PM', '3:15PM', '5:20PM',\n",
       "       '3:50PM', '6:00PM', '4:30PM', '02:00PM', '11:20AM', '8:00PM',\n",
       "       '6:30PM', '9:00PM', '6:20PM', '11:25AM', '11:15AM', '1:10PM',\n",
       "       '3:30PM', '6:15PM', '9:40PM', '12:00PM', '10:15AM', '1:20PM',\n",
       "       '12:15PM', '1:15PM', '4:50PM', '2:10PM', '12:50PM', '5:40PM',\n",
       "       '6:45PM', '9:45PM', '5:35PM', '6:50PM', '1:40PM', '1:25PM',\n",
       "       '4:45PM', '4:00PM', '7:30PM', '7:45PM', '2:15PM', '10:13AM',\n",
       "       '2:40PM', '10:00AM', '9:30AM', '7:00PM', '4:20PM', '5:57PM',\n",
       "       '7:15PM', '3:40PM', '7:02PM', '11:40AM', '4:10PM', '11:30AM',\n",
       "       '10:15PM', '7:11PM', '10:10PM', '1:55PM', '1:50PM', '9:30PM',\n",
       "       '12:20PM', '10:30PM', '7:10PM', '12:48PM', '7:05PM', '5:45PM',\n",
       "       '7:40PM', '9:35PM', '10:00PM', '6:55PM', '9:00AM', '10:20AM',\n",
       "       '11:20PM'], dtype=object)"
      ]
     },
     "execution_count": 26,
     "metadata": {},
     "output_type": "execute_result"
    }
   ],
   "source": [
    "# Replaacing '-' with NaN\n",
    "hfd.Time = hfd.Time.replace('-',np.nan)\n",
    "hfd.Time.unique()"
   ]
  },
  {
   "cell_type": "code",
   "execution_count": 27,
   "metadata": {
    "collapsed": true
   },
   "outputs": [],
   "source": [
    "# Now we convert Time to standard time\n",
    "\n",
    "hfd.Time = pd.to_datetime(hfd.Time,format = '%I:%M%p')\n",
    "hfd['Hour'] =hfd.Time.dt.hour"
   ]
  },
  {
   "cell_type": "code",
   "execution_count": 28,
   "metadata": {
    "collapsed": false
   },
   "outputs": [
    {
     "name": "stderr",
     "output_type": "stream",
     "text": [
      "C:\\Users\\Obaid\\Anaconda2\\lib\\site-packages\\ipykernel\\__main__.py:5: FutureWarning: sort(columns=....) is deprecated, use sort_values(by=.....)\n"
     ]
    },
    {
     "data": {
      "text/html": [
       "<div>\n",
       "<table border=\"1\" class=\"dataframe\">\n",
       "  <thead>\n",
       "    <tr style=\"text-align: right;\">\n",
       "      <th></th>\n",
       "      <th>Visits</th>\n",
       "    </tr>\n",
       "    <tr>\n",
       "      <th>Hour</th>\n",
       "      <th></th>\n",
       "    </tr>\n",
       "  </thead>\n",
       "  <tbody>\n",
       "    <tr>\n",
       "      <th>13.0</th>\n",
       "      <td>29</td>\n",
       "    </tr>\n",
       "    <tr>\n",
       "      <th>18.0</th>\n",
       "      <td>23</td>\n",
       "    </tr>\n",
       "    <tr>\n",
       "      <th>12.0</th>\n",
       "      <td>20</td>\n",
       "    </tr>\n",
       "    <tr>\n",
       "      <th>14.0</th>\n",
       "      <td>20</td>\n",
       "    </tr>\n",
       "    <tr>\n",
       "      <th>15.0</th>\n",
       "      <td>20</td>\n",
       "    </tr>\n",
       "    <tr>\n",
       "      <th>17.0</th>\n",
       "      <td>16</td>\n",
       "    </tr>\n",
       "    <tr>\n",
       "      <th>16.0</th>\n",
       "      <td>15</td>\n",
       "    </tr>\n",
       "    <tr>\n",
       "      <th>19.0</th>\n",
       "      <td>14</td>\n",
       "    </tr>\n",
       "    <tr>\n",
       "      <th>11.0</th>\n",
       "      <td>10</td>\n",
       "    </tr>\n",
       "    <tr>\n",
       "      <th>20.0</th>\n",
       "      <td>8</td>\n",
       "    </tr>\n",
       "    <tr>\n",
       "      <th>10.0</th>\n",
       "      <td>6</td>\n",
       "    </tr>\n",
       "    <tr>\n",
       "      <th>21.0</th>\n",
       "      <td>5</td>\n",
       "    </tr>\n",
       "    <tr>\n",
       "      <th>22.0</th>\n",
       "      <td>4</td>\n",
       "    </tr>\n",
       "    <tr>\n",
       "      <th>9.0</th>\n",
       "      <td>2</td>\n",
       "    </tr>\n",
       "    <tr>\n",
       "      <th>23.0</th>\n",
       "      <td>2</td>\n",
       "    </tr>\n",
       "  </tbody>\n",
       "</table>\n",
       "</div>"
      ],
      "text/plain": [
       "      Visits\n",
       "Hour        \n",
       "13.0      29\n",
       "18.0      23\n",
       "12.0      20\n",
       "14.0      20\n",
       "15.0      20\n",
       "17.0      16\n",
       "16.0      15\n",
       "19.0      14\n",
       "11.0      10\n",
       "20.0       8\n",
       "10.0       6\n",
       "21.0       5\n",
       "22.0       4\n",
       "9.0        2\n",
       "23.0       2"
      ]
     },
     "execution_count": 28,
     "metadata": {},
     "output_type": "execute_result"
    }
   ],
   "source": [
    "#Now we groupby Hour\n",
    "vh = hfd[['Hour']].copy()\n",
    "vh['Visits']=0\n",
    "vh = vh.groupby(['Hour']).agg({'Visits':\"count\"})\n",
    "vh = vh.sort(['Visits'],ascending=False)\n",
    "vh"
   ]
  },
  {
   "cell_type": "code",
   "execution_count": 29,
   "metadata": {
    "collapsed": false
   },
   "outputs": [
    {
     "data": {
      "text/plain": [
       "<matplotlib.text.Text at 0x9b81470>"
      ]
     },
     "execution_count": 29,
     "metadata": {},
     "output_type": "execute_result"
    },
    {
     "data": {
      "image/png": "[encoded data removed]",
      "text/plain": [
       "<matplotlib.figure.Figure at 0xbd13e80>"
      ]
     },
     "metadata": {},
     "output_type": "display_data"
    }
   ],
   "source": [
    "#So we can see, 1:00pm (13:00 Standard Time) \n",
    "#lets plot this\n",
    "\n",
    "g = vh.plot(kind='bar',figsize=(20,10),color='#8E44AD',title='Visits By Hours')\n",
    "g.set_xlabel('Hours in standad time')\n",
    "g.set_ylabel('Visits')"
   ]
  },
  {
   "cell_type": "code",
   "execution_count": null,
   "metadata": {
    "collapsed": true
   },
   "outputs": [],
   "source": []
  },
  {
   "cell_type": "markdown",
   "metadata": {},
   "source": [
    "# Q9. Create a bracket of time?"
   ]
  },
  {
   "cell_type": "code",
   "execution_count": 30,
   "metadata": {
    "collapsed": false
   },
   "outputs": [
    {
     "data": {
      "text/plain": [
       "0      11.0\n",
       "1      10.0\n",
       "2      12.0\n",
       "3      13.0\n",
       "4      14.0\n",
       "5      15.0\n",
       "6      15.0\n",
       "7      15.0\n",
       "8      15.0\n",
       "9      17.0\n",
       "10     17.0\n",
       "11     17.0\n",
       "12     13.0\n",
       "13     15.0\n",
       "14     18.0\n",
       "15     23.0\n",
       "16     12.0\n",
       "17     20.0\n",
       "18     20.0\n",
       "19     12.0\n",
       "20     14.0\n",
       "21     14.0\n",
       "22     12.0\n",
       "23     13.0\n",
       "24     13.0\n",
       "25      NaN\n",
       "26     20.0\n",
       "27      NaN\n",
       "28     12.0\n",
       "29     13.0\n",
       "       ... \n",
       "192    11.0\n",
       "193    12.0\n",
       "194    13.0\n",
       "195    16.0\n",
       "196    17.0\n",
       "197    14.0\n",
       "198     NaN\n",
       "199    13.0\n",
       "200    17.0\n",
       "201    19.0\n",
       "202     NaN\n",
       "203    15.0\n",
       "204     NaN\n",
       "205    19.0\n",
       "206    14.0\n",
       "207    21.0\n",
       "208    20.0\n",
       "209    22.0\n",
       "210    16.0\n",
       "211    18.0\n",
       "212    12.0\n",
       "213    19.0\n",
       "214    12.0\n",
       "215     9.0\n",
       "216     NaN\n",
       "217     NaN\n",
       "218    15.0\n",
       "219    18.0\n",
       "220    10.0\n",
       "221    23.0\n",
       "Name: Hour, dtype: float64"
      ]
     },
     "execution_count": 30,
     "metadata": {},
     "output_type": "execute_result"
    }
   ],
   "source": [
    "#First converting the Hour column to numeric type\n",
    "hfd['Hour'] = pd.to_numeric(hfd.Hour,errors='coerce')\n",
    "hfd.Hour"
   ]
  },
  {
   "cell_type": "code",
   "execution_count": 31,
   "metadata": {
    "collapsed": true
   },
   "outputs": [],
   "source": [
    "def getBracket(Hour):\n",
    "    if Hour >=6.0 and Hour<=12.0:\n",
    "        return 'Morning'\n",
    "\n",
    "    elif Hour>=12 and Hour<=16:\n",
    "        return 'Afternoon'\n",
    "    elif Hour>=16 and Hour<=19:\n",
    "        return 'Evening'\n",
    "    elif ((Hour>=19 and Hour <=23) or (Hour>=0 and Hour<=6)):\n",
    "        return 'Nigth'\n",
    "    "
   ]
  },
  {
   "cell_type": "code",
   "execution_count": 32,
   "metadata": {
    "collapsed": false
   },
   "outputs": [
    {
     "data": {
      "text/html": [
       "<div>\n",
       "<table border=\"1\" class=\"dataframe\">\n",
       "  <thead>\n",
       "    <tr style=\"text-align: right;\">\n",
       "      <th></th>\n",
       "      <th>Time</th>\n",
       "      <th>Hour</th>\n",
       "      <th>Bracket</th>\n",
       "    </tr>\n",
       "  </thead>\n",
       "  <tbody>\n",
       "    <tr>\n",
       "      <th>0</th>\n",
       "      <td>1900-01-01 11:00:00</td>\n",
       "      <td>11.0</td>\n",
       "      <td>Morning</td>\n",
       "    </tr>\n",
       "    <tr>\n",
       "      <th>1</th>\n",
       "      <td>1900-01-01 10:45:00</td>\n",
       "      <td>10.0</td>\n",
       "      <td>Morning</td>\n",
       "    </tr>\n",
       "    <tr>\n",
       "      <th>2</th>\n",
       "      <td>1900-01-01 12:38:00</td>\n",
       "      <td>12.0</td>\n",
       "      <td>Morning</td>\n",
       "    </tr>\n",
       "    <tr>\n",
       "      <th>3</th>\n",
       "      <td>1900-01-01 13:00:00</td>\n",
       "      <td>13.0</td>\n",
       "      <td>Afternoon</td>\n",
       "    </tr>\n",
       "    <tr>\n",
       "      <th>4</th>\n",
       "      <td>1900-01-01 14:45:00</td>\n",
       "      <td>14.0</td>\n",
       "      <td>Afternoon</td>\n",
       "    </tr>\n",
       "    <tr>\n",
       "      <th>5</th>\n",
       "      <td>1900-01-01 15:00:00</td>\n",
       "      <td>15.0</td>\n",
       "      <td>Afternoon</td>\n",
       "    </tr>\n",
       "    <tr>\n",
       "      <th>6</th>\n",
       "      <td>1900-01-01 15:28:00</td>\n",
       "      <td>15.0</td>\n",
       "      <td>Afternoon</td>\n",
       "    </tr>\n",
       "    <tr>\n",
       "      <th>7</th>\n",
       "      <td>1900-01-01 15:45:00</td>\n",
       "      <td>15.0</td>\n",
       "      <td>Afternoon</td>\n",
       "    </tr>\n",
       "    <tr>\n",
       "      <th>8</th>\n",
       "      <td>1900-01-01 15:45:00</td>\n",
       "      <td>15.0</td>\n",
       "      <td>Afternoon</td>\n",
       "    </tr>\n",
       "    <tr>\n",
       "      <th>9</th>\n",
       "      <td>1900-01-01 17:00:00</td>\n",
       "      <td>17.0</td>\n",
       "      <td>Evening</td>\n",
       "    </tr>\n",
       "    <tr>\n",
       "      <th>10</th>\n",
       "      <td>1900-01-01 17:00:00</td>\n",
       "      <td>17.0</td>\n",
       "      <td>Evening</td>\n",
       "    </tr>\n",
       "    <tr>\n",
       "      <th>11</th>\n",
       "      <td>1900-01-01 17:30:00</td>\n",
       "      <td>17.0</td>\n",
       "      <td>Evening</td>\n",
       "    </tr>\n",
       "    <tr>\n",
       "      <th>12</th>\n",
       "      <td>1900-01-01 13:00:00</td>\n",
       "      <td>13.0</td>\n",
       "      <td>Afternoon</td>\n",
       "    </tr>\n",
       "    <tr>\n",
       "      <th>13</th>\n",
       "      <td>1900-01-01 15:25:00</td>\n",
       "      <td>15.0</td>\n",
       "      <td>Afternoon</td>\n",
       "    </tr>\n",
       "    <tr>\n",
       "      <th>14</th>\n",
       "      <td>1900-01-01 18:10:00</td>\n",
       "      <td>18.0</td>\n",
       "      <td>Evening</td>\n",
       "    </tr>\n",
       "    <tr>\n",
       "      <th>15</th>\n",
       "      <td>1900-01-01 23:45:00</td>\n",
       "      <td>23.0</td>\n",
       "      <td>Nigth</td>\n",
       "    </tr>\n",
       "    <tr>\n",
       "      <th>16</th>\n",
       "      <td>1900-01-01 12:40:00</td>\n",
       "      <td>12.0</td>\n",
       "      <td>Morning</td>\n",
       "    </tr>\n",
       "    <tr>\n",
       "      <th>17</th>\n",
       "      <td>1900-01-01 20:10:00</td>\n",
       "      <td>20.0</td>\n",
       "      <td>Nigth</td>\n",
       "    </tr>\n",
       "    <tr>\n",
       "      <th>18</th>\n",
       "      <td>1900-01-01 20:30:00</td>\n",
       "      <td>20.0</td>\n",
       "      <td>Nigth</td>\n",
       "    </tr>\n",
       "    <tr>\n",
       "      <th>19</th>\n",
       "      <td>1900-01-01 12:40:00</td>\n",
       "      <td>12.0</td>\n",
       "      <td>Morning</td>\n",
       "    </tr>\n",
       "    <tr>\n",
       "      <th>20</th>\n",
       "      <td>1900-01-01 14:00:00</td>\n",
       "      <td>14.0</td>\n",
       "      <td>Afternoon</td>\n",
       "    </tr>\n",
       "    <tr>\n",
       "      <th>21</th>\n",
       "      <td>1900-01-01 14:00:00</td>\n",
       "      <td>14.0</td>\n",
       "      <td>Afternoon</td>\n",
       "    </tr>\n",
       "    <tr>\n",
       "      <th>22</th>\n",
       "      <td>1900-01-01 12:30:00</td>\n",
       "      <td>12.0</td>\n",
       "      <td>Morning</td>\n",
       "    </tr>\n",
       "    <tr>\n",
       "      <th>23</th>\n",
       "      <td>1900-01-01 13:00:00</td>\n",
       "      <td>13.0</td>\n",
       "      <td>Afternoon</td>\n",
       "    </tr>\n",
       "    <tr>\n",
       "      <th>24</th>\n",
       "      <td>1900-01-01 13:30:00</td>\n",
       "      <td>13.0</td>\n",
       "      <td>Afternoon</td>\n",
       "    </tr>\n",
       "    <tr>\n",
       "      <th>25</th>\n",
       "      <td>NaT</td>\n",
       "      <td>NaN</td>\n",
       "      <td>NaN</td>\n",
       "    </tr>\n",
       "    <tr>\n",
       "      <th>26</th>\n",
       "      <td>1900-01-01 20:15:00</td>\n",
       "      <td>20.0</td>\n",
       "      <td>Nigth</td>\n",
       "    </tr>\n",
       "    <tr>\n",
       "      <th>27</th>\n",
       "      <td>NaT</td>\n",
       "      <td>NaN</td>\n",
       "      <td>NaN</td>\n",
       "    </tr>\n",
       "    <tr>\n",
       "      <th>28</th>\n",
       "      <td>1900-01-01 12:36:00</td>\n",
       "      <td>12.0</td>\n",
       "      <td>Morning</td>\n",
       "    </tr>\n",
       "    <tr>\n",
       "      <th>29</th>\n",
       "      <td>1900-01-01 13:30:00</td>\n",
       "      <td>13.0</td>\n",
       "      <td>Afternoon</td>\n",
       "    </tr>\n",
       "    <tr>\n",
       "      <th>...</th>\n",
       "      <td>...</td>\n",
       "      <td>...</td>\n",
       "      <td>...</td>\n",
       "    </tr>\n",
       "    <tr>\n",
       "      <th>192</th>\n",
       "      <td>1900-01-01 11:20:00</td>\n",
       "      <td>11.0</td>\n",
       "      <td>Morning</td>\n",
       "    </tr>\n",
       "    <tr>\n",
       "      <th>193</th>\n",
       "      <td>1900-01-01 12:30:00</td>\n",
       "      <td>12.0</td>\n",
       "      <td>Morning</td>\n",
       "    </tr>\n",
       "    <tr>\n",
       "      <th>194</th>\n",
       "      <td>1900-01-01 13:30:00</td>\n",
       "      <td>13.0</td>\n",
       "      <td>Afternoon</td>\n",
       "    </tr>\n",
       "    <tr>\n",
       "      <th>195</th>\n",
       "      <td>1900-01-01 16:10:00</td>\n",
       "      <td>16.0</td>\n",
       "      <td>Afternoon</td>\n",
       "    </tr>\n",
       "    <tr>\n",
       "      <th>196</th>\n",
       "      <td>1900-01-01 17:45:00</td>\n",
       "      <td>17.0</td>\n",
       "      <td>Evening</td>\n",
       "    </tr>\n",
       "    <tr>\n",
       "      <th>197</th>\n",
       "      <td>1900-01-01 14:40:00</td>\n",
       "      <td>14.0</td>\n",
       "      <td>Afternoon</td>\n",
       "    </tr>\n",
       "    <tr>\n",
       "      <th>198</th>\n",
       "      <td>NaT</td>\n",
       "      <td>NaN</td>\n",
       "      <td>NaN</td>\n",
       "    </tr>\n",
       "    <tr>\n",
       "      <th>199</th>\n",
       "      <td>1900-01-01 13:20:00</td>\n",
       "      <td>13.0</td>\n",
       "      <td>Afternoon</td>\n",
       "    </tr>\n",
       "    <tr>\n",
       "      <th>200</th>\n",
       "      <td>1900-01-01 17:30:00</td>\n",
       "      <td>17.0</td>\n",
       "      <td>Evening</td>\n",
       "    </tr>\n",
       "    <tr>\n",
       "      <th>201</th>\n",
       "      <td>1900-01-01 19:00:00</td>\n",
       "      <td>19.0</td>\n",
       "      <td>Evening</td>\n",
       "    </tr>\n",
       "    <tr>\n",
       "      <th>202</th>\n",
       "      <td>NaT</td>\n",
       "      <td>NaN</td>\n",
       "      <td>NaN</td>\n",
       "    </tr>\n",
       "    <tr>\n",
       "      <th>203</th>\n",
       "      <td>1900-01-01 15:00:00</td>\n",
       "      <td>15.0</td>\n",
       "      <td>Afternoon</td>\n",
       "    </tr>\n",
       "    <tr>\n",
       "      <th>204</th>\n",
       "      <td>NaT</td>\n",
       "      <td>NaN</td>\n",
       "      <td>NaN</td>\n",
       "    </tr>\n",
       "    <tr>\n",
       "      <th>205</th>\n",
       "      <td>1900-01-01 19:40:00</td>\n",
       "      <td>19.0</td>\n",
       "      <td>Evening</td>\n",
       "    </tr>\n",
       "    <tr>\n",
       "      <th>206</th>\n",
       "      <td>1900-01-01 14:00:00</td>\n",
       "      <td>14.0</td>\n",
       "      <td>Afternoon</td>\n",
       "    </tr>\n",
       "    <tr>\n",
       "      <th>207</th>\n",
       "      <td>1900-01-01 21:35:00</td>\n",
       "      <td>21.0</td>\n",
       "      <td>Nigth</td>\n",
       "    </tr>\n",
       "    <tr>\n",
       "      <th>208</th>\n",
       "      <td>1900-01-01 20:30:00</td>\n",
       "      <td>20.0</td>\n",
       "      <td>Nigth</td>\n",
       "    </tr>\n",
       "    <tr>\n",
       "      <th>209</th>\n",
       "      <td>1900-01-01 22:00:00</td>\n",
       "      <td>22.0</td>\n",
       "      <td>Nigth</td>\n",
       "    </tr>\n",
       "    <tr>\n",
       "      <th>210</th>\n",
       "      <td>1900-01-01 16:45:00</td>\n",
       "      <td>16.0</td>\n",
       "      <td>Afternoon</td>\n",
       "    </tr>\n",
       "    <tr>\n",
       "      <th>211</th>\n",
       "      <td>1900-01-01 18:55:00</td>\n",
       "      <td>18.0</td>\n",
       "      <td>Evening</td>\n",
       "    </tr>\n",
       "    <tr>\n",
       "      <th>212</th>\n",
       "      <td>1900-01-01 12:00:00</td>\n",
       "      <td>12.0</td>\n",
       "      <td>Morning</td>\n",
       "    </tr>\n",
       "    <tr>\n",
       "      <th>213</th>\n",
       "      <td>1900-01-01 19:30:00</td>\n",
       "      <td>19.0</td>\n",
       "      <td>Evening</td>\n",
       "    </tr>\n",
       "    <tr>\n",
       "      <th>214</th>\n",
       "      <td>1900-01-01 12:00:00</td>\n",
       "      <td>12.0</td>\n",
       "      <td>Morning</td>\n",
       "    </tr>\n",
       "    <tr>\n",
       "      <th>215</th>\n",
       "      <td>1900-01-01 09:00:00</td>\n",
       "      <td>9.0</td>\n",
       "      <td>Morning</td>\n",
       "    </tr>\n",
       "    <tr>\n",
       "      <th>216</th>\n",
       "      <td>NaT</td>\n",
       "      <td>NaN</td>\n",
       "      <td>NaN</td>\n",
       "    </tr>\n",
       "    <tr>\n",
       "      <th>217</th>\n",
       "      <td>NaT</td>\n",
       "      <td>NaN</td>\n",
       "      <td>NaN</td>\n",
       "    </tr>\n",
       "    <tr>\n",
       "      <th>218</th>\n",
       "      <td>1900-01-01 15:30:00</td>\n",
       "      <td>15.0</td>\n",
       "      <td>Afternoon</td>\n",
       "    </tr>\n",
       "    <tr>\n",
       "      <th>219</th>\n",
       "      <td>1900-01-01 18:00:00</td>\n",
       "      <td>18.0</td>\n",
       "      <td>Evening</td>\n",
       "    </tr>\n",
       "    <tr>\n",
       "      <th>220</th>\n",
       "      <td>1900-01-01 10:20:00</td>\n",
       "      <td>10.0</td>\n",
       "      <td>Morning</td>\n",
       "    </tr>\n",
       "    <tr>\n",
       "      <th>221</th>\n",
       "      <td>1900-01-01 23:20:00</td>\n",
       "      <td>23.0</td>\n",
       "      <td>Nigth</td>\n",
       "    </tr>\n",
       "  </tbody>\n",
       "</table>\n",
       "<p>222 rows × 3 columns</p>\n",
       "</div>"
      ],
      "text/plain": [
       "                   Time  Hour    Bracket\n",
       "0   1900-01-01 11:00:00  11.0    Morning\n",
       "1   1900-01-01 10:45:00  10.0    Morning\n",
       "2   1900-01-01 12:38:00  12.0    Morning\n",
       "3   1900-01-01 13:00:00  13.0  Afternoon\n",
       "4   1900-01-01 14:45:00  14.0  Afternoon\n",
       "5   1900-01-01 15:00:00  15.0  Afternoon\n",
       "6   1900-01-01 15:28:00  15.0  Afternoon\n",
       "7   1900-01-01 15:45:00  15.0  Afternoon\n",
       "8   1900-01-01 15:45:00  15.0  Afternoon\n",
       "9   1900-01-01 17:00:00  17.0    Evening\n",
       "10  1900-01-01 17:00:00  17.0    Evening\n",
       "11  1900-01-01 17:30:00  17.0    Evening\n",
       "12  1900-01-01 13:00:00  13.0  Afternoon\n",
       "13  1900-01-01 15:25:00  15.0  Afternoon\n",
       "14  1900-01-01 18:10:00  18.0    Evening\n",
       "15  1900-01-01 23:45:00  23.0      Nigth\n",
       "16  1900-01-01 12:40:00  12.0    Morning\n",
       "17  1900-01-01 20:10:00  20.0      Nigth\n",
       "18  1900-01-01 20:30:00  20.0      Nigth\n",
       "19  1900-01-01 12:40:00  12.0    Morning\n",
       "20  1900-01-01 14:00:00  14.0  Afternoon\n",
       "21  1900-01-01 14:00:00  14.0  Afternoon\n",
       "22  1900-01-01 12:30:00  12.0    Morning\n",
       "23  1900-01-01 13:00:00  13.0  Afternoon\n",
       "24  1900-01-01 13:30:00  13.0  Afternoon\n",
       "25                  NaT   NaN        NaN\n",
       "26  1900-01-01 20:15:00  20.0      Nigth\n",
       "27                  NaT   NaN        NaN\n",
       "28  1900-01-01 12:36:00  12.0    Morning\n",
       "29  1900-01-01 13:30:00  13.0  Afternoon\n",
       "..                  ...   ...        ...\n",
       "192 1900-01-01 11:20:00  11.0    Morning\n",
       "193 1900-01-01 12:30:00  12.0    Morning\n",
       "194 1900-01-01 13:30:00  13.0  Afternoon\n",
       "195 1900-01-01 16:10:00  16.0  Afternoon\n",
       "196 1900-01-01 17:45:00  17.0    Evening\n",
       "197 1900-01-01 14:40:00  14.0  Afternoon\n",
       "198                 NaT   NaN        NaN\n",
       "199 1900-01-01 13:20:00  13.0  Afternoon\n",
       "200 1900-01-01 17:30:00  17.0    Evening\n",
       "201 1900-01-01 19:00:00  19.0    Evening\n",
       "202                 NaT   NaN        NaN\n",
       "203 1900-01-01 15:00:00  15.0  Afternoon\n",
       "204                 NaT   NaN        NaN\n",
       "205 1900-01-01 19:40:00  19.0    Evening\n",
       "206 1900-01-01 14:00:00  14.0  Afternoon\n",
       "207 1900-01-01 21:35:00  21.0      Nigth\n",
       "208 1900-01-01 20:30:00  20.0      Nigth\n",
       "209 1900-01-01 22:00:00  22.0      Nigth\n",
       "210 1900-01-01 16:45:00  16.0  Afternoon\n",
       "211 1900-01-01 18:55:00  18.0    Evening\n",
       "212 1900-01-01 12:00:00  12.0    Morning\n",
       "213 1900-01-01 19:30:00  19.0    Evening\n",
       "214 1900-01-01 12:00:00  12.0    Morning\n",
       "215 1900-01-01 09:00:00   9.0    Morning\n",
       "216                 NaT   NaN        NaN\n",
       "217                 NaT   NaN        NaN\n",
       "218 1900-01-01 15:30:00  15.0  Afternoon\n",
       "219 1900-01-01 18:00:00  18.0    Evening\n",
       "220 1900-01-01 10:20:00  10.0    Morning\n",
       "221 1900-01-01 23:20:00  23.0      Nigth\n",
       "\n",
       "[222 rows x 3 columns]"
      ]
     },
     "execution_count": 32,
     "metadata": {},
     "output_type": "execute_result"
    }
   ],
   "source": [
    "#Now creating another column\n",
    "mask = (hfd.Hour.notnull())\n",
    "hfd['Bracket'] = hfd[mask].apply(lambda x: getBracket(x['Hour']),axis=1)\n",
    "\n",
    "hfd[['Time','Hour','Bracket']]"
   ]
  },
  {
   "cell_type": "code",
   "execution_count": null,
   "metadata": {
    "collapsed": true
   },
   "outputs": [],
   "source": []
  },
  {
   "cell_type": "markdown",
   "metadata": {},
   "source": [
    "# Q10. How many patients are repeated visitors?"
   ]
  },
  {
   "cell_type": "code",
   "execution_count": 33,
   "metadata": {
    "collapsed": false
   },
   "outputs": [
    {
     "data": {
      "text/plain": [
       "(37, 1)"
      ]
     },
     "execution_count": 33,
     "metadata": {},
     "output_type": "execute_result"
    }
   ],
   "source": [
    "reppat = hfd[['id']].copy()\n",
    "reppat['Visits']=0\n",
    "reppat = reppat.groupby(['id']).agg({'Visits':\"count\"})\n",
    "reppat = reppat.loc[reppat['Visits']>1]\n",
    "reppat.shape\n"
   ]
  },
  {
   "cell_type": "code",
   "execution_count": 34,
   "metadata": {
    "collapsed": true
   },
   "outputs": [],
   "source": [
    "# Results above diisplays that there are 37 patients with more than 1 viisits"
   ]
  },
  {
   "cell_type": "code",
   "execution_count": null,
   "metadata": {
    "collapsed": true
   },
   "outputs": [],
   "source": []
  },
  {
   "cell_type": "markdown",
   "metadata": {},
   "source": [
    "# Q11. Give us the id of repeated visitors?"
   ]
  },
  {
   "cell_type": "code",
   "execution_count": 35,
   "metadata": {
    "collapsed": false
   },
   "outputs": [
    {
     "data": {
      "text/html": [
       "<div>\n",
       "<table border=\"1\" class=\"dataframe\">\n",
       "  <thead>\n",
       "    <tr style=\"text-align: right;\">\n",
       "      <th></th>\n",
       "      <th>Visits</th>\n",
       "    </tr>\n",
       "    <tr>\n",
       "      <th>id</th>\n",
       "      <th></th>\n",
       "    </tr>\n",
       "  </thead>\n",
       "  <tbody>\n",
       "    <tr>\n",
       "      <th>1</th>\n",
       "      <td>12</td>\n",
       "    </tr>\n",
       "    <tr>\n",
       "      <th>4</th>\n",
       "      <td>2</td>\n",
       "    </tr>\n",
       "    <tr>\n",
       "      <th>12</th>\n",
       "      <td>2</td>\n",
       "    </tr>\n",
       "    <tr>\n",
       "      <th>13</th>\n",
       "      <td>2</td>\n",
       "    </tr>\n",
       "    <tr>\n",
       "      <th>17</th>\n",
       "      <td>4</td>\n",
       "    </tr>\n",
       "    <tr>\n",
       "      <th>20</th>\n",
       "      <td>2</td>\n",
       "    </tr>\n",
       "    <tr>\n",
       "      <th>25</th>\n",
       "      <td>2</td>\n",
       "    </tr>\n",
       "    <tr>\n",
       "      <th>40</th>\n",
       "      <td>2</td>\n",
       "    </tr>\n",
       "    <tr>\n",
       "      <th>45</th>\n",
       "      <td>3</td>\n",
       "    </tr>\n",
       "    <tr>\n",
       "      <th>46</th>\n",
       "      <td>5</td>\n",
       "    </tr>\n",
       "    <tr>\n",
       "      <th>59</th>\n",
       "      <td>2</td>\n",
       "    </tr>\n",
       "    <tr>\n",
       "      <th>63</th>\n",
       "      <td>3</td>\n",
       "    </tr>\n",
       "    <tr>\n",
       "      <th>64</th>\n",
       "      <td>2</td>\n",
       "    </tr>\n",
       "    <tr>\n",
       "      <th>80</th>\n",
       "      <td>2</td>\n",
       "    </tr>\n",
       "    <tr>\n",
       "      <th>88</th>\n",
       "      <td>2</td>\n",
       "    </tr>\n",
       "    <tr>\n",
       "      <th>94</th>\n",
       "      <td>4</td>\n",
       "    </tr>\n",
       "    <tr>\n",
       "      <th>96</th>\n",
       "      <td>2</td>\n",
       "    </tr>\n",
       "    <tr>\n",
       "      <th>97</th>\n",
       "      <td>2</td>\n",
       "    </tr>\n",
       "    <tr>\n",
       "      <th>100</th>\n",
       "      <td>2</td>\n",
       "    </tr>\n",
       "    <tr>\n",
       "      <th>101</th>\n",
       "      <td>3</td>\n",
       "    </tr>\n",
       "    <tr>\n",
       "      <th>107</th>\n",
       "      <td>3</td>\n",
       "    </tr>\n",
       "    <tr>\n",
       "      <th>109</th>\n",
       "      <td>3</td>\n",
       "    </tr>\n",
       "    <tr>\n",
       "      <th>112</th>\n",
       "      <td>2</td>\n",
       "    </tr>\n",
       "    <tr>\n",
       "      <th>114</th>\n",
       "      <td>3</td>\n",
       "    </tr>\n",
       "    <tr>\n",
       "      <th>116</th>\n",
       "      <td>2</td>\n",
       "    </tr>\n",
       "    <tr>\n",
       "      <th>118</th>\n",
       "      <td>2</td>\n",
       "    </tr>\n",
       "    <tr>\n",
       "      <th>120</th>\n",
       "      <td>2</td>\n",
       "    </tr>\n",
       "    <tr>\n",
       "      <th>122</th>\n",
       "      <td>5</td>\n",
       "    </tr>\n",
       "    <tr>\n",
       "      <th>130</th>\n",
       "      <td>2</td>\n",
       "    </tr>\n",
       "    <tr>\n",
       "      <th>132</th>\n",
       "      <td>3</td>\n",
       "    </tr>\n",
       "    <tr>\n",
       "      <th>133</th>\n",
       "      <td>2</td>\n",
       "    </tr>\n",
       "    <tr>\n",
       "      <th>140</th>\n",
       "      <td>4</td>\n",
       "    </tr>\n",
       "    <tr>\n",
       "      <th>145</th>\n",
       "      <td>3</td>\n",
       "    </tr>\n",
       "    <tr>\n",
       "      <th>149</th>\n",
       "      <td>2</td>\n",
       "    </tr>\n",
       "    <tr>\n",
       "      <th>150</th>\n",
       "      <td>2</td>\n",
       "    </tr>\n",
       "    <tr>\n",
       "      <th>151</th>\n",
       "      <td>2</td>\n",
       "    </tr>\n",
       "    <tr>\n",
       "      <th>153</th>\n",
       "      <td>2</td>\n",
       "    </tr>\n",
       "  </tbody>\n",
       "</table>\n",
       "</div>"
      ],
      "text/plain": [
       "     Visits\n",
       "id         \n",
       "1        12\n",
       "4         2\n",
       "12        2\n",
       "13        2\n",
       "17        4\n",
       "20        2\n",
       "25        2\n",
       "40        2\n",
       "45        3\n",
       "46        5\n",
       "59        2\n",
       "63        3\n",
       "64        2\n",
       "80        2\n",
       "88        2\n",
       "94        4\n",
       "96        2\n",
       "97        2\n",
       "100       2\n",
       "101       3\n",
       "107       3\n",
       "109       3\n",
       "112       2\n",
       "114       3\n",
       "116       2\n",
       "118       2\n",
       "120       2\n",
       "122       5\n",
       "130       2\n",
       "132       3\n",
       "133       2\n",
       "140       4\n",
       "145       3\n",
       "149       2\n",
       "150       2\n",
       "151       2\n",
       "153       2"
      ]
     },
     "execution_count": 35,
     "metadata": {},
     "output_type": "execute_result"
    }
   ],
   "source": [
    "reppat"
   ]
  },
  {
   "cell_type": "code",
   "execution_count": null,
   "metadata": {
    "collapsed": true
   },
   "outputs": [],
   "source": []
  },
  {
   "cell_type": "markdown",
   "metadata": {},
   "source": [
    "# Q12. Which patients visited again for the same problem?"
   ]
  },
  {
   "cell_type": "code",
   "execution_count": 36,
   "metadata": {
    "collapsed": false
   },
   "outputs": [
    {
     "data": {
      "text/html": [
       "<div>\n",
       "<table border=\"1\" class=\"dataframe\">\n",
       "  <thead>\n",
       "    <tr style=\"text-align: right;\">\n",
       "      <th></th>\n",
       "      <th></th>\n",
       "      <th>Visits</th>\n",
       "    </tr>\n",
       "    <tr>\n",
       "      <th>id</th>\n",
       "      <th>Specialty</th>\n",
       "      <th></th>\n",
       "    </tr>\n",
       "  </thead>\n",
       "  <tbody>\n",
       "    <tr>\n",
       "      <th>12</th>\n",
       "      <th>Dentist</th>\n",
       "      <td>2</td>\n",
       "    </tr>\n",
       "    <tr>\n",
       "      <th>13</th>\n",
       "      <th>Orthopedic</th>\n",
       "      <td>2</td>\n",
       "    </tr>\n",
       "    <tr>\n",
       "      <th>17</th>\n",
       "      <th>Dentist</th>\n",
       "      <td>2</td>\n",
       "    </tr>\n",
       "    <tr>\n",
       "      <th>25</th>\n",
       "      <th>Gynae</th>\n",
       "      <td>2</td>\n",
       "    </tr>\n",
       "    <tr>\n",
       "      <th>40</th>\n",
       "      <th>Dentist</th>\n",
       "      <td>2</td>\n",
       "    </tr>\n",
       "    <tr>\n",
       "      <th>45</th>\n",
       "      <th>Dentist</th>\n",
       "      <td>3</td>\n",
       "    </tr>\n",
       "    <tr>\n",
       "      <th>63</th>\n",
       "      <th>Dentist</th>\n",
       "      <td>2</td>\n",
       "    </tr>\n",
       "    <tr>\n",
       "      <th>88</th>\n",
       "      <th>Dentist</th>\n",
       "      <td>2</td>\n",
       "    </tr>\n",
       "    <tr>\n",
       "      <th>96</th>\n",
       "      <th>Dentist</th>\n",
       "      <td>2</td>\n",
       "    </tr>\n",
       "    <tr>\n",
       "      <th>97</th>\n",
       "      <th>Psychotherapist</th>\n",
       "      <td>2</td>\n",
       "    </tr>\n",
       "    <tr>\n",
       "      <th>100</th>\n",
       "      <th>Dentist</th>\n",
       "      <td>2</td>\n",
       "    </tr>\n",
       "    <tr>\n",
       "      <th>101</th>\n",
       "      <th>Gynae</th>\n",
       "      <td>3</td>\n",
       "    </tr>\n",
       "    <tr>\n",
       "      <th>107</th>\n",
       "      <th>Dentist</th>\n",
       "      <td>2</td>\n",
       "    </tr>\n",
       "    <tr>\n",
       "      <th>109</th>\n",
       "      <th>Dentist</th>\n",
       "      <td>3</td>\n",
       "    </tr>\n",
       "    <tr>\n",
       "      <th>112</th>\n",
       "      <th>Orthopedic</th>\n",
       "      <td>2</td>\n",
       "    </tr>\n",
       "    <tr>\n",
       "      <th>114</th>\n",
       "      <th>Gynae</th>\n",
       "      <td>3</td>\n",
       "    </tr>\n",
       "    <tr>\n",
       "      <th>116</th>\n",
       "      <th>Dentist</th>\n",
       "      <td>2</td>\n",
       "    </tr>\n",
       "    <tr>\n",
       "      <th>120</th>\n",
       "      <th>M/o</th>\n",
       "      <td>2</td>\n",
       "    </tr>\n",
       "    <tr>\n",
       "      <th>130</th>\n",
       "      <th>Psychotherapist</th>\n",
       "      <td>2</td>\n",
       "    </tr>\n",
       "    <tr>\n",
       "      <th>132</th>\n",
       "      <th>Dentist</th>\n",
       "      <td>3</td>\n",
       "    </tr>\n",
       "    <tr>\n",
       "      <th>140</th>\n",
       "      <th>Dentist</th>\n",
       "      <td>4</td>\n",
       "    </tr>\n",
       "    <tr>\n",
       "      <th>145</th>\n",
       "      <th>Dentist</th>\n",
       "      <td>3</td>\n",
       "    </tr>\n",
       "    <tr>\n",
       "      <th>149</th>\n",
       "      <th>Dentist</th>\n",
       "      <td>2</td>\n",
       "    </tr>\n",
       "    <tr>\n",
       "      <th>151</th>\n",
       "      <th>Dentist</th>\n",
       "      <td>2</td>\n",
       "    </tr>\n",
       "    <tr>\n",
       "      <th>153</th>\n",
       "      <th>Dentist</th>\n",
       "      <td>2</td>\n",
       "    </tr>\n",
       "  </tbody>\n",
       "</table>\n",
       "</div>"
      ],
      "text/plain": [
       "                     Visits\n",
       "id  Specialty              \n",
       "12  Dentist               2\n",
       "13  Orthopedic            2\n",
       "17  Dentist               2\n",
       "25  Gynae                 2\n",
       "40  Dentist               2\n",
       "45  Dentist               3\n",
       "63  Dentist               2\n",
       "88  Dentist               2\n",
       "96  Dentist               2\n",
       "97  Psychotherapist       2\n",
       "100 Dentist               2\n",
       "101 Gynae                 3\n",
       "107 Dentist               2\n",
       "109 Dentist               3\n",
       "112 Orthopedic            2\n",
       "114 Gynae                 3\n",
       "116 Dentist               2\n",
       "120 M/o                   2\n",
       "130 Psychotherapist       2\n",
       "132 Dentist               3\n",
       "140 Dentist               4\n",
       "145 Dentist               3\n",
       "149 Dentist               2\n",
       "151 Dentist               2\n",
       "153 Dentist               2"
      ]
     },
     "execution_count": 36,
     "metadata": {},
     "output_type": "execute_result"
    }
   ],
   "source": [
    "reppat = hfd[['id','Specialty']].copy()\n",
    "reppat['Visits']=1\n",
    "reppat =  reppat.groupby(['id','Specialty']).agg({'Visits':\"count\"})\n",
    "reppat = reppat.loc[reppat['Visits']>1]\n",
    "reppat\n"
   ]
  },
  {
   "cell_type": "code",
   "execution_count": 37,
   "metadata": {
    "collapsed": false
   },
   "outputs": [
    {
     "data": {
      "text/plain": [
       "<matplotlib.text.Text at 0xc542cc0>"
      ]
     },
     "execution_count": 37,
     "metadata": {},
     "output_type": "execute_result"
    },
    {
     "data": {
      "image/png": "[encoded data removed]",
      "text/plain": [
       "<matplotlib.figure.Figure at 0xbf0c4a8>"
      ]
     },
     "metadata": {},
     "output_type": "display_data"
    }
   ],
   "source": [
    "#Lets plot it\n",
    "g = reppat.plot(kind='bar',figsize=(20,10),color='#8E44AD',title='Patients and their visits for same Specialty')\n",
    "g.set_xlabel('ID-Specialty')\n",
    "g.set_ylabel('Visits')"
   ]
  },
  {
   "cell_type": "code",
   "execution_count": null,
   "metadata": {
    "collapsed": true
   },
   "outputs": [],
   "source": []
  },
  {
   "cell_type": "markdown",
   "metadata": {},
   "source": [
    "# Q13. What is the median age for Females and Males?"
   ]
  },
  {
   "cell_type": "code",
   "execution_count": 38,
   "metadata": {
    "collapsed": false
   },
   "outputs": [
    {
     "name": "stderr",
     "output_type": "stream",
     "text": [
      "C:\\Users\\Obaid\\Anaconda2\\lib\\site-packages\\numpy\\lib\\nanfunctions.py:717: RuntimeWarning: All-NaN slice encountered\n",
      "  warnings.warn(\"All-NaN slice encountered\", RuntimeWarning)\n"
     ]
    },
    {
     "data": {
      "text/plain": [
       "Sex\n",
       "F      30.0\n",
       "M      29.0\n",
       "NAN     NaN\n",
       "Name: Age, dtype: float64"
      ]
     },
     "execution_count": 38,
     "metadata": {},
     "output_type": "execute_result"
    }
   ],
   "source": [
    "medAge = hfd[['Sex','Age']].copy()\n",
    "medAge = medAge.groupby(['Sex'])['Age'].apply(np.nanmedian)  #Group sex, and apply median on age\n",
    "medAge"
   ]
  },
  {
   "cell_type": "code",
   "execution_count": null,
   "metadata": {
    "collapsed": true
   },
   "outputs": [],
   "source": []
  },
  {
   "cell_type": "markdown",
   "metadata": {},
   "source": [
    "# Q14. What is the total amount in balance?"
   ]
  },
  {
   "cell_type": "code",
   "execution_count": 39,
   "metadata": {
    "collapsed": false
   },
   "outputs": [
    {
     "data": {
      "text/plain": [
       "array([' -   ', nan, '14,000.00', '3,000.00', '90,000.00', '22,000.00',\n",
       "       '500'], dtype=object)"
      ]
     },
     "execution_count": 39,
     "metadata": {},
     "output_type": "execute_result"
    }
   ],
   "source": [
    "#Checking if there are garbage values in AmountBalance \n",
    "hfd['AmountBalance'].unique()"
   ]
  },
  {
   "cell_type": "code",
   "execution_count": 40,
   "metadata": {
    "collapsed": false
   },
   "outputs": [
    {
     "data": {
      "text/plain": [
       "222500.0"
      ]
     },
     "execution_count": 40,
     "metadata": {},
     "output_type": "execute_result"
    }
   ],
   "source": [
    "hfd.AmountBalance = hfd.AmountBalance.replace(',','',regex=True)\n",
    "hfd.AmountBalance = pd.to_numeric(hfd.AmountBalance,errors='coerce')\n",
    "\n",
    "amountBalance = hfd.AmountBalance.sum()\n",
    "amountBalance #222500"
   ]
  },
  {
   "cell_type": "code",
   "execution_count": null,
   "metadata": {
    "collapsed": true
   },
   "outputs": [],
   "source": []
  },
  {
   "cell_type": "markdown",
   "metadata": {},
   "source": [
    "# Q15. How much money was made by Procedure Type “Consultation”?"
   ]
  },
  {
   "cell_type": "code",
   "execution_count": 46,
   "metadata": {
    "collapsed": false
   },
   "outputs": [
    {
     "data": {
      "text/html": [
       "<div>\n",
       "<table border=\"1\" class=\"dataframe\">\n",
       "  <thead>\n",
       "    <tr style=\"text-align: right;\">\n",
       "      <th></th>\n",
       "      <th>Procedure</th>\n",
       "      <th>TotalCharges</th>\n",
       "    </tr>\n",
       "  </thead>\n",
       "  <tbody>\n",
       "    <tr>\n",
       "      <th>0</th>\n",
       "      <td>Consultation</td>\n",
       "      <td>83950.0</td>\n",
       "    </tr>\n",
       "  </tbody>\n",
       "</table>\n",
       "</div>"
      ],
      "text/plain": [
       "      Procedure  TotalCharges\n",
       "0  Consultation       83950.0"
      ]
     },
     "execution_count": 46,
     "metadata": {},
     "output_type": "execute_result"
    }
   ],
   "source": [
    "hfd.TotalCharges = pd.to_numeric(hfd.TotalCharges,errors='coerce')\n",
    "consEarn = hfd[['Procedure','TotalCharges']].copy()\n",
    "consEarn = consEarn.loc[consEarn['Procedure']=='Consultation']\n",
    "consEarn = consEarn.groupby('Procedure').sum()\n",
    "consEarn = consEarn.reset_index()\n",
    "consEarn #83950"
   ]
  },
  {
   "cell_type": "code",
   "execution_count": null,
   "metadata": {
    "collapsed": true
   },
   "outputs": [],
   "source": []
  },
  {
   "cell_type": "code",
   "execution_count": null,
   "metadata": {
    "collapsed": true
   },
   "outputs": [],
   "source": []
  }
 ],
 "metadata": {
  "kernelspec": {
   "display_name": "Python 2",
   "language": "python",
   "name": "python2"
  },
  "language_info": {
   "codemirror_mode": {
    "name": "ipython",
    "version": 2
   },
   "file_extension": ".py",
   "mimetype": "text/x-python",
   "name": "python",
   "nbconvert_exporter": "python",
   "pygments_lexer": "ipython2",
   "version": "2.7.13"
  }
 },
 "nbformat": 4,
 "nbformat_minor": 2
}
