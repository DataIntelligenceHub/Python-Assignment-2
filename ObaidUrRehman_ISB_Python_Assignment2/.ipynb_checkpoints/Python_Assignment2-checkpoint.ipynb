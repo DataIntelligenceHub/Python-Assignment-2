{
 "cells": [
  {
   "cell_type": "code",
   "execution_count": 1,
   "metadata": {
    "collapsed": true
   },
   "outputs": [],
   "source": [
    "# ObaidUrRehman"
   ]
  },
  {
   "cell_type": "code",
   "execution_count": 2,
   "metadata": {
    "collapsed": true
   },
   "outputs": [],
   "source": [
    "%matplotlib inline\n",
    "import pandas as pd\n",
    "import numpy as np\n",
    "from matplotlib.pyplot import pie, axis, show"
   ]
  },
  {
   "cell_type": "code",
   "execution_count": 4,
   "metadata": {
    "collapsed": false
   },
   "outputs": [
    {
     "data": {
      "text/html": [
       "<div>\n",
       "<table border=\"1\" class=\"dataframe\">\n",
       "  <thead>\n",
       "    <tr style=\"text-align: right;\">\n",
       "      <th></th>\n",
       "      <th>Date</th>\n",
       "      <th>id</th>\n",
       "      <th>Time</th>\n",
       "      <th>Age</th>\n",
       "      <th>Sex</th>\n",
       "      <th>Consulting..Doctor</th>\n",
       "      <th>Specialty</th>\n",
       "      <th>Procedure</th>\n",
       "      <th>Total..Charges</th>\n",
       "      <th>Amount..Received.</th>\n",
       "      <th>Amount..Balance</th>\n",
       "      <th>Amount.Received.By</th>\n",
       "      <th>Amount.in.Hospital</th>\n",
       "      <th>Receptionist..Name</th>\n",
       "      <th>Next.Apt</th>\n",
       "    </tr>\n",
       "  </thead>\n",
       "  <tbody>\n",
       "    <tr>\n",
       "      <th>0</th>\n",
       "      <td>Sunday, January 01, 2017</td>\n",
       "      <td>101</td>\n",
       "      <td>11:00AM</td>\n",
       "      <td>40</td>\n",
       "      <td>F</td>\n",
       "      <td>Dr Kinza Alam</td>\n",
       "      <td>Gynae</td>\n",
       "      <td>C Section</td>\n",
       "      <td>30000</td>\n",
       "      <td>30000.0</td>\n",
       "      <td>-</td>\n",
       "      <td>Mrs Shamsa</td>\n",
       "      <td>NaN</td>\n",
       "      <td>Hamza</td>\n",
       "      <td>NaN</td>\n",
       "    </tr>\n",
       "    <tr>\n",
       "      <th>1</th>\n",
       "      <td>Monday, January 02, 2017</td>\n",
       "      <td>150</td>\n",
       "      <td>10:45AM</td>\n",
       "      <td>26</td>\n",
       "      <td>M</td>\n",
       "      <td>Nursing Staff</td>\n",
       "      <td>NaN</td>\n",
       "      <td>Dressing</td>\n",
       "      <td>1500</td>\n",
       "      <td>1500.0</td>\n",
       "      <td>-</td>\n",
       "      <td>Dr Saniya</td>\n",
       "      <td>NaN</td>\n",
       "      <td>Haris</td>\n",
       "      <td>NaN</td>\n",
       "    </tr>\n",
       "    <tr>\n",
       "      <th>2</th>\n",
       "      <td>Monday, January 02, 2017</td>\n",
       "      <td>58</td>\n",
       "      <td>12:38PM</td>\n",
       "      <td>30</td>\n",
       "      <td>F</td>\n",
       "      <td>Dr Riffat Naheed</td>\n",
       "      <td>Psychotherapist</td>\n",
       "      <td>Consultation</td>\n",
       "      <td>1000</td>\n",
       "      <td>1000.0</td>\n",
       "      <td>-</td>\n",
       "      <td>Mrs Shamsa</td>\n",
       "      <td>300.0</td>\n",
       "      <td>Fiza</td>\n",
       "      <td>NaN</td>\n",
       "    </tr>\n",
       "    <tr>\n",
       "      <th>3</th>\n",
       "      <td>Monday, January 02, 2017</td>\n",
       "      <td>75</td>\n",
       "      <td>1:00PM</td>\n",
       "      <td>40</td>\n",
       "      <td>M</td>\n",
       "      <td>Dr Riffat Naheed</td>\n",
       "      <td>Psychotherapist</td>\n",
       "      <td>Consultation</td>\n",
       "      <td>1500</td>\n",
       "      <td>1500.0</td>\n",
       "      <td>-</td>\n",
       "      <td>Mrs Shamsa</td>\n",
       "      <td>450.0</td>\n",
       "      <td>Zaheer</td>\n",
       "      <td>NaN</td>\n",
       "    </tr>\n",
       "    <tr>\n",
       "      <th>4</th>\n",
       "      <td>Monday, January 02, 2017</td>\n",
       "      <td>97</td>\n",
       "      <td>2:45PM</td>\n",
       "      <td>27</td>\n",
       "      <td>M</td>\n",
       "      <td>Dr Riffat Naheed</td>\n",
       "      <td>Psychotherapist</td>\n",
       "      <td>Consultation</td>\n",
       "      <td>2000</td>\n",
       "      <td>2000.0</td>\n",
       "      <td>-</td>\n",
       "      <td>Mrs Shamsa</td>\n",
       "      <td>600.0</td>\n",
       "      <td>Haris</td>\n",
       "      <td>NaN</td>\n",
       "    </tr>\n",
       "  </tbody>\n",
       "</table>\n",
       "</div>"
      ],
      "text/plain": [
       "                       Date   id     Time Age Sex Consulting..Doctor  \\\n",
       "0  Sunday, January 01, 2017  101  11:00AM  40   F      Dr Kinza Alam   \n",
       "1  Monday, January 02, 2017  150  10:45AM  26   M      Nursing Staff   \n",
       "2  Monday, January 02, 2017   58  12:38PM  30   F   Dr Riffat Naheed   \n",
       "3  Monday, January 02, 2017   75   1:00PM  40   M   Dr Riffat Naheed   \n",
       "4  Monday, January 02, 2017   97   2:45PM  27   M   Dr Riffat Naheed   \n",
       "\n",
       "         Specialty     Procedure Total..Charges  Amount..Received.  \\\n",
       "0            Gynae     C Section          30000            30000.0   \n",
       "1              NaN      Dressing           1500             1500.0   \n",
       "2  Psychotherapist  Consultation           1000             1000.0   \n",
       "3  Psychotherapist  Consultation           1500             1500.0   \n",
       "4  Psychotherapist  Consultation           2000             2000.0   \n",
       "\n",
       "  Amount..Balance Amount.Received.By  Amount.in.Hospital Receptionist..Name  \\\n",
       "0            -           Mrs Shamsa                  NaN              Hamza   \n",
       "1            -            Dr Saniya                  NaN              Haris   \n",
       "2            -           Mrs Shamsa                300.0               Fiza   \n",
       "3            -           Mrs Shamsa                450.0             Zaheer   \n",
       "4            -           Mrs Shamsa                600.0              Haris   \n",
       "\n",
       "  Next.Apt  \n",
       "0      NaN  \n",
       "1      NaN  \n",
       "2      NaN  \n",
       "3      NaN  \n",
       "4      NaN  "
      ]
     },
     "execution_count": 4,
     "metadata": {},
     "output_type": "execute_result"
    }
   ],
   "source": [
    "hfd = pd.read_csv('hospitaldata.csv',thousands=',')\n",
    "hfd.head()"
   ]
  },
  {
   "cell_type": "code",
   "execution_count": null,
   "metadata": {
    "collapsed": true
   },
   "outputs": [],
   "source": []
  },
  {
   "cell_type": "markdown",
   "metadata": {},
   "source": [
    "# Q1. Remove the dots in the names."
   ]
  },
  {
   "cell_type": "code",
   "execution_count": 6,
   "metadata": {
    "collapsed": false
   },
   "outputs": [
    {
     "data": {
      "text/html": [
       "<div>\n",
       "<table border=\"1\" class=\"dataframe\">\n",
       "  <thead>\n",
       "    <tr style=\"text-align: right;\">\n",
       "      <th></th>\n",
       "      <th>Date</th>\n",
       "      <th>id</th>\n",
       "      <th>Time</th>\n",
       "      <th>Age</th>\n",
       "      <th>Sex</th>\n",
       "      <th>ConsultingDoctor</th>\n",
       "      <th>Specialty</th>\n",
       "      <th>Procedure</th>\n",
       "      <th>TotalCharges</th>\n",
       "      <th>AmountReceived</th>\n",
       "      <th>AmountBalance</th>\n",
       "      <th>AmountReceivedBy</th>\n",
       "      <th>AmountinHospital</th>\n",
       "      <th>ReceptionistName</th>\n",
       "      <th>NextApt</th>\n",
       "    </tr>\n",
       "  </thead>\n",
       "  <tbody>\n",
       "    <tr>\n",
       "      <th>0</th>\n",
       "      <td>Sunday, January 01, 2017</td>\n",
       "      <td>101</td>\n",
       "      <td>11:00AM</td>\n",
       "      <td>40</td>\n",
       "      <td>F</td>\n",
       "      <td>Dr Kinza Alam</td>\n",
       "      <td>Gynae</td>\n",
       "      <td>C Section</td>\n",
       "      <td>30000</td>\n",
       "      <td>30000.0</td>\n",
       "      <td>-</td>\n",
       "      <td>Mrs Shamsa</td>\n",
       "      <td>NaN</td>\n",
       "      <td>Hamza</td>\n",
       "      <td>NaN</td>\n",
       "    </tr>\n",
       "    <tr>\n",
       "      <th>1</th>\n",
       "      <td>Monday, January 02, 2017</td>\n",
       "      <td>150</td>\n",
       "      <td>10:45AM</td>\n",
       "      <td>26</td>\n",
       "      <td>M</td>\n",
       "      <td>Nursing Staff</td>\n",
       "      <td>NaN</td>\n",
       "      <td>Dressing</td>\n",
       "      <td>1500</td>\n",
       "      <td>1500.0</td>\n",
       "      <td>-</td>\n",
       "      <td>Dr Saniya</td>\n",
       "      <td>NaN</td>\n",
       "      <td>Haris</td>\n",
       "      <td>NaN</td>\n",
       "    </tr>\n",
       "    <tr>\n",
       "      <th>2</th>\n",
       "      <td>Monday, January 02, 2017</td>\n",
       "      <td>58</td>\n",
       "      <td>12:38PM</td>\n",
       "      <td>30</td>\n",
       "      <td>F</td>\n",
       "      <td>Dr Riffat Naheed</td>\n",
       "      <td>Psychotherapist</td>\n",
       "      <td>Consultation</td>\n",
       "      <td>1000</td>\n",
       "      <td>1000.0</td>\n",
       "      <td>-</td>\n",
       "      <td>Mrs Shamsa</td>\n",
       "      <td>300.0</td>\n",
       "      <td>Fiza</td>\n",
       "      <td>NaN</td>\n",
       "    </tr>\n",
       "    <tr>\n",
       "      <th>3</th>\n",
       "      <td>Monday, January 02, 2017</td>\n",
       "      <td>75</td>\n",
       "      <td>1:00PM</td>\n",
       "      <td>40</td>\n",
       "      <td>M</td>\n",
       "      <td>Dr Riffat Naheed</td>\n",
       "      <td>Psychotherapist</td>\n",
       "      <td>Consultation</td>\n",
       "      <td>1500</td>\n",
       "      <td>1500.0</td>\n",
       "      <td>-</td>\n",
       "      <td>Mrs Shamsa</td>\n",
       "      <td>450.0</td>\n",
       "      <td>Zaheer</td>\n",
       "      <td>NaN</td>\n",
       "    </tr>\n",
       "    <tr>\n",
       "      <th>4</th>\n",
       "      <td>Monday, January 02, 2017</td>\n",
       "      <td>97</td>\n",
       "      <td>2:45PM</td>\n",
       "      <td>27</td>\n",
       "      <td>M</td>\n",
       "      <td>Dr Riffat Naheed</td>\n",
       "      <td>Psychotherapist</td>\n",
       "      <td>Consultation</td>\n",
       "      <td>2000</td>\n",
       "      <td>2000.0</td>\n",
       "      <td>-</td>\n",
       "      <td>Mrs Shamsa</td>\n",
       "      <td>600.0</td>\n",
       "      <td>Haris</td>\n",
       "      <td>NaN</td>\n",
       "    </tr>\n",
       "  </tbody>\n",
       "</table>\n",
       "</div>"
      ],
      "text/plain": [
       "                       Date   id     Time Age Sex  ConsultingDoctor  \\\n",
       "0  Sunday, January 01, 2017  101  11:00AM  40   F     Dr Kinza Alam   \n",
       "1  Monday, January 02, 2017  150  10:45AM  26   M     Nursing Staff   \n",
       "2  Monday, January 02, 2017   58  12:38PM  30   F  Dr Riffat Naheed   \n",
       "3  Monday, January 02, 2017   75   1:00PM  40   M  Dr Riffat Naheed   \n",
       "4  Monday, January 02, 2017   97   2:45PM  27   M  Dr Riffat Naheed   \n",
       "\n",
       "         Specialty     Procedure TotalCharges  AmountReceived AmountBalance  \\\n",
       "0            Gynae     C Section        30000         30000.0          -      \n",
       "1              NaN      Dressing         1500          1500.0          -      \n",
       "2  Psychotherapist  Consultation         1000          1000.0          -      \n",
       "3  Psychotherapist  Consultation         1500          1500.0          -      \n",
       "4  Psychotherapist  Consultation         2000          2000.0          -      \n",
       "\n",
       "  AmountReceivedBy  AmountinHospital ReceptionistName NextApt  \n",
       "0      Mrs Shamsa                NaN            Hamza     NaN  \n",
       "1       Dr Saniya                NaN            Haris     NaN  \n",
       "2      Mrs Shamsa              300.0             Fiza     NaN  \n",
       "3      Mrs Shamsa              450.0           Zaheer     NaN  \n",
       "4      Mrs Shamsa              600.0            Haris     NaN  "
      ]
     },
     "execution_count": 6,
     "metadata": {},
     "output_type": "execute_result"
    }
   ],
   "source": [
    "hfd.columns = [col.replace('.','') for col in hfd.columns]\n",
    "hfd.head()"
   ]
  },
  {
   "cell_type": "code",
   "execution_count": null,
   "metadata": {
    "collapsed": true
   },
   "outputs": [],
   "source": []
  },
  {
   "cell_type": "markdown",
   "metadata": {},
   "source": [
    "# Q2. Which day of the week is expected to have most visits?"
   ]
  },
  {
   "cell_type": "code",
   "execution_count": 7,
   "metadata": {
    "collapsed": false
   },
   "outputs": [
    {
     "data": {
      "text/plain": [
       "0"
      ]
     },
     "execution_count": 7,
     "metadata": {},
     "output_type": "execute_result"
    }
   ],
   "source": [
    "#Checking nan in dataset\n",
    "\n",
    "sum(hfd['Date'].isnull())\n"
   ]
  },
  {
   "cell_type": "code",
   "execution_count": 8,
   "metadata": {
    "collapsed": false
   },
   "outputs": [
    {
     "data": {
      "text/plain": [
       "<matplotlib.text.Text at 0x9b0fc88>"
      ]
     },
     "execution_count": 8,
     "metadata": {},
     "output_type": "execute_result"
    },
    {
     "data": {
      "image/png": "[encoded data removed]",
      "text/plain": [
       "<matplotlib.figure.Figure at 0x4c419e8>"
      ]
     },
     "metadata": {},
     "output_type": "display_data"
    }
   ],
   "source": [
    "# So there are 0 Null values in Date column\n",
    "\n",
    "weekday = pd.to_datetime(hfd['Date'])\n",
    "hfd['WeekDay'] = weekday.dt.weekday_name  #Monday=0, Sunday=6\n",
    "# grouping by weekday\n",
    "DayData = hfd.groupby('WeekDay').WeekDay.count()\n",
    "g1 = DayData.plot(kind='bar',figsize=(10, 5),color = '#8E44AD',title=\"Weekdays Visits\") \n",
    "g1.set_xlabel('Week Days')\n",
    "g1.set_ylabel('Visits')\n",
    "\n",
    "#As we can see from plot, Monday has the most visits"
   ]
  },
  {
   "cell_type": "code",
   "execution_count": null,
   "metadata": {
    "collapsed": true
   },
   "outputs": [],
   "source": []
  },
  {
   "cell_type": "markdown",
   "metadata": {},
   "source": [
    "# Q3. What is the average age of patients?"
   ]
  },
  {
   "cell_type": "code",
   "execution_count": 9,
   "metadata": {
    "collapsed": false
   },
   "outputs": [
    {
     "data": {
      "text/plain": [
       "19"
      ]
     },
     "execution_count": 9,
     "metadata": {},
     "output_type": "execute_result"
    }
   ],
   "source": [
    "# First checking if there are nan values in age column\n",
    "sum(hfd['Age'].isnull())"
   ]
  },
  {
   "cell_type": "code",
   "execution_count": 10,
   "metadata": {
    "collapsed": false
   },
   "outputs": [
    {
     "data": {
      "text/plain": [
       "array(['40', '26', '30', '27', '43', '28', '2', '32', '76', '75', '36',\n",
       "       '42', '23', '48', '25', '50', '60', '-', '57', nan, '39', '6', '5',\n",
       "       '9', '29', '45', '34', '52', '21', '58', '33', '10', '19', '53',\n",
       "       '55', '28M', '47', '49', '31', '7', '8', '17', '54', '35', '80',\n",
       "       '70', '20', '13', '18', '14', '6M', '24', '3', '38', '22', '65',\n",
       "       '64', '78', '56'], dtype=object)"
      ]
     },
     "execution_count": 10,
     "metadata": {},
     "output_type": "execute_result"
    }
   ],
   "source": [
    "# There are 19 Nan values in Age column\n",
    "\n",
    "#Lets check if there are garbage valus in Age column\n",
    "\n",
    "hfd.Age.unique()"
   ]
  },
  {
   "cell_type": "code",
   "execution_count": 11,
   "metadata": {
    "collapsed": false
   },
   "outputs": [
    {
     "data": {
      "text/plain": [
       "32.734375"
      ]
     },
     "execution_count": 11,
     "metadata": {},
     "output_type": "execute_result"
    }
   ],
   "source": [
    "# There are grabage values e.g. \"-\", \"6M\". So we need to clean this column\n",
    "\n",
    "# We can use mean(Age) to fill the garbage values, but because our dataset is too small, ill just replace them with nan\n",
    "\n",
    "hfd['Age'] =pd.to_numeric(hfd.Age,errors='coerce')\n",
    "np.mean(hfd.Age) #Average age is 32.7"
   ]
  },
  {
   "cell_type": "code",
   "execution_count": null,
   "metadata": {
    "collapsed": true
   },
   "outputs": [],
   "source": []
  },
  {
   "cell_type": "markdown",
   "metadata": {},
   "source": [
    "# Q4. How many children were entertained?"
   ]
  },
  {
   "cell_type": "code",
   "execution_count": 12,
   "metadata": {
    "collapsed": false
   },
   "outputs": [
    {
     "name": "stdout",
     "output_type": "stream",
     "text": [
      "Age\n",
      "2.0     3\n",
      "3.0     7\n",
      "5.0     1\n",
      "6.0     4\n",
      "7.0     1\n",
      "8.0     1\n",
      "9.0     3\n",
      "10.0    3\n",
      "Name: Age, dtype: int64\n",
      "Number of childrens entertained:23\n"
     ]
    },
    {
     "data": {
      "text/plain": [
       "<matplotlib.text.Text at 0xa013ac8>"
      ]
     },
     "execution_count": 12,
     "metadata": {},
     "output_type": "execute_result"
    },
    {
     "data": {
      "image/png": "[encoded data removed]",
      "text/plain": [
       "<matplotlib.figure.Figure at 0x7b73dd8>"
      ]
     },
     "metadata": {},
     "output_type": "display_data"
    }
   ],
   "source": [
    "child = hfd[['Age']].copy()\n",
    "child =child.loc[child['Age']<=12]\n",
    "child = child.groupby('Age').Age.count()\n",
    "print child\n",
    "print \"Number of childrens entertained:\"+str(sum(child))  #23 child were entertained\n",
    "g1 = child.plot(kind='bar',figsize=(10, 5),color = '#8E44AD',title=\"Vists by Age\") \n",
    "g1.set_xlabel('Age')\n",
    "g1.set_ylabel('Visits')"
   ]
  },
  {
   "cell_type": "code",
   "execution_count": null,
   "metadata": {
    "collapsed": true
   },
   "outputs": [],
   "source": []
  },
  {
   "cell_type": "markdown",
   "metadata": {},
   "source": [
    "# Q5. Which gender type had what kind of procedure in abundance?"
   ]
  },
  {
   "cell_type": "code",
   "execution_count": 13,
   "metadata": {
    "collapsed": false
   },
   "outputs": [
    {
     "name": "stdout",
     "output_type": "stream",
     "text": [
      "No of NaN values: 12\n",
      "Values of Sex column  are: ['F' 'M' nan 'f' '-']\n"
     ]
    }
   ],
   "source": [
    "#check if Sex column contains garbage values\n",
    "print\"No of NaN values: \"+str(sum(hfd.Sex.isnull())) #12 nan values\n",
    "\n",
    "print\"Values of Sex column  are: \"+ str(hfd.Sex.unique()) #['F', 'M', nan, 'f', '-'"
   ]
  },
  {
   "cell_type": "code",
   "execution_count": 14,
   "metadata": {
    "collapsed": false
   },
   "outputs": [
    {
     "name": "stdout",
     "output_type": "stream",
     "text": [
      "Values of Sex column are: ['F' 'M' 'NAN']\n"
     ]
    }
   ],
   "source": [
    "#cleaning Sex column\n",
    "hfd.Sex = hfd.Sex.replace('-',np.nan) #removing '-' from Sex column\n",
    "hfd.Sex= map(lambda x: str(x).upper(),hfd.Sex) #conveting 'f' and 'm' to upper case\n",
    "\n",
    "print \"Values of Sex column are: \"+str(hfd.Sex.unique())"
   ]
  },
  {
   "cell_type": "code",
   "execution_count": 15,
   "metadata": {
    "collapsed": false
   },
   "outputs": [
    {
     "name": "stdout",
     "output_type": "stream",
     "text": [
      "Below are the results: \n",
      "Sex  Specialty         \n",
      "F    Child Specialist       3\n",
      "     Dental                 1\n",
      "     Dentist               57\n",
      "     ENT                    1\n",
      "     General Surgeon        2\n",
      "     Gynae                 13\n",
      "     M/o                    7\n",
      "     Medical Specialist     1\n",
      "     Orthopedic             5\n",
      "     Psychotherapist        4\n",
      "     Radiologist            3\n",
      "M    Anaesthetist           1\n",
      "     Child Specialist       7\n",
      "     Dentist               46\n",
      "     Dermatologist          1\n",
      "     General Surgeon        2\n",
      "     M/o                    8\n",
      "     Medical Specialist     2\n",
      "     Orthopedic             3\n",
      "     Psychotherapist       10\n",
      "     Radiologist            3\n",
      "NAN  Child Specialist       1\n",
      "Name: Counts, dtype: int64\n"
     ]
    }
   ],
   "source": [
    "# Now we calculate procedure of each Sex\n",
    "gend = hfd[['Sex','Specialty']].copy()\n",
    "gend['Counts'] =1       #initially, set that counter to 1.\n",
    "group_data = gend.groupby(['Sex','Specialty'])['Counts'].sum() #sum function\n",
    "print \"Below are the results: \"\n",
    "print group_data"
   ]
  },
  {
   "cell_type": "code",
   "execution_count": 16,
   "metadata": {
    "collapsed": false
   },
   "outputs": [
    {
     "data": {
      "text/plain": [
       "<matplotlib.text.Text at 0x9e4de10>"
      ]
     },
     "execution_count": 16,
     "metadata": {},
     "output_type": "execute_result"
    },
    {
     "data": {
      "image/png": "[encoded data removed]",
      "text/plain": [
       "<matplotlib.figure.Figure at 0x9eef978>"
      ]
     },
     "metadata": {},
     "output_type": "display_data"
    }
   ],
   "source": [
    "# We can see from above results that Dentist is abundance in both Female and Male\n",
    "\n",
    "#Lets plot a graph \n",
    "g1 = group_data.plot(kind='bar',figsize=(20, 20),color = '#8E44AD',title=\"Specialty Abundance in Femal & Male\") \n",
    "g1.set_xlabel('Sex-Specialty')\n",
    "g1.set_ylabel('Counts')"
   ]
  },
  {
   "cell_type": "code",
   "execution_count": null,
   "metadata": {
    "collapsed": true
   },
   "outputs": [],
   "source": []
  },
  {
   "cell_type": "markdown",
   "metadata": {},
   "source": [
    "# Q6. Which Doctor is earning highest?"
   ]
  },
  {
   "cell_type": "code",
   "execution_count": 17,
   "metadata": {
    "collapsed": false
   },
   "outputs": [
    {
     "data": {
      "text/plain": [
       "Index([u'Date', u'id', u'Time', u'Age', u'Sex', u'ConsultingDoctor',\n",
       "       u'Specialty', u'Procedure', u'TotalCharges', u'AmountReceived',\n",
       "       u'AmountBalance', u'AmountReceivedBy', u'AmountinHospital',\n",
       "       u'ReceptionistName', u'NextApt', u'WeekDay'],\n",
       "      dtype='object')"
      ]
     },
     "execution_count": 17,
     "metadata": {},
     "output_type": "execute_result"
    }
   ],
   "source": [
    "hfd.columns"
   ]
  },
  {
   "cell_type": "code",
   "execution_count": 18,
   "metadata": {
    "collapsed": false
   },
   "outputs": [
    {
     "name": "stdout",
     "output_type": "stream",
     "text": [
      "Number of NaN values: 16\n"
     ]
    }
   ],
   "source": [
    "#Check how many Nans are in TotalCharges column\n",
    "print \"Number of NaN values: \"+str(sum(hfd.TotalCharges.isnull())) #16 Nan values"
   ]
  },
  {
   "cell_type": "code",
   "execution_count": 19,
   "metadata": {
    "collapsed": false
   },
   "outputs": [
    {
     "name": "stdout",
     "output_type": "stream",
     "text": [
      "Values in TotalCharges Columns: ['30000' '1500' '1000' '2000' '35000' '500' 'Cancelled' nan '4000' '5000'\n",
      " '6000' '300' '7000' '800' '250' '10000' '3000' '3750' '2600' '5500' '900'\n",
      " '2500' '38000' '25500' '1200' '2800' '700' '1150' '1300' '200' '3500'\n",
      " '44000' '110000' '15000' '3700' '400' '100' '120000' '600' '50' '4500'\n",
      " '8000' '950' '650' '150']\n"
     ]
    }
   ],
   "source": [
    "#Check if garbage values in TotalCharges\n",
    "print \"Values in TotalCharges Columns: \"+str(hfd.TotalCharges.unique())\n",
    "\n",
    "#we see only one value is garbage i.e. 'Cancelled'"
   ]
  },
  {
   "cell_type": "code",
   "execution_count": 20,
   "metadata": {
    "collapsed": false
   },
   "outputs": [
    {
     "name": "stdout",
     "output_type": "stream",
     "text": [
      "Values in TotalCharges Columns: ['30000' '1500' '1000' '2000' '35000' '500' nan '4000' '5000' '6000' '300'\n",
      " '7000' '800' '250' '10000' '3000' '3750' '2600' '5500' '900' '2500'\n",
      " '38000' '25500' '1200' '2800' '700' '1150' '1300' '200' '3500' '44000'\n",
      " '110000' '15000' '3700' '400' '100' '120000' '600' '50' '4500' '8000'\n",
      " '950' '650' '150']\n"
     ]
    }
   ],
   "source": [
    "#So we will replace this with NaN\n",
    "\n",
    "hfd.TotalCharges = hfd.TotalCharges.replace('Cancelled',np.nan)\n",
    "\n",
    "print \"Values in TotalCharges Columns: \"+str(hfd.TotalCharges.unique())"
   ]
  },
  {
   "cell_type": "code",
   "execution_count": 21,
   "metadata": {
    "collapsed": false
   },
   "outputs": [
    {
     "name": "stdout",
     "output_type": "stream",
     "text": [
      "                  TotalCharges\n",
      "ConsultingDoctor              \n",
      "Dr Alaf Khan          513050.0\n",
      "Dr Kinza Alam          76700.0\n",
      "Dr Saad                52000.0\n",
      "Dr Ali                 26100.0\n",
      "Dr Fakiha              22600.0\n",
      "Dr Qurat ul Ain        20900.0\n",
      "Dr Riffat Naheed       18800.0\n",
      "Dr Irfan               11000.0\n",
      "Nursing Staff           9150.0\n",
      "Dr Waqar Azeem          6000.0\n",
      "Dr Saad Riaz            5700.0\n",
      "Dr Saniya               4000.0\n",
      "Brig Farrukh            3750.0\n",
      "Dr Shireen              3200.0\n",
      "Brig Asif               2800.0\n",
      "Dr Zubair               1700.0\n",
      "Dr Paul                 1500.0\n",
      "Dr Saima Shams          1500.0\n",
      "Dr Ammara               1500.0\n",
      "Dr Ammad                1400.0\n",
      "Dr Mehwish              1000.0\n",
      "Col Ulfat Ellahi        1000.0\n",
      "Dr Mumtaz               1000.0\n"
     ]
    },
    {
     "name": "stderr",
     "output_type": "stream",
     "text": [
      "C:\\Users\\Obaid\\Anaconda2\\lib\\site-packages\\ipykernel\\__main__.py:6: FutureWarning: sort(columns=....) is deprecated, use sort_values(by=.....)\n"
     ]
    }
   ],
   "source": [
    "#We convert TotalCharges column to numeric\n",
    "hfd['TotalCharges'] =pd.to_numeric(hfd.TotalCharges,errors='coerce')\n",
    "#Now we are good to go\n",
    "\n",
    "docEarn = hfd[['ConsultingDoctor','TotalCharges']].copy()\n",
    "docEarn = docEarn.groupby('ConsultingDoctor').sum().sort('TotalCharges',ascending=False)\n",
    "\n",
    "print docEarn"
   ]
  },
  {
   "cell_type": "code",
   "execution_count": 22,
   "metadata": {
    "collapsed": false
   },
   "outputs": [
    {
     "data": {
      "text/plain": [
       "<matplotlib.text.Text at 0xa4e0ef0>"
      ]
     },
     "execution_count": 22,
     "metadata": {},
     "output_type": "execute_result"
    },
    {
     "data": {
      "image/png": "[encoded data removed]",
      "text/plain": [
       "<matplotlib.figure.Figure at 0x9e68ef0>"
      ]
     },
     "metadata": {},
     "output_type": "display_data"
    }
   ],
   "source": [
    "#As we can see, Dr Alaf Khan is on top of the lists in earning\n",
    "#Now, lets plot that\n",
    "g1 = docEarn.plot(kind='bar',figsize=(20,10),color='#8E44AD',title=\"Doctor Earnings\")\n",
    "g1.set_xlabel('Consulting Doctors')\n",
    "g1.set_ylabel('Total Earnings')"
   ]
  },
  {
   "cell_type": "code",
   "execution_count": null,
   "metadata": {
    "collapsed": true
   },
   "outputs": [],
   "source": []
  },
  {
   "cell_type": "code",
   "execution_count": null,
   "metadata": {
    "collapsed": true
   },
   "outputs": [],
   "source": []
  }
 ],
 "metadata": {
  "kernelspec": {
   "display_name": "Python 2",
   "language": "python",
   "name": "python2"
  },
  "language_info": {
   "codemirror_mode": {
    "name": "ipython",
    "version": 2
   },
   "file_extension": ".py",
   "mimetype": "text/x-python",
   "name": "python",
   "nbconvert_exporter": "python",
   "pygments_lexer": "ipython2",
   "version": "2.7.13"
  }
 },
 "nbformat": 4,
 "nbformat_minor": 2
}
