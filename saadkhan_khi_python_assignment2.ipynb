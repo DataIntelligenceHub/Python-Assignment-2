{
 "cells": [
  {
   "cell_type": "code",
   "execution_count": 6,
   "metadata": {
    "collapsed": false
   },
   "outputs": [
    {
     "name": "stdout",
     "output_type": "stream",
     "text": [
      "Index(['Date', 'id', 'Time', 'Age', 'Sex', 'ConsultingDoctor', 'Specialty',\n",
      "       'Procedure', 'TotalCharges', 'AmountReceived', 'AmountBalance',\n",
      "       'AmountReceivedBy', 'AmountinHospital', 'ReceptionistName', 'NextApt'],\n",
      "      dtype='object')\n",
      "Monday\n",
      "28.0\n"
     ]
    }
   ],
   "source": [
    "import pandas as pd\n",
    "import datetime\n",
    "\n",
    "df=pd.read_csv(\"hospitaldata.csv\")\n",
    "\n",
    "#Question 01\n",
    "df.columns=[names.replace('.', '') for names in list(df)]\n",
    "print(df.columns)\n",
    "\n",
    "#Cleaning Dataset\n",
    "df.Date=pd.to_datetime(df.Date)\n",
    "\n",
    "#Some of the data in age column contains value for months like 6M and 28M, we have to convert those values to years\n",
    "df.loc[(df[\"Age\"]!='nan') &(df[\"Age\"].str.contains(\"M\")),\"Age\"]=df.loc[(df[\"Age\"]!='nan') &(df[\"Age\"].str.contains(\"M\")),\"Age\"].apply(lambda x: str( round(float(float(str(x).replace(\"M\",\"\"))/12),1) ))\n",
    "\n",
    "\n",
    "df.Age=pd.to_numeric(df.Age,errors=\"coerce\")\n",
    "df.Age=df.Age.fillna(0)\n",
    "df.AmountBalance=df[\"AmountBalance\"].str.strip()\n",
    "df.AmountBalance=df[\"AmountBalance\"].str.replace(\"-\",'nan')\n",
    "df.AmountBalance=df[\"AmountBalance\"].str.replace(\",\", \"\").astype(float)\n",
    "\n",
    "df.loc[:,\"Sex\"]=df.loc[:,\"Sex\"].replace(\"-\",float('nan'))\n",
    "df[\"Sex\"]=df[\"Sex\"].str.upper()\n",
    "df.TotalCharges=pd.to_numeric(df.TotalCharges,errors=\"coerce\")\n",
    "df.Time = pd.to_datetime(df.Time,errors=\"coerce\",format=\"%I:%M%p\")\n",
    "\n",
    "df.NextApt = pd.to_datetime(df.NextApt,errors=\"coerce\", format=\"%m/%d/%Y\")\n",
    "\n",
    "\n",
    "#df.AmountReceivedBy=df.AmountReceivedBy.apply(lambda x: str(x).replace('\\d+', ''))\n",
    "\n",
    "#Question 02: Which day of the weeks has more visits?\n",
    "print(df.Date.dt.weekday_name.value_counts().idxmax())\n",
    "\n",
    "#Question 03: Average age of patients\n",
    "print(round(df.Age.mean(),0))\n",
    "\n",
    "\n"
   ]
  },
  {
   "cell_type": "code",
   "execution_count": null,
   "metadata": {
    "collapsed": true
   },
   "outputs": [],
   "source": []
  }
 ],
 "metadata": {
  "kernelspec": {
   "display_name": "Python 3",
   "language": "python",
   "name": "python3"
  },
  "language_info": {
   "codemirror_mode": {
    "name": "ipython",
    "version": 3
   },
   "file_extension": ".py",
   "mimetype": "text/x-python",
   "name": "python",
   "nbconvert_exporter": "python",
   "pygments_lexer": "ipython3",
   "version": "3.6.0"
  }
 },
 "nbformat": 4,
 "nbformat_minor": 2
}
