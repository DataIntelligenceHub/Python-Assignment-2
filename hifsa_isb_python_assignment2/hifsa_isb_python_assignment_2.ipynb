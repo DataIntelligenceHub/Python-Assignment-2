{
 "cells": [
  {
   "cell_type": "markdown",
   "metadata": {},
   "source": [
    "# Assignment 2"
   ]
  },
  {
   "cell_type": "markdown",
   "metadata": {},
   "source": [
    "### 1. Please remove the dots in the names, so it may become easier for you to work through it."
   ]
  },
  {
   "cell_type": "code",
   "execution_count": 11,
   "metadata": {
    "collapsed": true
   },
   "outputs": [],
   "source": [
    "import pandas as pd\n",
    "import numpy as np\n",
    "import re "
   ]
  },
  {
   "cell_type": "code",
   "execution_count": 29,
   "metadata": {
    "collapsed": false
   },
   "outputs": [
    {
     "data": {
      "text/plain": [
       "['Date',\n",
       " 'id',\n",
       " 'Time',\n",
       " 'Age',\n",
       " 'Sex',\n",
       " 'Consulting  Doctor',\n",
       " 'Specialty',\n",
       " 'Procedure',\n",
       " 'Total  Charges',\n",
       " 'Amount  Received ',\n",
       " 'Amount  Balance',\n",
       " 'Amount Received By',\n",
       " 'Amount in Hospital',\n",
       " 'Receptionist  Name',\n",
       " 'Next Apt']"
      ]
     },
     "execution_count": 29,
     "metadata": {},
     "output_type": "execute_result"
    }
   ],
   "source": [
    "Location = 'hospitaldata.csv'\n",
    "df = pd.read_csv(Location,sep=',', na_values=['?']) #Load and Check if dataset is in cleaned form\n",
    "\n",
    "df.columns = pd.Series(df.columns).str.replace('.', ' ')\n",
    "names = list(df)\n",
    "names"
   ]
  },
  {
   "cell_type": "markdown",
   "metadata": {},
   "source": [
    "### 2. Which day of the week is expected to have most visits?"
   ]
  },
  {
   "cell_type": "code",
   "execution_count": null,
   "metadata": {
    "collapsed": true
   },
   "outputs": [],
   "source": []
  }
 ],
 "metadata": {
  "kernelspec": {
   "display_name": "Python 2",
   "language": "python",
   "name": "python2"
  },
  "language_info": {
   "codemirror_mode": {
    "name": "ipython",
    "version": 2
   },
   "file_extension": ".py",
   "mimetype": "text/x-python",
   "name": "python",
   "nbconvert_exporter": "python",
   "pygments_lexer": "ipython2",
   "version": "2.7.13"
  }
 },
 "nbformat": 4,
 "nbformat_minor": 2
}
