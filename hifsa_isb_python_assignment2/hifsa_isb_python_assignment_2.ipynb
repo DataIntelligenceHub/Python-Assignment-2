{
 "cells": [
  {
   "cell_type": "markdown",
   "metadata": {},
   "source": [
    "# Assignment 2"
   ]
  },
  {
   "cell_type": "markdown",
   "metadata": {},
   "source": [
    "### 1. Please remove the dots in the names, so it may become easier for you to work through it."
   ]
  },
  {
   "cell_type": "code",
   "execution_count": 45,
   "metadata": {
    "collapsed": true
   },
   "outputs": [],
   "source": [
    "import pandas as pd\n",
    "import numpy as np\n",
    "import datetime \n",
    "import re "
   ]
  },
  {
   "cell_type": "code",
   "execution_count": 29,
   "metadata": {
    "collapsed": false
   },
   "outputs": [
    {
     "data": {
      "text/plain": [
       "['Date',\n",
       " 'id',\n",
       " 'Time',\n",
       " 'Age',\n",
       " 'Sex',\n",
       " 'Consulting  Doctor',\n",
       " 'Specialty',\n",
       " 'Procedure',\n",
       " 'Total  Charges',\n",
       " 'Amount  Received ',\n",
       " 'Amount  Balance',\n",
       " 'Amount Received By',\n",
       " 'Amount in Hospital',\n",
       " 'Receptionist  Name',\n",
       " 'Next Apt']"
      ]
     },
     "execution_count": 29,
     "metadata": {},
     "output_type": "execute_result"
    }
   ],
   "source": [
    "Location = 'hospitaldata.csv'\n",
    "df = pd.read_csv(Location,sep=',', na_values=['?']) #Load and Check if dataset is in cleaned form\n",
    "\n",
    "df.columns = pd.Series(df.columns).str.replace('.', ' ')\n",
    "names = list(df)\n",
    "names"
   ]
  },
  {
   "cell_type": "markdown",
   "metadata": {},
   "source": [
    "### 2. Which day of the week is expected to have most visits?"
   ]
  },
  {
   "cell_type": "code",
   "execution_count": 52,
   "metadata": {
    "collapsed": false
   },
   "outputs": [
    {
     "data": {
      "text/plain": [
       "pandas.core.series.Series"
      ]
     },
     "execution_count": 52,
     "metadata": {},
     "output_type": "execute_result"
    }
   ],
   "source": [
    "y = df['Date']\n",
    "type(y)\n"
   ]
  },
  {
   "cell_type": "code",
   "execution_count": 57,
   "metadata": {
    "collapsed": true
   },
   "outputs": [
    {
     "data": {
      "text/plain": [
       "0      6\n",
       "1      0\n",
       "2      0\n",
       "3      0\n",
       "4      0\n",
       "5      0\n",
       "6      0\n",
       "7      0\n",
       "8      0\n",
       "9      0\n",
       "10     0\n",
       "11     0\n",
       "12     1\n",
       "13     1\n",
       "14     1\n",
       "15     2\n",
       "16     2\n",
       "17     2\n",
       "18     2\n",
       "19     3\n",
       "20     3\n",
       "21     3\n",
       "22     4\n",
       "23     4\n",
       "24     4\n",
       "25     4\n",
       "26     4\n",
       "27     5\n",
       "28     0\n",
       "29     0\n",
       "      ..\n",
       "192    4\n",
       "193    4\n",
       "194    4\n",
       "195    4\n",
       "196    4\n",
       "197    4\n",
       "198    6\n",
       "199    0\n",
       "200    0\n",
       "201    0\n",
       "202    1\n",
       "203    1\n",
       "204    1\n",
       "205    1\n",
       "206    1\n",
       "207    1\n",
       "208    2\n",
       "209    2\n",
       "210    2\n",
       "211    2\n",
       "212    2\n",
       "213    2\n",
       "214    3\n",
       "215    3\n",
       "216    3\n",
       "217    3\n",
       "218    3\n",
       "219    3\n",
       "220    4\n",
       "221    4\n",
       "Name: day_of_week, dtype: int64"
      ]
     },
     "execution_count": 57,
     "metadata": {},
     "output_type": "execute_result"
    }
   ],
   "source": [
    "df['my_dates'] = pd.to_datetime(df['Date'])\n",
    "df['day_of_week'] = df['my_dates'].dt.dayofweek\n",
    "df['day_of_week']"
   ]
  },
  {
   "cell_type": "markdown",
   "metadata": {},
   "source": [
    "### 3. What is the average age of patients?"
   ]
  },
  {
   "cell_type": "code",
   "execution_count": 93,
   "metadata": {
    "collapsed": false
   },
   "outputs": [
    {
     "data": {
      "text/plain": [
       "32.734375"
      ]
     },
     "execution_count": 93,
     "metadata": {},
     "output_type": "execute_result"
    }
   ],
   "source": [
    "df['Age']= df['Age'].replace(\"-\", \"\")\n",
    "y= pd.to_numeric(df['Age'], errors= 'coerce')\n",
    "np.mean(y )"
   ]
  },
  {
   "cell_type": "markdown",
   "metadata": {},
   "source": [
    "### 4. How many children were entertained? (Make a Bracket of Age from 1-12)"
   ]
  },
  {
   "cell_type": "code",
   "execution_count": 101,
   "metadata": {
    "collapsed": false
   },
   "outputs": [
    {
     "name": "stdout",
     "output_type": "stream",
     "text": [
      "      Age\n",
      "8     2.0\n",
      "29    6.0\n",
      "33    5.0\n",
      "35    9.0\n",
      "74   10.0\n",
      "79   10.0\n",
      "89    9.0\n",
      "96    7.0\n",
      "98    8.0\n",
      "108   6.0\n",
      "109   2.0\n",
      "130   6.0\n",
      "137   6.0\n",
      "146   3.0\n",
      "153   3.0\n",
      "156  10.0\n",
      "159   3.0\n",
      "162   2.0\n",
      "163   3.0\n",
      "184   3.0\n",
      "208   3.0\n",
      "210   9.0\n",
      "215   3.0\n"
     ]
    }
   ],
   "source": [
    "p=df.loc[(df['Age']>1)&(df['Age']<12) ,['Age']]\n",
    "print p"
   ]
  },
  {
   "cell_type": "code",
   "execution_count": 102,
   "metadata": {
    "collapsed": false
   },
   "outputs": [
    {
     "data": {
      "text/plain": [
       "23"
      ]
     },
     "execution_count": 102,
     "metadata": {},
     "output_type": "execute_result"
    }
   ],
   "source": [
    "len(p)"
   ]
  },
  {
   "cell_type": "markdown",
   "metadata": {},
   "source": [
    "### 5. Which gender type had what kind of procedure in abundance? i.e. Female visit mostly because of Gynae Problem"
   ]
  },
  {
   "cell_type": "code",
   "execution_count": 127,
   "metadata": {
    "collapsed": false
   },
   "outputs": [
    {
     "name": "stdout",
     "output_type": "stream",
     "text": [
      "Sex  Procedure                     \n",
      "-    Consultation                       1\n",
      "     Dressing                           1\n",
      "F    Consultation                      46\n",
      "     Extraction                         8\n",
      "     X Ray                              4\n",
      "     Injection                          3\n",
      "     Orthodontics                       3\n",
      "     Scalling                           3\n",
      "     USG                                3\n",
      "     22 Unit Bridge                     2\n",
      "     4 Unit Bridge                      2\n",
      "     C Section                          2\n",
      "     Consultation+X Ray                 2\n",
      "     Filling                            2\n",
      "     Laboratory Test                    2\n",
      "     R.C.T                              2\n",
      "     R.P.D + Crown                      2\n",
      "     Consultation +   X Ray             1\n",
      "     Consultation + USG                 1\n",
      "     Consultation+Denture               1\n",
      "     Consultation+ECG                   1\n",
      "     Consultation+USG                   1\n",
      "     Consultation+x Ray                 1\n",
      "     Coupety                            1\n",
      "     Crown                              1\n",
      "     Denture+Scalling+Filling           1\n",
      "     Filling + X Rays                   1\n",
      "     Pharmacy                           1\n",
      "     Polishing                          1\n",
      "     R.C.T+Crown                        1\n",
      "                                       ..\n",
      "M    X Ray                             11\n",
      "     Injection                          9\n",
      "     Crown                              6\n",
      "     Dressing                           5\n",
      "     Consultation+X Ray                 4\n",
      "     Laboratory Test                    3\n",
      "     R.C.T                              3\n",
      "     Scalling                           3\n",
      "     Extraction                         2\n",
      "     Filling                            2\n",
      "     Operation                          2\n",
      "     RCT (4 teeth) Bridge (9 teeth)     2\n",
      "     8 Unit Bridge+2 R.C.T              1\n",
      "     BSR                                1\n",
      "     Consultation + Dressing            1\n",
      "     Consultation + Nebulize            1\n",
      "     Consultation+ER Retain             1\n",
      "     Consultation+Retain                1\n",
      "     Er Retain                          1\n",
      "     Pop                                1\n",
      "     R.C.T+Scalling+Crown               1\n",
      "     RCT                                1\n",
      "     Scalling+Polishing                 1\n",
      "     Stiches                            1\n",
      "     USG                                1\n",
      "     USG Abdomen                        1\n",
      "     USG KUB                            1\n",
      "NAN  Pharmacy                          10\n",
      "     Cancelled                          1\n",
      "     Medicine                           1\n",
      "Name: Procedure, dtype: int64\n"
     ]
    }
   ],
   "source": [
    "\n",
    "df['Sex'] = map(lambda x: str(x).upper(), df['Sex'])\n",
    "print df.groupby(['Sex']).Procedure.value_counts()"
   ]
  },
  {
   "cell_type": "markdown",
   "metadata": {},
   "source": [
    "### 6. Which Doctor is earning highest?"
   ]
  },
  {
   "cell_type": "code",
   "execution_count": 136,
   "metadata": {
    "collapsed": false
   },
   "outputs": [
    {
     "ename": "TypeError",
     "evalue": "f() takes exactly 1 argument (2 given)",
     "output_type": "error",
     "traceback": [
      "\u001b[0;31m---------------------------------------------------------------------------\u001b[0m",
      "\u001b[0;31mTypeError\u001b[0m                                 Traceback (most recent call last)",
      "\u001b[0;32m<ipython-input-136-9959422266f2>\u001b[0m in \u001b[0;36m<module>\u001b[0;34m()\u001b[0m\n\u001b[1;32m      1\u001b[0m \u001b[0mdf\u001b[0m\u001b[1;33m[\u001b[0m\u001b[1;34m'Consulting  Doctor'\u001b[0m\u001b[1;33m]\u001b[0m\u001b[1;33m=\u001b[0m \u001b[0mfilter\u001b[0m\u001b[1;33m(\u001b[0m\u001b[1;32mlambda\u001b[0m \u001b[0mx\u001b[0m\u001b[1;33m:\u001b[0m \u001b[0mstr\u001b[0m\u001b[1;33m(\u001b[0m\u001b[0mx\u001b[0m\u001b[1;33m)\u001b[0m\u001b[1;33m,\u001b[0m \u001b[0mdf\u001b[0m\u001b[1;33m[\u001b[0m\u001b[1;34m'Consulting  Doctor'\u001b[0m\u001b[1;33m]\u001b[0m\u001b[1;33m)\u001b[0m\u001b[1;33m\u001b[0m\u001b[0m\n\u001b[1;32m      2\u001b[0m \u001b[1;33m\u001b[0m\u001b[0m\n\u001b[0;32m----> 3\u001b[0;31m \u001b[1;32mprint\u001b[0m \u001b[0mdf\u001b[0m\u001b[1;33m.\u001b[0m\u001b[0mgroupby\u001b[0m\u001b[1;33m(\u001b[0m\u001b[1;33m[\u001b[0m\u001b[1;34m'Consulting  Doctor'\u001b[0m\u001b[1;33m]\u001b[0m\u001b[1;33m)\u001b[0m\u001b[1;33m.\u001b[0m\u001b[0mmax\u001b[0m\u001b[1;33m(\u001b[0m\u001b[0mpd\u001b[0m\u001b[1;33m.\u001b[0m\u001b[0mto_numeric\u001b[0m\u001b[1;33m(\u001b[0m\u001b[0mdf\u001b[0m\u001b[1;33m[\u001b[0m\u001b[1;34m'Total  Charges'\u001b[0m\u001b[1;33m]\u001b[0m\u001b[1;33m,\u001b[0m \u001b[0merrors\u001b[0m\u001b[1;33m=\u001b[0m \u001b[1;34m'coerce'\u001b[0m\u001b[1;33m)\u001b[0m\u001b[1;33m)\u001b[0m\u001b[1;33m\u001b[0m\u001b[0m\n\u001b[0m",
      "\u001b[0;31mTypeError\u001b[0m: f() takes exactly 1 argument (2 given)"
     ]
    }
   ],
   "source": [
    "df['Consulting  Doctor']= filter(lambda x: str(x), df['Consulting  Doctor'])\n",
    "\n",
    "print df.groupby(['Consulting  Doctor']).max(pd.to_numeric(df['Total  Charges'], errors= 'coerce'))"
   ]
  },
  {
   "cell_type": "markdown",
   "metadata": {},
   "source": [
    "### 7. Which procedure type earns more money?"
   ]
  },
  {
   "cell_type": "code",
   "execution_count": null,
   "metadata": {
    "collapsed": true
   },
   "outputs": [],
   "source": []
  }
 ],
 "metadata": {
  "kernelspec": {
   "display_name": "Python 2",
   "language": "python",
   "name": "python2"
  },
  "language_info": {
   "codemirror_mode": {
    "name": "ipython",
    "version": 2
   },
   "file_extension": ".py",
   "mimetype": "text/x-python",
   "name": "python",
   "nbconvert_exporter": "python",
   "pygments_lexer": "ipython2",
   "version": "2.7.13"
  }
 },
 "nbformat": 4,
 "nbformat_minor": 2
}
