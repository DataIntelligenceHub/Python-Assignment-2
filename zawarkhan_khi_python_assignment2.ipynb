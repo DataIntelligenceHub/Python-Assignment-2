{
 "cells": [
  {
   "cell_type": "code",
   "execution_count": 11,
   "metadata": {
    "collapsed": false,
    "deletable": true,
    "editable": true
   },
   "outputs": [
    {
     "name": "stdout",
     "output_type": "stream",
     "text": [
      "                       Date   id     Time Age Sex  ConsultingDoctor  \\\n",
      "0  Sunday, January 01, 2017  101    11:00  40   F     Dr Kinza Alam   \n",
      "1  Monday, January 02, 2017  150  10:45AM  26   M     Nursing Staff   \n",
      "2  Monday, January 02, 2017   58  12:38PM  30   F  Dr Riffat Naheed   \n",
      "3  Monday, January 02, 2017   75   1:00PM  40   M  Dr Riffat Naheed   \n",
      "4  Monday, January 02, 2017   97   2:45PM  27   M  Dr Riffat Naheed   \n",
      "\n",
      "         Specialty     Procedure TotalCharges  AmountReceived AmountBalance  \\\n",
      "0            Gynae     C Section        30000         30000.0          -      \n",
      "1              NaN      Dressing         1500          1500.0          -      \n",
      "2  Psychotherapist  Consultation         1000          1000.0          -      \n",
      "3  Psychotherapist  Consultation         1500          1500.0          -      \n",
      "4  Psychotherapist  Consultation         2000          2000.0          -      \n",
      "\n",
      "  AmountReceivedBy  AmountinHospital ReceptionistName NextApt  \n",
      "0      Mrs Shamsa                NaN            Hamza     NaN  \n",
      "1       Dr Saniya                NaN            Haris     NaN  \n",
      "2      Mrs Shamsa              300.0             Fiza     NaN  \n",
      "3      Mrs Shamsa              450.0           Zaheer     NaN  \n",
      "4      Mrs Shamsa              600.0            Haris     NaN  \n"
     ]
    }
   ],
   "source": [
    "import pandas as pd \n",
    "import numpy as np\n",
    "import time\n",
    "#import matplotlib.pyplot as plt\n",
    "\n",
    "ds=pd.read_csv(\"/home/zawar/Desktop/Python_And_R_02_Assignment/hospitaldata.csv\") \n",
    "\n",
    "# Q1 displaying column name without ...\n",
    "ds.columns = ds.columns.str.replace('[.]','')\n",
    "print(ds.head())\n",
    "\n",
    "def function1(par):\n",
    "    par = par.replace(\"?\", np.nan)\n",
    "    par = par.replace(\"nan\", np.nan)\n",
    "    par = par.replace([\"\\tno\",\"\\tyes\",\" \",\"?\",\"\\t\",\"\\t?\",\"-\",\"Cancelled\"],float('nan'))\n",
    "    return par\n",
    "\n",
    "ds=function1(ds)\n",
    "\n",
    "ds.Sex = ds.Sex.replace([\"\\tno\",\"\\tyes\",\" \",\"?\",\"\\t\",\"\\t?\",\"-\",\"Cancelled\"],str('nan'))\n",
    "#\n",
    "ds.Specialty = ds.Specialty.replace([\"\\tno\",\"\\tyes\",\" \",\"?\",\"\\t\",\"\\t?\",\"-\",\"Cancelled\"],str('nan'))\n",
    "#\n",
    "ds.Procedure = ds.Procedure.replace([\"\\tno\",\"\\tyes\",\" \",\"?\",\"\\t\",\"\\t?\",\"-\",\"Cancelled\"],str('nan'))\n",
    "#\n",
    "ds.TotalCharges = ds.TotalCharges.replace([\"\\tno\",\"\\tyes\",\" \",\"?\",\"\\t\",\"\\t?\",\"-\",\"Cancelled\"],float('nan'))\n",
    "ds.TotalCharges = ds.TotalCharges.astype(float)\n",
    "ds.TotalCharges = ds.TotalCharges.fillna(0)\n",
    "#\n",
    "ds.AmountReceived = ds.AmountReceived.replace([\"\\tno\",\"\\tyes\",\" \",\"?\",\"\\t\",\"\\t?\",\"-\",\"Cancelled\"],float('nan'))\n",
    "ds.AmountReceived = ds.AmountReceived.astype(float)\n",
    "ds.AmountReceived = ds.AmountReceived.fillna(0)\n",
    "#\n",
    "ds.replace(to_replace = ds.AmountBalance.unique()[0], value=np.nan, inplace=True)\n",
    "ds.AmountBalance=ds.AmountBalance.map(lambda x: str(x).replace(',',''))\n",
    "ds.AmountBalance = ds.AmountBalance.astype(float)\n",
    "#\n",
    "ds.AmountReceivedBy = ds.AmountReceivedBy.replace([\"\\tno\",\"\\tyes\",\" \",\"?\",\"\\t\",\"\\t?\",\"-\",\"Cancelled\"],str('nan'))\n",
    "#\n",
    "ds.AmountinHospital = ds.AmountinHospital.replace([\"\\tno\",\"\\tyes\",\" \",\"?\",\"\\t\",\"\\t?\",\"-\",\"Cancelled\"],float('nan'))\n",
    "ds.AmountinHospital = ds.AmountinHospital.astype(float)\n",
    "ds.AmountinHospital = ds.AmountinHospital.fillna(0)\n",
    "#\n",
    "ds.ReceptionistName = ds.ReceptionistName.replace([\"\\tno\",\"\\tyes\",\" \",\"?\",\"\\t\",\"\\t?\",\"-\",\"Cancelled\"],str('nan'))\n",
    "#\n",
    "ds.Age = ds.Age.replace([\"6M\"],round(6/12))\n",
    "ds.Age = ds.Age.replace([\"28M\"],round(28/12))\n"
   ]
  },
  {
   "cell_type": "code",
   "execution_count": 12,
   "metadata": {
    "collapsed": false,
    "deletable": true,
    "editable": true
   },
   "outputs": [
    {
     "name": "stdout",
     "output_type": "stream",
     "text": [
      "Monday       51\n",
      "Wednesday    43\n",
      "Tuesday      42\n",
      "Thursday     33\n",
      "Friday       26\n",
      "Saturday     20\n",
      "Sunday        7\n",
      "Name: Date, dtype: int64\n"
     ]
    }
   ],
   "source": [
    "# Q2\n",
    "#count = collections.Counter(arr)\n",
    "#arr = np.array(ds[\"Date\"])\n",
    "#unique, counts = np.unique(arr, return_counts=True)\n",
    "#dict(zip(unique, counts))\n",
    "ds.Date=pd.to_datetime(ds.Date)\n",
    "vists=ds.Date.dt.weekday_name.value_counts()\n",
    "print(vists)"
   ]
  },
  {
   "cell_type": "code",
   "execution_count": 13,
   "metadata": {
    "collapsed": false,
    "deletable": true,
    "editable": true
   },
   "outputs": [
    {
     "name": "stdout",
     "output_type": "stream",
     "text": [
      "28.0\n"
     ]
    }
   ],
   "source": [
    "#Q3 Avg Age of Patients\n",
    "ds.Age = pd.to_numeric(ds.Age,errors='coerce')\n",
    "ds.Age = ds.Age.fillna(0)\n",
    "print(round(ds.Age.mean(),0))"
   ]
  },
  {
   "cell_type": "code",
   "execution_count": 14,
   "metadata": {
    "collapsed": false,
    "deletable": true,
    "editable": true
   },
   "outputs": [
    {
     "name": "stdout",
     "output_type": "stream",
     "text": [
      "24\n"
     ]
    }
   ],
   "source": [
    "#Q4 No of Children entertained\n",
    "children_count = 0\n",
    "for i in range(0,len(ds.Age)):\n",
    "    if(ds.Age[i] >= 1 and ds.Age[i] <= 12):\n",
    "        children_count +=1\n",
    "print(children_count)\n"
   ]
  },
  {
   "cell_type": "code",
   "execution_count": 15,
   "metadata": {
    "collapsed": false,
    "deletable": true,
    "editable": true
   },
   "outputs": [
    {
     "name": "stdout",
     "output_type": "stream",
     "text": [
      "('For Male most Procedure Used are:', 'Consultation')\n",
      "('For Female most Procedure Used are:', 'Consultation')\n"
     ]
    }
   ],
   "source": [
    "#Q5 gender type having which procedure in abundance\n",
    "\n",
    "for i in range(0,len(ds.Procedure)):\n",
    "    if  ds.Sex[i] == \"M\":\n",
    "        A=ds['Procedure'].value_counts().index.tolist()[0]\n",
    "    elif ds.Sex[i] == \"F\":\n",
    "        B= ds['Procedure'].value_counts().index.tolist()[0]\n",
    "print(\"For Male most Procedure Used are:\",A)\n",
    "print(\"For Female most Procedure Used are:\",B)"
   ]
  },
  {
   "cell_type": "code",
   "execution_count": 16,
   "metadata": {
    "collapsed": false,
    "deletable": true,
    "editable": true
   },
   "outputs": [
    {
     "name": "stdout",
     "output_type": "stream",
     "text": [
      "('Doctor name:', 'Dr Alaf Khan', 'Earns:', 513050.0)\n"
     ]
    }
   ],
   "source": [
    "#Q6\n",
    "#ds.TotalCharges = pd.to_numeric(ds.TotalCharges,errors=coerce)\n",
    "#ds.TotalCharges = ds.TotalCharges.fillna(0)\n",
    "#print ds.TotalCharges\n",
    "#ds.TotalCharges = ds.TotalCharges.astype(float)\n",
    "#ds.TotalCharges = ds.TotalCharges.fillna(0)\n",
    "maxv = 0\n",
    "list1 =[]\n",
    "list2 ={}\n",
    "list1=ds.ConsultingDoctor\n",
    "list1=list1.unique()\n",
    "for i in range(0,len(list1)):\n",
    "    suming = 0\n",
    "    for j in range(0,len(ds.ConsultingDoctor)):\n",
    "        if list1[i] == ds.ConsultingDoctor[j]:\n",
    "            suming += ds.TotalCharges[j]\n",
    "            list2[list1[i]]=suming\n",
    "            if suming > maxv:\n",
    "                maxv = suming  \n",
    "    #print(list1[i],\"Earning:\",suming)\n",
    "print(\"Doctor name:\",max(list2, key=list2.get),\"Earns:\",maxv)"
   ]
  },
  {
   "cell_type": "code",
   "execution_count": 17,
   "metadata": {
    "collapsed": false,
    "deletable": true,
    "editable": true
   },
   "outputs": [
    {
     "name": "stdout",
     "output_type": "stream",
     "text": [
      "('Procedure name:', 'Orthodontics', 'Earns:', 240000.0)\n"
     ]
    }
   ],
   "source": [
    "#Q7 which procedure earns more money\n",
    "#ds.TotalCharges = ds.TotalCharges.astype(float)\n",
    "#ds.TotalCharges = ds.TotalCharges.fillna(0)\n",
    "maxv1 = 0\n",
    "list3 =[]\n",
    "list4 ={}\n",
    "list3=ds.Procedure\n",
    "list3=list3.unique()\n",
    "for i in range(0,len(list3)):\n",
    "    suming1 = 0\n",
    "    for j in range(0,len(ds.Procedure)):\n",
    "        if list3[i] == ds.Procedure[j]:\n",
    "            suming1 += ds.TotalCharges[j]\n",
    "            list4[list3[i]]=suming1\n",
    "            if suming1 > maxv1:\n",
    "                maxv1 = suming1               \n",
    "    #print(list3[i],\"Earning:\",suming1)\n",
    "print(\"Procedure name:\",max(list4, key=list4.get),\"Earns:\",maxv1)\n",
    "#print(maxv1)"
   ]
  },
  {
   "cell_type": "code",
   "execution_count": 18,
   "metadata": {
    "collapsed": false,
    "deletable": true,
    "editable": true
   },
   "outputs": [
    {
     "name": "stdout",
     "output_type": "stream",
     "text": [
      "13.0    29\n",
      "18.0    23\n",
      "15.0    20\n",
      "14.0    20\n",
      "12.0    20\n",
      "17.0    16\n",
      "16.0    15\n",
      "19.0    14\n",
      "11.0    10\n",
      "20.0     8\n",
      "10.0     6\n",
      "21.0     5\n",
      "22.0     4\n",
      "9.0      2\n",
      "23.0     2\n",
      "Name: Time, dtype: int64\n"
     ]
    }
   ],
   "source": [
    "#Q8\n",
    "a=pd.to_datetime(ds[\"Time\"],errors='coerce')\n",
    "print((a.dt.hour.value_counts()))\n"
   ]
  },
  {
   "cell_type": "code",
   "execution_count": 19,
   "metadata": {
    "collapsed": false,
    "deletable": true,
    "editable": true
   },
   "outputs": [
    {
     "name": "stdout",
     "output_type": "stream",
     "text": [
      "Morning\n",
      "Morning\n",
      "Afternoon\n",
      "Afternoon\n",
      "Afternoon\n",
      "Afternoon\n",
      "Afternoon\n",
      "Afternoon\n",
      "Afternoon\n",
      "Evening\n",
      "Evening\n",
      "Evening\n",
      "Afternoon\n",
      "Afternoon\n",
      "Evening\n",
      "Afternoon\n",
      "Afternoon\n",
      "Afternoon\n",
      "Afternoon\n",
      "Afternoon\n",
      "Afternoon\n",
      "Afternoon\n"
     ]
    },
    {
     "ename": "TypeError",
     "evalue": "can't compare datetime.time to float",
     "output_type": "error",
     "traceback": [
      "\u001b[0;31m---------------------------------------------------------------------------\u001b[0m",
      "\u001b[0;31mTypeError\u001b[0m                                 Traceback (most recent call last)",
      "\u001b[0;32m<ipython-input-19-d2fe7f5617e3>\u001b[0m in \u001b[0;36m<module>\u001b[0;34m()\u001b[0m\n\u001b[1;32m     12\u001b[0m \u001b[0;31m#,format='%H:%M%p'\u001b[0m\u001b[0;34m\u001b[0m\u001b[0;34m\u001b[0m\u001b[0m\n\u001b[1;32m     13\u001b[0m \u001b[0;32mfor\u001b[0m \u001b[0mi\u001b[0m \u001b[0;32min\u001b[0m \u001b[0mrange\u001b[0m\u001b[0;34m(\u001b[0m\u001b[0;36m0\u001b[0m\u001b[0;34m,\u001b[0m\u001b[0mlen\u001b[0m\u001b[0;34m(\u001b[0m\u001b[0ml\u001b[0m\u001b[0;34m)\u001b[0m\u001b[0;34m)\u001b[0m\u001b[0;34m:\u001b[0m\u001b[0;34m\u001b[0m\u001b[0m\n\u001b[0;32m---> 14\u001b[0;31m     \u001b[0;32mif\u001b[0m\u001b[0;34m(\u001b[0m\u001b[0ml\u001b[0m\u001b[0;34m[\u001b[0m\u001b[0mi\u001b[0m\u001b[0;34m]\u001b[0m \u001b[0;34m>=\u001b[0m \u001b[0msix\u001b[0m \u001b[0;32mand\u001b[0m \u001b[0ml\u001b[0m\u001b[0;34m[\u001b[0m\u001b[0mi\u001b[0m\u001b[0;34m]\u001b[0m \u001b[0;34m<=\u001b[0m \u001b[0mtwelve\u001b[0m\u001b[0;34m)\u001b[0m\u001b[0;34m:\u001b[0m\u001b[0;34m\u001b[0m\u001b[0m\n\u001b[0m\u001b[1;32m     15\u001b[0m         \u001b[0;32mprint\u001b[0m\u001b[0;34m(\u001b[0m\u001b[0;34m\"Morning\"\u001b[0m\u001b[0;34m)\u001b[0m\u001b[0;34m\u001b[0m\u001b[0m\n\u001b[1;32m     16\u001b[0m     \u001b[0;32melif\u001b[0m\u001b[0;34m(\u001b[0m\u001b[0ml\u001b[0m\u001b[0;34m[\u001b[0m\u001b[0mi\u001b[0m\u001b[0;34m]\u001b[0m \u001b[0;34m>=\u001b[0m \u001b[0mtwelve\u001b[0m \u001b[0;32mand\u001b[0m \u001b[0ml\u001b[0m\u001b[0;34m[\u001b[0m\u001b[0mi\u001b[0m\u001b[0;34m]\u001b[0m \u001b[0;34m<=\u001b[0m \u001b[0mfour\u001b[0m\u001b[0;34m)\u001b[0m\u001b[0;34m:\u001b[0m\u001b[0;34m\u001b[0m\u001b[0m\n",
      "\u001b[0;31mTypeError\u001b[0m: can't compare datetime.time to float"
     ]
    }
   ],
   "source": [
    "#Q9\n",
    "import datetime\n",
    "#ds.Time = pd.to_datetime(ds.Time,'%H:%M%p')\n",
    "l = pd.to_datetime(ds.Time,errors='coerce')\n",
    "l = l.dt.time\n",
    "#print(l[4])\n",
    "six = datetime.datetime.strptime('06:00','%I:%M').time()\n",
    "twelve = datetime.datetime.strptime('12:00','%H:%M').time()\n",
    "four = datetime.datetime.strptime('16:00','%H:%M').time()\n",
    "seven = datetime.datetime.strptime('19:00','%H:%M').time()\n",
    "#.strftime('%I:%M %p')\n",
    "#,format='%H:%M%p'\n",
    "for i in range(0,len(l)):\n",
    "    if(l[i] >= six and l[i] <= twelve):\n",
    "        print(\"Morning\")\n",
    "    elif(l[i] >= twelve and l[i] <= four):\n",
    "        print(\"Afternoon\")\n",
    "    elif(l[i] >= four and l[i] <= seven):\n",
    "        print(\"Evening\")\n",
    "    elif(l[i] >= seven and l[i] <= six):\n",
    "        print(\"Night\")\n"
   ]
  },
  {
   "cell_type": "code",
   "execution_count": 20,
   "metadata": {
    "collapsed": false,
    "deletable": true,
    "editable": true
   },
   "outputs": [
    {
     "name": "stdout",
     "output_type": "stream",
     "text": [
      "id\n",
      "1      12\n",
      "46      5\n",
      "122     5\n",
      "140     4\n",
      "94      4\n",
      "17      4\n",
      "45      3\n",
      "101     3\n",
      "63      3\n",
      "132     3\n",
      "114     3\n",
      "109     3\n",
      "107     3\n",
      "145     3\n",
      "20      2\n",
      "97      2\n",
      "59      2\n",
      "88      2\n",
      "96      2\n",
      "112     2\n",
      "116     2\n",
      "118     2\n",
      "25      2\n",
      "80      2\n",
      "120     2\n",
      "40      2\n",
      "100     2\n",
      "64      2\n",
      "4       2\n",
      "133     2\n",
      "12      2\n",
      "13      2\n",
      "150     2\n",
      "149     2\n",
      "151     2\n",
      "130     2\n",
      "153     2\n",
      "Name: id, dtype: int64\n"
     ]
    }
   ],
   "source": [
    "#Q10 patients visiting more than once\n",
    "list1=[]\n",
    "list1 = ds.id.value_counts()\n",
    "#a = filter(lambda x: x > 0, list1)\n",
    "list1 = list1[list1>1]\n",
    "print(\"id\")\n",
    "print(list1)"
   ]
  },
  {
   "cell_type": "code",
   "execution_count": 21,
   "metadata": {
    "collapsed": false,
    "deletable": true,
    "editable": true
   },
   "outputs": [
    {
     "name": "stdout",
     "output_type": "stream",
     "text": [
      "id\n",
      "1      12\n",
      "46      5\n",
      "122     5\n",
      "140     4\n",
      "94      4\n",
      "17      4\n",
      "45      3\n",
      "101     3\n",
      "63      3\n",
      "132     3\n",
      "114     3\n",
      "109     3\n",
      "107     3\n",
      "145     3\n",
      "20      2\n",
      "97      2\n",
      "59      2\n",
      "88      2\n",
      "96      2\n",
      "112     2\n",
      "116     2\n",
      "118     2\n",
      "25      2\n",
      "80      2\n",
      "120     2\n",
      "40      2\n",
      "100     2\n",
      "64      2\n",
      "4       2\n",
      "133     2\n",
      "12      2\n",
      "13      2\n",
      "150     2\n",
      "149     2\n",
      "151     2\n",
      "130     2\n",
      "153     2\n",
      "Name: id, dtype: int64\n"
     ]
    }
   ],
   "source": [
    "#Q11 patients visiting more than once\n",
    "list1=[]\n",
    "list1 = ds.id.value_counts()\n",
    "list1 = list1[list1>1]\n",
    "print(\"id\")\n",
    "print(list1)"
   ]
  },
  {
   "cell_type": "code",
   "execution_count": 22,
   "metadata": {
    "collapsed": false,
    "deletable": true,
    "editable": true
   },
   "outputs": [
    {
     "name": "stdout",
     "output_type": "stream",
     "text": [
      "id   Procedure                     \n",
      "1    Pharmacy                          10\n",
      "12   22 Unit Bridge                     2\n",
      "13   Consultation                       2\n",
      "17   Consultation                       2\n",
      "     RCT (4 teeth) Bridge (9 teeth)     2\n",
      "20   Consultation                       2\n",
      "25   Consultation                       2\n",
      "45   R.P.D + Crown                      2\n",
      "46   Dressing                           4\n",
      "63   Consultation                       2\n",
      "80   Consultation                       2\n",
      "94   Injection                          3\n",
      "97   Consultation                       2\n",
      "101  C Section                          2\n",
      "109  R.C.T                              2\n",
      "112  Operation                          2\n",
      "114  Consultation                       3\n",
      "116  X Ray                              2\n",
      "122  Injection                          5\n",
      "130  Consultation                       2\n",
      "140  4 Unit Bridge                      2\n",
      "145  Crown                              3\n",
      "151  R.C.T+Scalling+Crown               2\n",
      "153  Orthodontics                       2\n",
      "dtype: int64\n"
     ]
    }
   ],
   "source": [
    "#Q12  Which patients visited again for the same problem\n",
    "dlist=[]\n",
    "dlist=ds.groupby([\"id\", \"Procedure\"]).size()\n",
    "dlist=dlist[dlist>1]\n",
    "print(dlist)"
   ]
  },
  {
   "cell_type": "code",
   "execution_count": 23,
   "metadata": {
    "collapsed": false,
    "deletable": true,
    "editable": true
   },
   "outputs": [
    {
     "name": "stdout",
     "output_type": "stream",
     "text": [
      "('Median of Male:', 27.0)\n",
      "('Median of Female:', 30.0)\n"
     ]
    }
   ],
   "source": [
    "#Q13\n",
    "M=ds.Age[ds.Sex=='M'].median()\n",
    "F=ds.Age[ds.Sex=='F'].median()\n",
    "print(\"Median of Male:\",M)\n",
    "print(\"Median of Female:\",F)"
   ]
  },
  {
   "cell_type": "code",
   "execution_count": 24,
   "metadata": {
    "collapsed": false,
    "deletable": true,
    "editable": true
   },
   "outputs": [
    {
     "name": "stdout",
     "output_type": "stream",
     "text": [
      "222500.0\n"
     ]
    }
   ],
   "source": [
    "#Q14//\n",
    "#ds.replace(to_replace = ds.AmountBalance.unique()[0], value=np.nan, inplace=True)\n",
    "#ds.AmountBalance=ds.AmountBalance.map(lambda x: str(x).replace(',',''))\n",
    "#ds.AmountBalance = ds.AmountBalance.astype(float)\n",
    "print(ds.AmountBalance.sum())"
   ]
  },
  {
   "cell_type": "code",
   "execution_count": 25,
   "metadata": {
    "collapsed": false,
    "deletable": true,
    "editable": true
   },
   "outputs": [
    {
     "name": "stdout",
     "output_type": "stream",
     "text": [
      "('Earned by Consultation', 83950.0)\n"
     ]
    }
   ],
   "source": [
    "#Q15\n",
    "ds.TotalCharges = ds.TotalCharges.astype(float)\n",
    "ds.TotalCharges = ds.TotalCharges.fillna(0)\n",
    "count = 0\n",
    "for i in range(0,len(ds.Procedure)):\n",
    "    if(ds.Procedure[i] == \"Consultation\"):\n",
    "        count = count + ds.TotalCharges[i]\n",
    "print(\"Earned by Consultation\",count)\n",
    "    "
   ]
  },
  {
   "cell_type": "code",
   "execution_count": 26,
   "metadata": {
    "collapsed": false,
    "deletable": true,
    "editable": true
   },
   "outputs": [
    {
     "name": "stdout",
     "output_type": "stream",
     "text": [
      "                   Age  TotalCharges\n",
      "Age           1.000000      0.070134\n",
      "TotalCharges  0.070134      1.000000\n"
     ]
    }
   ],
   "source": [
    "#Q16 correlation between Age and total charges\n",
    "#ds.TotalCharges = ds.TotalCharges.astype(float)\n",
    "#ds.TotalCharges = ds.TotalCharges.fillna(0)\n",
    "print(ds.loc[:,[\"Age\",\"TotalCharges\"]].corr())"
   ]
  },
  {
   "cell_type": "code",
   "execution_count": 27,
   "metadata": {
    "collapsed": false,
    "deletable": true,
    "editable": true
   },
   "outputs": [
    {
     "name": "stdout",
     "output_type": "stream",
     "text": [
      "('Age group with heigst no of vists:', <bound method Series.idxmax of 0.0     29\n",
      "30.0    20\n",
      "40.0    11\n",
      "26.0    11\n",
      "17.0     9\n",
      "28.0     8\n",
      "50.0     7\n",
      "45.0     7\n",
      "3.0      7\n",
      "29.0     6\n",
      "39.0     6\n",
      "23.0     6\n",
      "60.0     5\n",
      "27.0     5\n",
      "13.0     4\n",
      "76.0     4\n",
      "32.0     4\n",
      "6.0      4\n",
      "2.0      4\n",
      "25.0     3\n",
      "19.0     3\n",
      "9.0      3\n",
      "10.0     3\n",
      "21.0     3\n",
      "53.0     3\n",
      "38.0     3\n",
      "20.0     3\n",
      "55.0     3\n",
      "48.0     2\n",
      "35.0     2\n",
      "54.0     2\n",
      "57.0     2\n",
      "24.0     2\n",
      "22.0     2\n",
      "34.0     2\n",
      "52.0     2\n",
      "78.0     2\n",
      "42.0     2\n",
      "43.0     1\n",
      "36.0     1\n",
      "14.0     1\n",
      "18.0     1\n",
      "75.0     1\n",
      "65.0     1\n",
      "64.0     1\n",
      "80.0     1\n",
      "70.0     1\n",
      "8.0      1\n",
      "7.0      1\n",
      "5.0      1\n",
      "31.0     1\n",
      "49.0     1\n",
      "47.0     1\n",
      "58.0     1\n",
      "33.0     1\n",
      "56.0     1\n",
      "Name: Age, dtype: int64>)\n"
     ]
    }
   ],
   "source": [
    "#Q17 max age group\n",
    "max_age=[]\n",
    "ds.Age = ds.Age.replace(\"Nan\",\"\")\n",
    "max_age = ds.Age.value_counts().idxmax\n",
    "print(\"Age group with heigst no of vists:\",max_age)"
   ]
  },
  {
   "cell_type": "code",
   "execution_count": 28,
   "metadata": {
    "collapsed": false,
    "deletable": true,
    "editable": true
   },
   "outputs": [
    {
     "name": "stdout",
     "output_type": "stream",
     "text": [
      "('sum of cost earned by X-Ray and Scalling:', 22300.0)\n"
     ]
    }
   ],
   "source": [
    "#Q18\n",
    "ds.TotalCharges = ds.TotalCharges.astype(float)\n",
    "ds.TotalCharges = ds.TotalCharges.fillna(0)\n",
    "count1 = 0\n",
    "count2 = 0\n",
    "sum1 = 0\n",
    "for i in range(0,len(ds.Procedure)):\n",
    "    if(ds.Procedure[i] == \"X Ray\"):\n",
    "        count1 = count1 + ds.TotalCharges[i]\n",
    "    elif(ds.Procedure[i] == \"Scalling\"):\n",
    "        count2 = count2 + ds.TotalCharges[i]\n",
    "\n",
    "sum1 = count1 + count2\n",
    "print(\"sum of cost earned by X-Ray and Scalling:\",sum1)"
   ]
  },
  {
   "cell_type": "code",
   "execution_count": 30,
   "metadata": {
    "collapsed": true
   },
   "outputs": [],
   "source": [
    "ds.to_csv(\"/home/zawar/Desktop/FinalAss2/updated_hospital.csv\",sep=\",\",index=False)"
   ]
  }
 ],
 "metadata": {
  "kernelspec": {
   "display_name": "Python 2",
   "language": "python",
   "name": "python2"
  },
  "language_info": {
   "codemirror_mode": {
    "name": "ipython",
    "version": 2
   },
   "file_extension": ".py",
   "mimetype": "text/x-python",
   "name": "python",
   "nbconvert_exporter": "python",
   "pygments_lexer": "ipython2",
   "version": "2.7.6"
  }
 },
 "nbformat": 4,
 "nbformat_minor": 2
}
