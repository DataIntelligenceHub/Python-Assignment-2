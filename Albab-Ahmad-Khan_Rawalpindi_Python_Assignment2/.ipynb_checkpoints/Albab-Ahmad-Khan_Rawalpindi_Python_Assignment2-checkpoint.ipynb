{
 "cells": [
  {
   "cell_type": "markdown",
   "metadata": {},
   "source": [
    "# Question no.1 \n",
    "Please remove the dots in the names, so it may become easier for you to work through it. "
   ]
  },
  {
   "cell_type": "code",
   "execution_count": 4,
   "metadata": {
    "collapsed": false,
    "scrolled": true
   },
   "outputs": [
    {
     "name": "stdout",
     "output_type": "stream",
     "text": [
      "['Date', 'id', 'Time', 'Age', 'Sex', 'Consulting..Doctor', 'Specialty', 'Procedure', 'Total..Charges', 'Amount..Received.', 'Amount..Balance', 'Amount.Received.By', 'Amount.in.Hospital', 'Receptionist..Name', 'Next.Apt']\n",
      "\n",
      "\n",
      "Index([u'Date', u'id', u'Time', u'Age', u'Sex', u'Consulting  Doctor',\n",
      "       u'Specialty', u'Procedure', u'Total  Charges', u'Amount  Received ',\n",
      "       u'Amount  Balance', u'Amount Received By', u'Amount in Hospital',\n",
      "       u'Receptionist  Name', u'Next Apt'],\n",
      "      dtype='object')\n"
     ]
    }
   ],
   "source": [
    "import pandas as pd\n",
    "import csv\n",
    "data= pd.read_csv(\"hospitaldata.csv\")\n",
    "print list(data)\n",
    "print (\"\\n\")\n",
    "datarename = data.columns.str.replace(\".\",\" \")\n",
    "print datarename\n",
    "# u is not a part of data,"
   ]
  },
  {
   "cell_type": "markdown",
   "metadata": {},
   "source": [
    "# Question no.2 \n",
    " Which day of the week is expected to have most visits?"
   ]
  },
  {
   "cell_type": "code",
   "execution_count": 1,
   "metadata": {
    "collapsed": true
   },
   "outputs": [],
   "source": [
    "import pandas as pd\n",
    "import datetime\n",
    "\n"
   ]
  },
  {
   "cell_type": "markdown",
   "metadata": {},
   "source": [
    "# Question no. 3\n",
    "What is the average age of patients?"
   ]
  },
  {
   "cell_type": "code",
   "execution_count": 28,
   "metadata": {
    "collapsed": false
   },
   "outputs": [
    {
     "name": "stdout",
     "output_type": "stream",
     "text": [
      "0       40\n",
      "1       26\n",
      "2       30\n",
      "3       40\n",
      "4       27\n",
      "5       40\n",
      "6       43\n",
      "7       28\n",
      "8        2\n",
      "9       40\n",
      "10      32\n",
      "11      28\n",
      "12      76\n",
      "13      75\n",
      "14      36\n",
      "15      42\n",
      "16      23\n",
      "17      48\n",
      "18      25\n",
      "19      50\n",
      "20      60\n",
      "21      NA\n",
      "22      NA\n",
      "23      26\n",
      "24      27\n",
      "25      NA\n",
      "26      57\n",
      "27     NaN\n",
      "28      39\n",
      "29       6\n",
      "      ... \n",
      "192     45\n",
      "193     17\n",
      "194     22\n",
      "195     30\n",
      "196     17\n",
      "197     38\n",
      "198     17\n",
      "199     34\n",
      "200     28\n",
      "201     78\n",
      "202     56\n",
      "203     53\n",
      "204     21\n",
      "205     17\n",
      "206    NaN\n",
      "207     78\n",
      "208      3\n",
      "209     76\n",
      "210      9\n",
      "211     32\n",
      "212    NaN\n",
      "213     NA\n",
      "214     24\n",
      "215      3\n",
      "216     76\n",
      "217    NaN\n",
      "218     39\n",
      "219     30\n",
      "220     76\n",
      "221     45\n",
      "Name: Age, dtype: object\n",
      "32.734375\n"
     ]
    }
   ],
   "source": [
    "import pandas as pd\n",
    "import numpy as np\n",
    "df = data\n",
    "x= df['Age'] \n",
    "print x.replace(\"-\", \"NA\")\n",
    "xupdated = pd.to_numeric(x, errors='coerce')\n",
    "print np.mean(xupdated)"
   ]
  },
  {
   "cell_type": "markdown",
   "metadata": {},
   "source": [
    "# Question no. 4\n",
    "How many children were entertained? (Make a Bracket of Age from 1-12)"
   ]
  },
  {
   "cell_type": "code",
   "execution_count": 55,
   "metadata": {
    "collapsed": false
   },
   "outputs": [
    {
     "name": "stdout",
     "output_type": "stream",
     "text": [
      "0       40\n",
      "1       26\n",
      "2       30\n",
      "3       40\n",
      "4       27\n",
      "5       40\n",
      "6       43\n",
      "7       28\n",
      "8        2\n",
      "9       40\n",
      "10      32\n",
      "11      28\n",
      "12      76\n",
      "13      75\n",
      "14      36\n",
      "15      42\n",
      "16      23\n",
      "17      48\n",
      "18      25\n",
      "19      50\n",
      "20      60\n",
      "21       -\n",
      "22       -\n",
      "23      26\n",
      "24      27\n",
      "25       -\n",
      "26      57\n",
      "27     NaN\n",
      "28      39\n",
      "29       6\n",
      "      ... \n",
      "192     45\n",
      "193     17\n",
      "194     22\n",
      "195     30\n",
      "196     17\n",
      "197     38\n",
      "198     17\n",
      "199     34\n",
      "200     28\n",
      "201     78\n",
      "202     56\n",
      "203     53\n",
      "204     21\n",
      "205     17\n",
      "206    NaN\n",
      "207     78\n",
      "208      3\n",
      "209     76\n",
      "210      9\n",
      "211     32\n",
      "212    NaN\n",
      "213      -\n",
      "214     24\n",
      "215      3\n",
      "216     76\n",
      "217    NaN\n",
      "218     39\n",
      "219     30\n",
      "220     76\n",
      "221     45\n",
      "Name: Age, dtype: object\n"
     ]
    },
    {
     "ename": "TypeError",
     "evalue": "to_numeric() got an unexpected keyword argument 'error'",
     "output_type": "error",
     "traceback": [
      "\u001b[1;31m---------------------------------------------------------------------------\u001b[0m",
      "\u001b[1;31mTypeError\u001b[0m                                 Traceback (most recent call last)",
      "\u001b[1;32m<ipython-input-55-25b97d433452>\u001b[0m in \u001b[0;36m<module>\u001b[1;34m()\u001b[0m\n\u001b[0;32m      2\u001b[0m \u001b[1;32mprint\u001b[0m \u001b[0mdf\u001b[0m\u001b[1;33m[\u001b[0m\u001b[1;34m'Age'\u001b[0m\u001b[1;33m]\u001b[0m\u001b[1;33m\u001b[0m\u001b[0m\n\u001b[0;32m      3\u001b[0m \u001b[1;31m#print x.replace(\"-\", \"NA\")\u001b[0m\u001b[1;33m\u001b[0m\u001b[1;33m\u001b[0m\u001b[0m\n\u001b[1;32m----> 4\u001b[1;33m \u001b[1;32mprint\u001b[0m \u001b[0mlen\u001b[0m\u001b[1;33m(\u001b[0m\u001b[0mlist\u001b[0m\u001b[1;33m(\u001b[0m\u001b[0mfilter\u001b[0m\u001b[1;33m(\u001b[0m\u001b[1;32mlambda\u001b[0m \u001b[0mx\u001b[0m\u001b[1;33m:\u001b[0m \u001b[0mx\u001b[0m \u001b[1;33m<\u001b[0m \u001b[1;36m12\u001b[0m\u001b[1;33m,\u001b[0m \u001b[0mpd\u001b[0m\u001b[1;33m.\u001b[0m\u001b[0mto_numeric\u001b[0m\u001b[1;33m(\u001b[0m\u001b[0mdf\u001b[0m\u001b[1;33m[\u001b[0m\u001b[1;34m'Age'\u001b[0m\u001b[1;33m]\u001b[0m\u001b[1;33m,\u001b[0m \u001b[0merror\u001b[0m\u001b[1;33m=\u001b[0m\u001b[1;34m'coerce'\u001b[0m \u001b[1;33m)\u001b[0m\u001b[1;33m)\u001b[0m\u001b[1;33m)\u001b[0m\u001b[1;33m)\u001b[0m\u001b[1;33m\u001b[0m\u001b[0m\n\u001b[0m\u001b[0;32m      5\u001b[0m \u001b[1;33m\u001b[0m\u001b[0m\n",
      "\u001b[1;31mTypeError\u001b[0m: to_numeric() got an unexpected keyword argument 'error'"
     ]
    }
   ],
   "source": [
    "df = data\n",
    "#print x.replace(\"-\", \"NA\")\n",
    "print len(list(filter(lambda x: x < 12, pd.to_numeric(df['Age'], error='coerce' ))))\n",
    "\n"
   ]
  }
 ],
 "metadata": {
  "kernelspec": {
   "display_name": "Python 2",
   "language": "python",
   "name": "python2"
  },
  "language_info": {
   "codemirror_mode": {
    "name": "ipython",
    "version": 2
   },
   "file_extension": ".py",
   "mimetype": "text/x-python",
   "name": "python",
   "nbconvert_exporter": "python",
   "pygments_lexer": "ipython2",
   "version": "2.7.13"
  }
 },
 "nbformat": 4,
 "nbformat_minor": 2
}
